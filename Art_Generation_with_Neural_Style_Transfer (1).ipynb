{
  "cells": [
    {
      "cell_type": "markdown",
      "metadata": {
        "id": "7ViErxquNBwH"
      },
      "source": [
        "<a name='1'></a>\n",
        "## 1 - Packages\n",
        "\n",
        "Run the following code cell to import the necessary packages and dependencies you will need to perform Neural Style Transfer."
      ]
    },
    {
      "cell_type": "code",
      "execution_count": null,
      "metadata": {
        "id": "xzQqSd4wNBwI"
      },
      "outputs": [],
      "source": [
        "import os\n",
        "import sys\n",
        "import scipy.io\n",
        "import scipy.misc\n",
        "import matplotlib.pyplot as plt\n",
        "from matplotlib.pyplot import imshow\n",
        "from PIL import Image\n",
        "import numpy as np\n",
        "import tensorflow as tf\n",
        "import pprint\n",
        "from public_tests import *\n",
        "%matplotlib inline"
      ]
    },
    {
      "cell_type": "code",
      "execution_count": null,
      "metadata": {
        "id": "kJcU6gjVNBwJ",
        "outputId": "475685ab-97de-4537-9946-c4d683916ccb"
      },
      "outputs": [
        {
          "name": "stdout",
          "output_type": "stream",
          "text": [
            "<keras.engine.functional.Functional object at 0x7fb428731820>\n"
          ]
        }
      ],
      "source": [
        "tf.random.set_seed(272)\n",
        "pp = pprint.PrettyPrinter(indent=4)\n",
        "img_size = 400\n",
        "vgg = tf.keras.applications.VGG19(include_top=False,\n",
        "                                  input_shape=(img_size, img_size, 3),\n",
        "                                  weights='pretrained-model/vgg19_weights_tf_dim_ordering_tf_kernels_notop.h5')\n",
        "\n",
        "vgg.trainable = False\n",
        "pp.pprint(vgg)"
      ]
    },
    {
      "cell_type": "code",
      "execution_count": null,
      "metadata": {
        "nbgrader": {
          "grade": false,
          "grade_id": "cell-3d3bfd0678816054",
          "locked": false,
          "schema_version": 3,
          "solution": true,
          "task": false
        },
        "id": "Ws3VxRY6NBwL"
      },
      "outputs": [],
      "source": [
        "\n",
        "def compute_content_cost(content_output, generated_output):\n",
        "    \"\"\"\n",
        "    Computes the content cost\n",
        "\n",
        "    Arguments:\n",
        "    a_C -- tensor of dimension (1, n_H, n_W, n_C), hidden layer activations representing content of the image C\n",
        "    a_G -- tensor of dimension (1, n_H, n_W, n_C), hidden layer activations representing content of the image G\n",
        "\n",
        "    Returns:\n",
        "    J_content -- scalar that you compute using equation 1 above.\n",
        "    \"\"\"\n",
        "    a_C = content_output[-1]\n",
        "    a_G = generated_output[-1]\n",
        "\n",
        "\n",
        "    m, n_H, n_W, n_C = a_G.get_shape().as_list()\n",
        "\n",
        "    a_C_unrolled = tf.transpose(tf.reshape(a_C, shape=[m, -1, n_C]))\n",
        "    a_G_unrolled = tf.transpose(tf.reshape(a_G, shape=[m, -1, n_C]))\n",
        "\n",
        "    J_content =  (1 / (4 * n_H * n_W * n_C)) * tf.reduce_sum(tf.subtract(a_C_unrolled, a_G_unrolled)**2)\n",
        "\n",
        "\n",
        "\n",
        "    return J_content"
      ]
    },
    {
      "cell_type": "code",
      "execution_count": null,
      "metadata": {
        "nbgrader": {
          "grade": false,
          "grade_id": "cell-332b0f746ef0069e",
          "locked": false,
          "schema_version": 3,
          "solution": true,
          "task": false
        },
        "id": "CXdebRcaNBwN"
      },
      "outputs": [],
      "source": [
        "\n",
        "def gram_matrix(A):\n",
        "    \"\"\"\n",
        "    Argument:\n",
        "    A -- matrix of shape (n_C, n_H*n_W)\n",
        "\n",
        "    Returns:\n",
        "    GA -- Gram matrix of A, of shape (n_C, n_C)\n",
        "    \"\"\"\n",
        "\n",
        "    GA = tf.matmul(A, A, transpose_b=True)\n",
        "\n",
        "\n",
        "    return GA"
      ]
    },
    {
      "cell_type": "code",
      "execution_count": null,
      "metadata": {
        "nbgrader": {
          "grade": false,
          "grade_id": "cell-8f37df6f128c1f99",
          "locked": false,
          "schema_version": 3,
          "solution": true,
          "task": false
        },
        "id": "sKA53JcHNBwO"
      },
      "outputs": [],
      "source": [
        "\n",
        "def compute_layer_style_cost(a_S, a_G):\n",
        "    \"\"\"\n",
        "    Arguments:\n",
        "    a_S -- tensor of dimension (1, n_H, n_W, n_C), hidden layer activations representing style of the image S\n",
        "    a_G -- tensor of dimension (1, n_H, n_W, n_C), hidden layer activations representing style of the image G\n",
        "\n",
        "    Returns:\n",
        "    J_style_layer -- tensor representing a scalar value, style cost defined above by equation (2)\n",
        "    \"\"\"\n",
        "\n",
        "    m, n_H, n_W, n_C = a_G.get_shape().as_list()\n",
        "\n",
        "    a_S = tf.transpose(tf.reshape(a_S, shape=[-1, n_C]))\n",
        "    a_G = tf.transpose(tf.reshape(a_G, shape=[-1, n_C]))\n",
        "\n",
        "    GS = gram_matrix(a_S)\n",
        "    GG = gram_matrix(a_G)\n",
        "\n",
        "    J_style_layer = (1 / (4 * n_C **2 * (n_H * n_W) **2)) * tf.reduce_sum(tf.subtract(GS, GG)**2)\n",
        "    #J_style_layer = (1 / (4 * tf.square(n_C) * tf.square(n_H * n_W))) * (tf.reduce_sum(tf.square(tf.subtract(GS, GG))))\n",
        "\n",
        "\n",
        "    return J_style_layer"
      ]
    },
    {
      "cell_type": "code",
      "execution_count": null,
      "metadata": {
        "id": "zQp1L3VBNBwP",
        "outputId": "c18b5059-410d-4e78-b7e4-b435a1276e8d"
      },
      "outputs": [
        {
          "name": "stdout",
          "output_type": "stream",
          "text": [
            "input_3\n",
            "block1_conv1\n",
            "block1_conv2\n",
            "block1_pool\n",
            "block2_conv1\n",
            "block2_conv2\n",
            "block2_pool\n",
            "block3_conv1\n",
            "block3_conv2\n",
            "block3_conv3\n",
            "block3_conv4\n",
            "block3_pool\n",
            "block4_conv1\n",
            "block4_conv2\n",
            "block4_conv3\n",
            "block4_conv4\n",
            "block4_pool\n",
            "block5_conv1\n",
            "block5_conv2\n",
            "block5_conv3\n",
            "block5_conv4\n",
            "block5_pool\n"
          ]
        }
      ],
      "source": [
        "for layer in vgg.layers:\n",
        "    print(layer.name)"
      ]
    },
    {
      "cell_type": "code",
      "execution_count": null,
      "metadata": {
        "id": "-mxnNGskNBwP",
        "outputId": "89339f56-a635-46d0-dc6c-43f20e0f469e"
      },
      "outputs": [
        {
          "data": {
            "text/plain": [
              "<KerasTensor: shape=(None, 25, 25, 512) dtype=float32 (created by layer 'block5_conv4')>"
            ]
          },
          "execution_count": 113,
          "metadata": {},
          "output_type": "execute_result"
        }
      ],
      "source": [
        "vgg.get_layer('block5_conv4').output"
      ]
    },
    {
      "cell_type": "markdown",
      "metadata": {
        "id": "aTpvy_VlNBwR"
      },
      "source": [
        "Now choose layers to represent the style of the image and assign style costs:"
      ]
    },
    {
      "cell_type": "code",
      "execution_count": null,
      "metadata": {
        "id": "4NvlnasmNBwR"
      },
      "outputs": [],
      "source": [
        "STYLE_LAYERS = [\n",
        "    ('block1_conv1', 0.2),\n",
        "    ('block2_conv1', 0.2),\n",
        "    ('block3_conv1', 0.2),\n",
        "    ('block4_conv1', 0.2),\n",
        "    ('block5_conv1', 0.2)]"
      ]
    },
    {
      "cell_type": "code",
      "execution_count": null,
      "metadata": {
        "deletable": false,
        "editable": false,
        "id": "e_eFR8PJNBwc"
      },
      "outputs": [],
      "source": [
        "def compute_style_cost(style_image_output, generated_image_output, STYLE_LAYERS=STYLE_LAYERS):\n",
        "    \"\"\"\n",
        "    Computes the overall style cost from several chosen layers\n",
        "\n",
        "    Arguments:\n",
        "    style_image_output -- our tensorflow model\n",
        "    generated_image_output --\n",
        "    STYLE_LAYERS -- A python list containing:\n",
        "                        - the names of the layers we would like to extract style from\n",
        "                        - a coefficient for each of them\n",
        "\n",
        "    Returns:\n",
        "    J_style -- tensor representing a scalar value, style cost defined above by equation (2)\n",
        "    \"\"\"\n",
        "\n",
        "    # initialize the overall style cost\n",
        "    J_style = 0\n",
        "\n",
        "    # Set a_S to be the hidden layer activation from the layer we have selected.\n",
        "    # The last element of the array contains the content layer image, which must not be used.\n",
        "    a_S = style_image_output[:-1]\n",
        "\n",
        "    # Set a_G to be the output of the choosen hidden layers.\n",
        "    # The last element of the list contains the content layer image which must not be used.\n",
        "    a_G = generated_image_output[:-1]\n",
        "    for i, weight in zip(range(len(a_S)), STYLE_LAYERS):\n",
        "        # Compute style_cost for the current layer\n",
        "        J_style_layer = compute_layer_style_cost(a_S[i], a_G[i])\n",
        "\n",
        "        # Add weight * J_style_layer of this layer to overall style cost\n",
        "        J_style += weight[1] * J_style_layer\n",
        "\n",
        "    return J_style"
      ]
    },
    {
      "cell_type": "code",
      "execution_count": null,
      "metadata": {
        "nbgrader": {
          "grade": false,
          "grade_id": "cell-55270d5342632932",
          "locked": false,
          "schema_version": 3,
          "solution": true,
          "task": false
        },
        "id": "V-UuJS7pNBwd"
      },
      "outputs": [],
      "source": [
        "\n",
        "@tf.function()\n",
        "def total_cost(J_content, J_style, alpha = 10, beta = 40):\n",
        "    \"\"\"\n",
        "    Computes the total cost function\n",
        "\n",
        "    Arguments:\n",
        "    J_content -- content cost coded above\n",
        "    J_style -- style cost coded above\n",
        "    alpha -- hyperparameter weighting the importance of the content cost\n",
        "    beta -- hyperparameter weighting the importance of the style cost\n",
        "\n",
        "    Returns:\n",
        "    J -- total cost as defined by the formula above.\n",
        "    \"\"\"\n",
        "\n",
        "    J = alpha*J_content+ beta*J_style\n",
        "\n",
        "\n",
        "    return J\n"
      ]
    },
    {
      "cell_type": "code",
      "execution_count": null,
      "metadata": {
        "id": "8DHsPDhbNBwf"
      },
      "outputs": [],
      "source": [
        "content_image = np.array(Image.open(\"images/cuy1.jpg\").resize((img_size, img_size)))\n",
        "content_image = tf.constant(np.reshape(content_image, ((1,) + content_image.shape)))\n",
        "\n",
        "print(content_image.shape)\n",
        "imshow(content_image[0])\n",
        "plt.show()"
      ]
    },
    {
      "cell_type": "code",
      "execution_count": null,
      "metadata": {
        "id": "Rs7MZq1oNBwf"
      },
      "outputs": [],
      "source": [
        "style_image =  np.array(Image.open(\"images/umi.jpg\").resize((img_size, img_size)))\n",
        "style_image = tf.constant(np.reshape(style_image, ((1,) + style_image.shape)))\n",
        "\n",
        "print(style_image.shape)\n",
        "imshow(style_image[0])\n",
        "plt.show()"
      ]
    },
    {
      "cell_type": "code",
      "execution_count": null,
      "metadata": {
        "id": "dpKjQKoNNBwg"
      },
      "outputs": [],
      "source": [
        "generated_image = tf.Variable(tf.image.convert_image_dtype(content_image, tf.float32))\n",
        "noise = tf.random.uniform(tf.shape(generated_image), -0.25, 0.25)\n",
        "generated_image = tf.add(generated_image, noise)\n",
        "generated_image = tf.clip_by_value(generated_image, clip_value_min=0.0, clip_value_max=1.0)\n",
        "\n",
        "print(generated_image.shape)\n",
        "imshow(generated_image.numpy()[0])\n",
        "plt.show()"
      ]
    },
    {
      "cell_type": "code",
      "execution_count": null,
      "metadata": {
        "id": "lgOb71X_NBwg"
      },
      "outputs": [],
      "source": [
        "def get_layer_outputs(vgg, layer_names):\n",
        "    \"\"\" Creates a vgg model that returns a list of intermediate output values.\"\"\"\n",
        "    outputs = [vgg.get_layer(layer[0]).output for layer in layer_names]\n",
        "\n",
        "    model = tf.keras.Model([vgg.input], outputs)\n",
        "    return model"
      ]
    },
    {
      "cell_type": "code",
      "execution_count": null,
      "metadata": {
        "id": "GGbFBbqzNBwg"
      },
      "outputs": [],
      "source": [
        "content_layer = [('block5_conv4', 1)]\n",
        "\n",
        "vgg_model_outputs = get_layer_outputs(vgg, STYLE_LAYERS + content_layer)"
      ]
    },
    {
      "cell_type": "code",
      "execution_count": null,
      "metadata": {
        "id": "q8jpMqZKNBwh"
      },
      "outputs": [],
      "source": [
        "content_target = vgg_model_outputs(content_image)  # Content encoder\n",
        "style_targets = vgg_model_outputs(style_image)     # Style encoder"
      ]
    },
    {
      "cell_type": "code",
      "execution_count": null,
      "metadata": {
        "id": "N7xiSvpsNBwh"
      },
      "outputs": [],
      "source": [
        "# Assign the input of the model to be the \"style\" image\n",
        "preprocessed_style =  tf.Variable(tf.image.convert_image_dtype(style_image, tf.float32))\n",
        "a_S = vgg_model_outputs(preprocessed_style)"
      ]
    },
    {
      "cell_type": "markdown",
      "metadata": {
        "id": "DmdUOUWWNBwi"
      },
      "source": [
        "Below are the utils that you will need to display the images generated by the style transfer model."
      ]
    },
    {
      "cell_type": "code",
      "execution_count": null,
      "metadata": {
        "id": "sxeQ_GLNNBwk"
      },
      "outputs": [],
      "source": [
        "def clip_0_1(image):\n",
        "    \"\"\"\n",
        "    Truncate all the pixels in the tensor to be between 0 and 1\n",
        "\n",
        "    Arguments:\n",
        "    image -- Tensor\n",
        "    J_style -- style cost coded above\n",
        "\n",
        "    Returns:\n",
        "    Tensor\n",
        "    \"\"\"\n",
        "    return tf.clip_by_value(image, clip_value_min=0.0, clip_value_max=1.0)\n",
        "\n",
        "def tensor_to_image(tensor):\n",
        "    \"\"\"\n",
        "    Converts the given tensor into a PIL image\n",
        "\n",
        "    Arguments:\n",
        "    tensor -- Tensor\n",
        "\n",
        "    Returns:\n",
        "    Image: A PIL image\n",
        "    \"\"\"\n",
        "    tensor = tensor * 255\n",
        "    tensor = np.array(tensor, dtype=np.uint8)\n",
        "    if np.ndim(tensor) > 3:\n",
        "        assert tensor.shape[0] == 1\n",
        "        tensor = tensor[0]\n",
        "    return Image.fromarray(tensor)"
      ]
    },
    {
      "cell_type": "code",
      "execution_count": null,
      "metadata": {
        "nbgrader": {
          "grade": false,
          "grade_id": "cell-dfbcc4b8f8a959e5",
          "locked": false,
          "schema_version": 3,
          "solution": true,
          "task": false
        },
        "id": "-pr5otWkNBwl"
      },
      "outputs": [],
      "source": [
        "\n",
        "import numpy\n",
        "optimizer = tf.keras.optimizers.Adam(learning_rate=0.003)\n",
        "\n",
        "@tf.function()\n",
        "def train_step(generated_image):\n",
        "    with tf.GradientTape() as tape:\n",
        "\n",
        "\n",
        "        a_G = vgg_model_outputs(generated_image)\n",
        "\n",
        "\n",
        "        J_style = compute_style_cost(a_S,a_G)\n",
        "\n",
        "\n",
        "        J_content = compute_content_cost(a_C,a_G)\n",
        "        J = total_cost(J_content,J_style,10,40)\n",
        "\n",
        "\n",
        "    grad = tape.gradient(J, generated_image)\n",
        "\n",
        "    optimizer.apply_gradients([(grad, generated_image)])\n",
        "    generated_image.assign(clip_0_1(generated_image))\n",
        "    # For grading purposes\n",
        "    return J"
      ]
    },
    {
      "cell_type": "code",
      "execution_count": null,
      "metadata": {
        "id": "ol1X0ETQNBwl"
      },
      "outputs": [],
      "source": [
        "epochs = 20000\n",
        "for i in range(epochs):\n",
        "    train_step(generated_image)\n",
        "    if i % 250 == 0:\n",
        "        print(f\"Epoch {i} \")\n",
        "    if i % 250 == 0:\n",
        "        image = tensor_to_image(generated_image)\n",
        "        imshow(image)\n",
        "        image.save(f\"output/image_{i}.jpg\")\n",
        "        plt.show()"
      ]
    },
    {
      "cell_type": "code",
      "execution_count": null,
      "metadata": {
        "scrolled": true,
        "id": "hW6Jrf81NBwm"
      },
      "outputs": [],
      "source": [
        "# Show the 3 images in a row\n",
        "fig = plt.figure(figsize=(16, 4))\n",
        "ax = fig.add_subplot(1, 3, 1)\n",
        "imshow(content_image[0])\n",
        "ax.title.set_text('Content image')\n",
        "ax = fig.add_subplot(1, 3, 2)\n",
        "imshow(style_image[0])\n",
        "ax.title.set_text('Style image')\n",
        "ax = fig.add_subplot(1, 3, 3)\n",
        "imshow(generated_image[0])\n",
        "ax.title.set_text('Generated image')\n",
        "plt.show()"
      ]
    }
  ],
  "metadata": {
    "kernelspec": {
      "display_name": "Python 3",
      "language": "python",
      "name": "python3"
    },
    "language_info": {
      "codemirror_mode": {
        "name": "ipython",
        "version": 3
      },
      "file_extension": ".py",
      "mimetype": "text/x-python",
      "name": "python",
      "nbconvert_exporter": "python",
      "pygments_lexer": "ipython3",
      "version": "3.8.10"
    },
    "colab": {
      "provenance": []
    }
  },
  "nbformat": 4,
  "nbformat_minor": 0
}