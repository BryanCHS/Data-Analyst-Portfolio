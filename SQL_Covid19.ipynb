{
  "nbformat": 4,
  "nbformat_minor": 0,
  "metadata": {
    "colab": {
      "provenance": []
    },
    "kernelspec": {
      "name": "python3",
      "display_name": "Python 3"
    },
    "language_info": {
      "name": "python"
    }
  },
  "cells": [
    {
      "cell_type": "markdown",
      "source": [
        "# COVID 19 DATA EXPLORATION"
      ],
      "metadata": {
        "id": "51yDp_zg5hJD"
      }
    },
    {
      "cell_type": "markdown",
      "source": [
        "Bryan Camilo Hurtado Suarez"
      ],
      "metadata": {
        "id": "C-4k82O2otdk"
      }
    },
    {
      "cell_type": "markdown",
      "source": [
        "Resume: In this project I use SQL Big Query to explore global COVID 19 data [Data Set](https://ourworldindata.org/covid-deaths)\n",
        "\n",
        "\n",
        "\n"
      ],
      "metadata": {
        "id": "zrVpvjSB7xw0"
      }
    },
    {
      "cell_type": "markdown",
      "source": [
        "##Proccess:\n",
        "\n",
        "\n",
        "\n",
        "1.   Load Dataset into Google Cloud Platform - Big Query\n",
        "2.   Access to the Dataset using Python\n",
        "3.   Explore the Dataset Using SQL"
      ],
      "metadata": {
        "id": "k_6v47e2otqY"
      }
    },
    {
      "cell_type": "markdown",
      "source": [
        "###Load Dataset into Google Cloud Platform - Big Query"
      ],
      "metadata": {
        "id": "tk4jvAHkAF_X"
      }
    },
    {
      "cell_type": "markdown",
      "source": [
        "First, the Data set composed by two tables, Covid Deaths and Covid Vaccunations, is loaded to GCP Big Query"
      ],
      "metadata": {
        "id": "g-r_C3lW8xnJ"
      }
    },
    {
      "cell_type": "markdown",
      "source": [
        "### Access to the Dataset using Python"
      ],
      "metadata": {
        "id": "LiUe6fOz7xO3"
      }
    },
    {
      "cell_type": "markdown",
      "source": [
        "Create the credential to access into GCP and intialite the client, which allow to communicate using Python"
      ],
      "metadata": {
        "id": "jElJqSh37-6E"
      }
    },
    {
      "cell_type": "code",
      "source": [
        "from google.cloud import bigquery\n",
        "from google.oauth2 import service_account\n",
        "credentials = service_account.Credentials.from_service_account_file(\n",
        "'/content/sql-practice-368620-7bf0cc1c1ddf.json')\n",
        "\n",
        "project_id = 'sql-practice-368620'\n",
        "client = bigquery.Client(credentials= credentials,project=project_id)"
      ],
      "metadata": {
        "id": "U_JZEtH05oBX"
      },
      "execution_count": 2,
      "outputs": []
    },
    {
      "cell_type": "markdown",
      "source": [
        "###Explore the Dataset Using SQL"
      ],
      "metadata": {
        "id": "IsC4GaXxotHB"
      }
    },
    {
      "cell_type": "markdown",
      "source": [
        "First, a query that allow know Data that we are going to be working"
      ],
      "metadata": {
        "id": "jxMVwTGdASOk"
      }
    },
    {
      "cell_type": "code",
      "source": [
        "query = (\"\"\"\n",
        "Select *\n",
        "From sql-practice-368620.Covid19.CovidDeaths\n",
        "Where continent is not null \n",
        "order by date DESC\n",
        "Limit 10\n",
        "\n",
        " \"\"\")\n",
        "\n",
        "query_job = client.query(query)  # Make an API request.\n",
        "print('Location'.ljust(21),'Continent'.ljust(21),'Date'.ljust(13), 'Total Cases'.ljust(21), 'Total Deaths'.ljust(21), 'People vaccinated')\n",
        "for row in query_job:\n",
        "  # Row values can be accessed by field name or index.\n",
        "  location = row['location']\n",
        "  continent = row['continent']\n",
        "  date = row['date']\n",
        "  total_cases = row['total_cases']\n",
        "  total_deaths = row['total_deaths']\n",
        "  people_vaccinated = row['people_vaccinated']\n",
        "  print(f'{location:<20} | {continent:<20} | {date} | {total_cases:<20} | {total_deaths:<20} | {people_vaccinated} ' )\n"
      ],
      "metadata": {
        "id": "T3aLijIDYjOE",
        "colab": {
          "base_uri": "https://localhost:8080/"
        },
        "outputId": "98f00c4e-d120-4889-e06d-db7a4afb27f1"
      },
      "execution_count": 3,
      "outputs": [
        {
          "output_type": "stream",
          "name": "stdout",
          "text": [
            "Location              Continent             Date          Total Cases           Total Deaths          People vaccinated\n",
            "Jordan               | Asia                 | 2021-04-30 | 711373               | 8836                 | None \n",
            "Pakistan             | Asia                 | 2021-04-30 | 825519               | 17957                | None \n",
            "Philippines          | Asia                 | 2021-04-30 | 1037460              | 17234                | 1639806 \n",
            "Timor                | Asia                 | 2021-04-30 | 2276                 | 3                    | None \n",
            "Iraq                 | Asia                 | 2021-04-30 | 1065199              | 15465                | None \n",
            "Uzbekistan           | Asia                 | 2021-04-30 | 90808                | 649                  | None \n",
            "India                | Asia                 | 2021-04-30 | 19164969             | 211853               | 125376952 \n",
            "Bangladesh           | Asia                 | 2021-04-30 | 759132               | 11450                | None \n",
            "United Arab Emirates | Asia                 | 2021-04-30 | 520236               | 1587                 | None \n",
            "Nepal                | Asia                 | 2021-04-30 | 323187               | 3279                 | None \n"
          ]
        }
      ]
    },
    {
      "cell_type": "markdown",
      "source": [
        "Total Cases vs Total Deaths:\n",
        "Shows likelihood of dying if you contract covid in your country"
      ],
      "metadata": {
        "id": "X8ngXOwqA4LX"
      }
    },
    {
      "cell_type": "code",
      "source": [
        "query = (\"\"\"\n",
        "Select location, date, total_cases,total_deaths, (total_deaths/total_cases)*100 as DeathPercentage\n",
        "From sql-practice-368620.Covid19.CovidDeaths\n",
        "Where continent is not null \n",
        "order by date DESC\n",
        "Limit 10\n",
        "\n",
        " \"\"\")\n",
        "\n",
        "query_job = client.query(query)  # Make an API request.\n",
        "print('Location'.ljust(21),'Date'.ljust(13), 'Total Cases'.ljust(21), 'Total Deaths'.ljust(21), 'Death Percentage')\n",
        "for row in query_job:\n",
        "  # Row values can be accessed by field name or index.\n",
        "  location = row['location']\n",
        "  date = row['date']\n",
        "  total_cases = row['total_cases']\n",
        "  total_deaths = row['total_deaths']\n",
        "  DeathPercentage = row['DeathPercentage']\n",
        "  print(f'{location:<20} |  {date} | {total_cases:<20} | {total_deaths:<20} | {DeathPercentage} ' )"
      ],
      "metadata": {
        "colab": {
          "base_uri": "https://localhost:8080/"
        },
        "id": "JDhfo0Ai7fO2",
        "outputId": "237606da-c06c-42bb-e77f-64b9097389ed"
      },
      "execution_count": 4,
      "outputs": [
        {
          "output_type": "stream",
          "name": "stdout",
          "text": [
            "Location              Date          Total Cases           Total Deaths          Death Percentage\n",
            "Jordan               |  2021-04-30 | 711373               | 8836                 | 1.2421050559973459 \n",
            "Pakistan             |  2021-04-30 | 825519               | 17957                | 2.1752376383826415 \n",
            "Philippines          |  2021-04-30 | 1037460              | 17234                | 1.6611724789389473 \n",
            "Timor                |  2021-04-30 | 2276                 | 3                    | 0.13181019332161686 \n",
            "Iraq                 |  2021-04-30 | 1065199              | 15465                | 1.451841393016704 \n",
            "Uzbekistan           |  2021-04-30 | 90808                | 649                  | 0.7146947405514932 \n",
            "India                |  2021-04-30 | 19164969             | 211853               | 1.1054179111899425 \n",
            "Bangladesh           |  2021-04-30 | 759132               | 11450                | 1.508301586548848 \n",
            "United Arab Emirates |  2021-04-30 | 520236               | 1587                 | 0.3050538601711531 \n",
            "Nepal                |  2021-04-30 | 323187               | 3279                 | 1.014582888544403 \n"
          ]
        }
      ]
    },
    {
      "cell_type": "markdown",
      "source": [
        "Total Cases vs Population: Shows what percentage of population infected with Covid"
      ],
      "metadata": {
        "id": "d2580IbOCnHO"
      }
    },
    {
      "cell_type": "code",
      "source": [
        "query = (\"\"\"\n",
        "Select location, date, Population, total_cases,  (total_cases/population)*100 as PercentPopulationInfected\n",
        "From sql-practice-368620.Covid19.CovidDeaths\n",
        "Where continent is not null \n",
        "order by date DESC\n",
        "Limit 10\n",
        "\n",
        " \"\"\")\n",
        "\n",
        "query_job = client.query(query)  # Make an API request.\n",
        "print('Location'.ljust(21),'Date'.ljust(13), 'Total Cases'.ljust(21), 'Population'.ljust(21), 'Percent Population Infected')\n",
        "for row in query_job:\n",
        "  # Row values can be accessed by field name or index.\n",
        "  location = row['location']\n",
        "  date = row['date']\n",
        "  total_cases = row['total_cases']\n",
        "  Population = row['Population']\n",
        "  PercentPopulationInfected = row['PercentPopulationInfected']\n",
        "  print(f'{location:<20} |  {date} | {total_cases:<20} | {Population:<20} | {PercentPopulationInfected} ' )"
      ],
      "metadata": {
        "colab": {
          "base_uri": "https://localhost:8080/"
        },
        "id": "qiQxvqxCCnVe",
        "outputId": "499bd533-6617-47f1-f6e2-ebed19f25ecf"
      },
      "execution_count": 5,
      "outputs": [
        {
          "output_type": "stream",
          "name": "stdout",
          "text": [
            "Location              Date          Total Cases           Population            Percent Population Infected\n",
            "Jordan               |  2021-04-30 | 711373               | 10203140             | 6.9720987852759055 \n",
            "Pakistan             |  2021-04-30 | 825519               | 220892331            | 0.37372008175331356 \n",
            "Philippines          |  2021-04-30 | 1037460              | 109581085            | 0.946750983529685 \n",
            "Timor                |  2021-04-30 | 2276                 | 1318442              | 0.1726279957707658 \n",
            "Iraq                 |  2021-04-30 | 1065199              | 40222503             | 2.648266319975164 \n",
            "Uzbekistan           |  2021-04-30 | 90808                | 33469199             | 0.2713181155007624 \n",
            "India                |  2021-04-30 | 19164969             | 1380004385           | 1.3887614567253712 \n",
            "Bangladesh           |  2021-04-30 | 759132               | 164689383            | 0.46094774670447336 \n",
            "United Arab Emirates |  2021-04-30 | 520236               | 9890400              | 5.260009706381946 \n",
            "Nepal                |  2021-04-30 | 323187               | 29136808             | 1.1092052362084412 \n"
          ]
        }
      ]
    },
    {
      "cell_type": "markdown",
      "source": [
        "Countries with Highest Infection Rate compared to Population\n",
        "\n"
      ],
      "metadata": {
        "id": "tBBJEe3qCnwm"
      }
    },
    {
      "cell_type": "code",
      "source": [
        "query = (\"\"\"\n",
        "Select Location, Population, MAX(total_cases) as HighestInfectionCount,  Max((total_cases/population))*100 as PercentPopulationInfected\n",
        "From sql-practice-368620.Covid19.CovidDeaths\n",
        "Group by Location, Population\n",
        "order by PercentPopulationInfected desc\n",
        "Limit 10\n",
        "\n",
        " \"\"\")\n",
        "\n",
        "query_job = client.query(query)  # Make an API request.\n",
        "print('Location'.ljust(21), 'Population'.ljust(21), 'Highest Infection Count'.ljust(31), 'Percent Population Infected')\n",
        "for row in query_job:\n",
        "  # Row values can be accessed by field name or index.\n",
        "  location = row['Location']\n",
        "  Population = row['Population']\n",
        "  HighestInfectionCount = row['HighestInfectionCount']\n",
        "  PercentPopulationInfected = row['PercentPopulationInfected']\n",
        "  print(f'{location:<20} |   {Population:<20} |  {HighestInfectionCount:<30} | {PercentPopulationInfected} ' )"
      ],
      "metadata": {
        "id": "y-oUD-z8Cn6I",
        "colab": {
          "base_uri": "https://localhost:8080/"
        },
        "outputId": "f5707a92-4027-4e18-8e24-134859f8e0e3"
      },
      "execution_count": 10,
      "outputs": [
        {
          "output_type": "stream",
          "name": "stdout",
          "text": [
            "Location              Population            Highest Infection Count         Percent Population Infected\n",
            "Andorra              |   77265                |  13232                          | 17.125477253607713 \n",
            "Montenegro           |   628062               |  97389                          | 15.506271673815641 \n",
            "Czechia              |   10708982             |  1630758                        | 15.22794603632726 \n",
            "San Marino           |   33938                |  5066                           | 14.92722022511639 \n",
            "Slovenia             |   2078932              |  240292                         | 11.558434811720634 \n",
            "Luxembourg           |   625976               |  67205                          | 10.736034608355592 \n",
            "Bahrain              |   1701583              |  176934                         | 10.398199793956568 \n",
            "Serbia               |   6804596              |  689557                         | 10.133694932072382 \n",
            "United States        |   331002647            |  32346971                       | 9.772420641699581 \n",
            "Israel               |   8655541              |  838481                         | 9.687216547180586 \n"
          ]
        }
      ]
    },
    {
      "cell_type": "markdown",
      "source": [
        "Showing contintents with the highest death count per population\n"
      ],
      "metadata": {
        "id": "2eQ5RqblCoDE"
      }
    },
    {
      "cell_type": "code",
      "source": [
        "query = (\"\"\"\n",
        "Select continent, MAX(cast(Total_deaths as int)) as TotalDeathCount\n",
        "From sql-practice-368620.Covid19.CovidDeaths\n",
        "Where continent is not null \n",
        "Group by continent\n",
        "order by TotalDeathCount desc\n",
        "Limit 10\n",
        "\n",
        " \"\"\")\n",
        "\n",
        "query_job = client.query(query)  # Make an API request.\n",
        "print('continent'.ljust(21),'TotalDeathCount')\n",
        "for row in query_job:\n",
        "  # Row values can be accessed by field name or index.\n",
        "  continent = row['continent']\n",
        "  TotalDeathCount = row['TotalDeathCount']\n",
        "  print(f'{continent:<20} |  {TotalDeathCount}  ' )"
      ],
      "metadata": {
        "id": "xJgC_57DCoKO",
        "colab": {
          "base_uri": "https://localhost:8080/"
        },
        "outputId": "6807f885-0fa9-408b-a9e2-feb579c4fbf2"
      },
      "execution_count": 11,
      "outputs": [
        {
          "output_type": "stream",
          "name": "stdout",
          "text": [
            "continent             TotalDeathCount\n",
            "North America        |  576232  \n",
            "South America        |  403781  \n",
            "Asia                 |  211853  \n",
            "Europe               |  127775  \n",
            "Africa               |  54350  \n",
            "Oceania              |  910  \n"
          ]
        }
      ]
    },
    {
      "cell_type": "markdown",
      "source": [
        "Global numbers"
      ],
      "metadata": {
        "id": "BzooxT4aCoUI"
      }
    },
    {
      "cell_type": "code",
      "source": [
        "query = (\"\"\"\n",
        "Select SUM(new_cases) as total_cases, SUM(cast(new_deaths as int)) as total_deaths, SUM(cast(new_deaths as int))/SUM(New_Cases)*100 as DeathPercentage\n",
        "From sql-practice-368620.Covid19.CovidDeaths\n",
        "where continent is not null \n",
        "order by 1,2\n",
        "Limit 10\n",
        "\n",
        " \"\"\")\n",
        "\n",
        "query_job = client.query(query)  # Make an API request.\n",
        "print('Total Cases'.ljust(21),'Total Deaths'.ljust(21), 'DeathPercentage'.ljust(21))\n",
        "for row in query_job:\n",
        "  # Row values can be accessed by field name or index.\n",
        "  total_cases = row['total_cases']\n",
        "  total_deaths = row['total_deaths']\n",
        "  DeathPercentage = row['DeathPercentage']\n",
        "  print(f'{total_cases:<20} | {total_deaths:<20} | {DeathPercentage} ' )"
      ],
      "metadata": {
        "id": "w_hq4UnSCob0",
        "colab": {
          "base_uri": "https://localhost:8080/"
        },
        "outputId": "a6b7b769-5abd-4d36-91b6-336b26b65cb5"
      },
      "execution_count": 12,
      "outputs": [
        {
          "output_type": "stream",
          "name": "stdout",
          "text": [
            "Total Cases           Total Deaths          DeathPercentage      \n",
            "150574977            | 3180206              | 2.1120414981036326 \n"
          ]
        }
      ]
    },
    {
      "cell_type": "markdown",
      "source": [
        "Total Population vs Vaccinations: Shows Percentage of Population that has recieved at least one Covid Vaccine"
      ],
      "metadata": {
        "id": "NdCxzQ5sFPnt"
      }
    },
    {
      "cell_type": "code",
      "source": [
        "query = (\"\"\"\n",
        "Select dea.continent, dea.location, dea.date, dea.population, vac.new_vaccinations\n",
        ", SUM(CAST(vac.new_vaccinations as INT64)) OVER (Partition by dea.Location Order by dea.location, dea.Date) as RollingPeopleVaccinated\n",
        "From sql-practice-368620.Covid19.CovidDeaths dea\n",
        "Join sql-practice-368620.Covid19.CovidVaccinations vac\n",
        "\tOn dea.location = vac.location\n",
        "\tand dea.date = vac.date\n",
        "where dea.continent is not null \n",
        "order by date desc\n",
        "Limit 10\n",
        "\n",
        " \"\"\")\n",
        "\n",
        "query_job = client.query(query)  # Make an API request.\n",
        "print('continent'.ljust(21),'location'.ljust(21),'Date'.ljust(13), 'Population'.ljust(21), 'Rolling People Vaccinated')\n",
        "for row in query_job:\n",
        "  # Row values can be accessed by field name or index.\n",
        "  continent = row['continent']\n",
        "  location = row['location']\n",
        "  date = row['date']\n",
        "  Population = row['population']\n",
        "  RollingPeopleVaccinated = row['RollingPeopleVaccinated']\n",
        "  print(f'{continent:<20} | { location:<20} | {date} | {Population :<20} |  {RollingPeopleVaccinated}' )"
      ],
      "metadata": {
        "id": "KdDdsYaUFPwa",
        "colab": {
          "base_uri": "https://localhost:8080/"
        },
        "outputId": "680e8d80-e631-4266-d50e-5376c1b2a584"
      },
      "execution_count": 23,
      "outputs": [
        {
          "output_type": "stream",
          "name": "stdout",
          "text": [
            "continent             location              Date          Population            Rolling People Vaccinated\n",
            "Asia                 | Armenia              | 2021-04-30 | 2963234              |  None\n",
            "Asia                 | Afghanistan          | 2021-04-30 | 38928341             |  None\n",
            "Oceania              | Australia            | 2021-04-30 | 25499881             |  2179544\n",
            "North America        | Aruba                | 2021-04-30 | 106766               |  32484\n",
            "Africa               | Algeria              | 2021-04-30 | 43851043             |  30\n",
            "Europe               | Albania              | 2021-04-30 | 2877800              |  347702\n",
            "North America        | Antigua and Barbuda  | 2021-04-30 | 97928                |  225\n",
            "South America        | Argentina            | 2021-04-30 | 45195777             |  7391255\n",
            "Africa               | Angola               | 2021-04-30 | 32866268             |  None\n",
            "Europe               | Andorra              | 2021-04-30 | 77265                |  4802\n"
          ]
        }
      ]
    },
    {
      "cell_type": "markdown",
      "source": [
        "Using CTE to perform Calculation on Partition By in previous query\n"
      ],
      "metadata": {
        "id": "2qQJXp1FFgQx"
      }
    },
    {
      "cell_type": "code",
      "source": [
        "query = (\"\"\"\n",
        "With PopvsVac \n",
        "as\n",
        "(\n",
        "Select dea.continent, dea.location, dea.date, dea.population, vac.new_vaccinations\n",
        ", SUM(CAST(vac.new_vaccinations as INT64)) OVER (Partition by dea.Location Order by dea.location, dea.Date) as RollingPeopleVaccinated\n",
        "--, (RollingPeopleVaccinated/population)*100\n",
        "From sql-practice-368620.Covid19.CovidDeaths dea\n",
        "Join sql-practice-368620.Covid19.CovidVaccinations vac\n",
        "\tOn dea.location = vac.location\n",
        "\tand dea.date = vac.date\n",
        "where dea.continent is not null \n",
        "--order by 2,3\n",
        ")\n",
        "Select *, (RollingPeopleVaccinated/Population)*100 AS RollingPeopleVaccinatedP\n",
        "From PopvsVac\n",
        "Order by date desc\n",
        "Limit 20\n",
        " \"\"\")\n",
        "\n",
        "query_job = client.query(query)  # Make an API request.\n",
        "print('continent'.ljust(21),'location'.ljust(21),'Date'.ljust(13), 'Population'.ljust(21), 'Rolling People Vaccinated')\n",
        "for row in query_job:\n",
        "  # Row values can be accessed by field name or index.\n",
        "  continent = row['continent']\n",
        "  location = row['location']\n",
        "  date = row['date']\n",
        "  Population = row['population']\n",
        "  RollingPeopleVaccinatedP = row['RollingPeopleVaccinatedP']\n",
        "  print(f'{continent:<20} | { location:<20} | {date} | {Population :<20} |  {RollingPeopleVaccinatedP}' )"
      ],
      "metadata": {
        "id": "IqZan0EiFgiq",
        "colab": {
          "base_uri": "https://localhost:8080/"
        },
        "outputId": "0faa6b65-8cfa-4e48-f9fd-0edb2d3c0754"
      },
      "execution_count": 31,
      "outputs": [
        {
          "output_type": "stream",
          "name": "stdout",
          "text": [
            "continent             location              Date          Population            Rolling People Vaccinated\n",
            "South America        | Argentina            | 2021-04-30 | 45195777             |  16.353861999097834\n",
            "Europe               | Albania              | 2021-04-30 | 2877800              |  12.082215581346862\n",
            "Asia                 | Bahrain              | 2021-04-30 | 1701583              |  46.278200945825155\n",
            "Asia                 | Afghanistan          | 2021-04-30 | 38928341             |  None\n",
            "North America        | Antigua and Barbuda  | 2021-04-30 | 97928                |  0.2297606404705498\n",
            "Europe               | Belarus              | 2021-04-30 | 9449321              |  None\n",
            "North America        | Barbados             | 2021-04-30 | 287371               |  24.110296446057536\n",
            "Europe               | Andorra              | 2021-04-30 | 77265                |  6.214974438620333\n",
            "Europe               | Austria              | 2021-04-30 | 9006400              |  34.769674897850415\n",
            "Oceania              | Australia            | 2021-04-30 | 25499881             |  8.547271259814899\n",
            "Africa               | Benin                | 2021-04-30 | 12123198             |  None\n",
            "Asia                 | Bangladesh           | 2021-04-30 | 164689383            |  1.977478414622514\n",
            "Asia                 | Azerbaijan           | 2021-04-30 | 10139175             |  6.6469411959059785\n",
            "Asia                 | Armenia              | 2021-04-30 | 2963234              |  None\n",
            "Africa               | Angola               | 2021-04-30 | 32866268             |  None\n",
            "North America        | Belize               | 2021-04-30 | 397621               |  5.335985775399187\n",
            "Europe               | Belgium              | 2021-04-30 | 11589616             |  32.989082640874386\n",
            "North America        | Aruba                | 2021-04-30 | 106766               |  30.425416331041717\n",
            "North America        | Bahamas              | 2021-04-30 | 393248               |  1.7520750264464153\n",
            "Africa               | Algeria              | 2021-04-30 | 43851043             |  6.841342405470264e-05\n"
          ]
        }
      ]
    }
  ]
}