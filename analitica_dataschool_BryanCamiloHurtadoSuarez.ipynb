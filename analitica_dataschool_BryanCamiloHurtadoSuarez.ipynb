{
  "cells": [
    {
      "cell_type": "markdown",
      "source": [
        "#Bryan Camilo Hurtado Suarez - Analista de datos"
      ],
      "metadata": {
        "id": "iinVrVEbYgOy"
      }
    },
    {
      "cell_type": "markdown",
      "source": [
        "Buenas tardes, espero tengan un gran día. En el presente cuaderno resolveré la prueba de Analítica. Muchas gracias por su atención"
      ],
      "metadata": {
        "id": "NA10WW1jY3Yx"
      }
    },
    {
      "cell_type": "markdown",
      "metadata": {
        "id": "IgEUII7zAm7j"
      },
      "source": [
        "## 1. Análisis exploratorio de datos\n",
        "\n",
        "El análisis exploratorio de datos (EDA) es un paso previo a la hora de comprender los datos con los que se va a trabajar. El objetivo de este análisis es explorar, describir, resumir y visualizar la naturaleza de los datos recogidos en las variables aleatorias de interés, mediante la aplicación de técnicas simples de resumen de datos y métodos gráficos.\n",
        "\n",
        "Realice el análisis exploratorio e indique los hallazgos o conclusiones al final de esta sección."
      ]
    },
    {
      "cell_type": "markdown",
      "source": [
        "#### Datos"
      ],
      "metadata": {
        "id": "sb26C9YhFyvX"
      }
    },
    {
      "cell_type": "markdown",
      "source": [
        "#### Python"
      ],
      "metadata": {
        "id": "kxI5AI4jF1y2"
      }
    },
    {
      "cell_type": "markdown",
      "source": [
        "En primer lugar, se cargan todas las librerias necesarias:\n",
        "\n"
      ],
      "metadata": {
        "id": "s01ZdRogcEV_"
      }
    },
    {
      "cell_type": "code",
      "execution_count": null,
      "metadata": {
        "id": "UyavsHYWAm7j"
      },
      "outputs": [],
      "source": [
        "import pandas as pd\n",
        "import matplotlib.pyplot as plt\n",
        "import seaborn as sns\n",
        "from collections import Counter\n",
        "\n",
        "#librerias para Machine learning\n",
        "from sklearn.pipeline import Pipeline\n",
        "from sklearn.preprocessing import StandardScaler,OneHotEncoder\n",
        "from sklearn.model_selection import train_test_split\n",
        "from sklearn.linear_model import LogisticRegression\n",
        "from sklearn.compose import ColumnTransformer\n",
        "from sklearn.metrics import confusion_matrix, ConfusionMatrixDisplay\n",
        "from sklearn.ensemble import GradientBoostingClassifier\n",
        "from sklearn.tree import DecisionTreeClassifier\n",
        "from sklearn.metrics import f1_score\n",
        "from sklearn.metrics import roc_auc_score\n",
        "\n",
        "#librerias para balancear la cantidad de datos\n",
        "\n",
        "from imblearn.over_sampling import SMOTE\n",
        "from imblearn.under_sampling import RandomUnderSampler\n"
      ]
    },
    {
      "cell_type": "code",
      "source": [
        "id = '1vk7fWY4BGBpkqlk2YXWGFuL55HILW7Y7'\n",
        "path = 'https://drive.google.com/uc?export=download&id='+id\n",
        "df = pd.read_csv(path)\n",
        "df.head()"
      ],
      "metadata": {
        "id": "8orYWjF1FZPx",
        "colab": {
          "base_uri": "https://localhost:8080/",
          "height": 270
        },
        "outputId": "96bbd75b-1546-4e8c-9be5-377938abb9bc"
      },
      "execution_count": null,
      "outputs": [
        {
          "output_type": "execute_result",
          "data": {
            "text/plain": [
              "   RowNumber  CustomerId   Surname  CreditScore Geography  Gender  Age  \\\n",
              "0          1    15634602  Hargrave          619    France  Female   42   \n",
              "1          2    15647311      Hill          608     Spain  Female   41   \n",
              "2          3    15619304      Onio          502    France  Female   42   \n",
              "3          4    15701354      Boni          699    France  Female   39   \n",
              "4          5    15737888  Mitchell          850     Spain  Female   43   \n",
              "\n",
              "   Tenure    Balance  NumOfProducts  HasCrCard  IsActiveMember  \\\n",
              "0       2       0.00              1          1               1   \n",
              "1       1   83807.86              1          0               1   \n",
              "2       8  159660.80              3          1               0   \n",
              "3       1       0.00              2          0               0   \n",
              "4       2  125510.82              1          1               1   \n",
              "\n",
              "   EstimatedSalary  Exited  \n",
              "0        101348.88       1  \n",
              "1        112542.58       0  \n",
              "2        113931.57       1  \n",
              "3         93826.63       0  \n",
              "4         79084.10       0  "
            ],
            "text/html": [
              "\n",
              "  <div id=\"df-db4dfee6-bfc4-475f-8eec-3e3a1489a05d\">\n",
              "    <div class=\"colab-df-container\">\n",
              "      <div>\n",
              "<style scoped>\n",
              "    .dataframe tbody tr th:only-of-type {\n",
              "        vertical-align: middle;\n",
              "    }\n",
              "\n",
              "    .dataframe tbody tr th {\n",
              "        vertical-align: top;\n",
              "    }\n",
              "\n",
              "    .dataframe thead th {\n",
              "        text-align: right;\n",
              "    }\n",
              "</style>\n",
              "<table border=\"1\" class=\"dataframe\">\n",
              "  <thead>\n",
              "    <tr style=\"text-align: right;\">\n",
              "      <th></th>\n",
              "      <th>RowNumber</th>\n",
              "      <th>CustomerId</th>\n",
              "      <th>Surname</th>\n",
              "      <th>CreditScore</th>\n",
              "      <th>Geography</th>\n",
              "      <th>Gender</th>\n",
              "      <th>Age</th>\n",
              "      <th>Tenure</th>\n",
              "      <th>Balance</th>\n",
              "      <th>NumOfProducts</th>\n",
              "      <th>HasCrCard</th>\n",
              "      <th>IsActiveMember</th>\n",
              "      <th>EstimatedSalary</th>\n",
              "      <th>Exited</th>\n",
              "    </tr>\n",
              "  </thead>\n",
              "  <tbody>\n",
              "    <tr>\n",
              "      <th>0</th>\n",
              "      <td>1</td>\n",
              "      <td>15634602</td>\n",
              "      <td>Hargrave</td>\n",
              "      <td>619</td>\n",
              "      <td>France</td>\n",
              "      <td>Female</td>\n",
              "      <td>42</td>\n",
              "      <td>2</td>\n",
              "      <td>0.00</td>\n",
              "      <td>1</td>\n",
              "      <td>1</td>\n",
              "      <td>1</td>\n",
              "      <td>101348.88</td>\n",
              "      <td>1</td>\n",
              "    </tr>\n",
              "    <tr>\n",
              "      <th>1</th>\n",
              "      <td>2</td>\n",
              "      <td>15647311</td>\n",
              "      <td>Hill</td>\n",
              "      <td>608</td>\n",
              "      <td>Spain</td>\n",
              "      <td>Female</td>\n",
              "      <td>41</td>\n",
              "      <td>1</td>\n",
              "      <td>83807.86</td>\n",
              "      <td>1</td>\n",
              "      <td>0</td>\n",
              "      <td>1</td>\n",
              "      <td>112542.58</td>\n",
              "      <td>0</td>\n",
              "    </tr>\n",
              "    <tr>\n",
              "      <th>2</th>\n",
              "      <td>3</td>\n",
              "      <td>15619304</td>\n",
              "      <td>Onio</td>\n",
              "      <td>502</td>\n",
              "      <td>France</td>\n",
              "      <td>Female</td>\n",
              "      <td>42</td>\n",
              "      <td>8</td>\n",
              "      <td>159660.80</td>\n",
              "      <td>3</td>\n",
              "      <td>1</td>\n",
              "      <td>0</td>\n",
              "      <td>113931.57</td>\n",
              "      <td>1</td>\n",
              "    </tr>\n",
              "    <tr>\n",
              "      <th>3</th>\n",
              "      <td>4</td>\n",
              "      <td>15701354</td>\n",
              "      <td>Boni</td>\n",
              "      <td>699</td>\n",
              "      <td>France</td>\n",
              "      <td>Female</td>\n",
              "      <td>39</td>\n",
              "      <td>1</td>\n",
              "      <td>0.00</td>\n",
              "      <td>2</td>\n",
              "      <td>0</td>\n",
              "      <td>0</td>\n",
              "      <td>93826.63</td>\n",
              "      <td>0</td>\n",
              "    </tr>\n",
              "    <tr>\n",
              "      <th>4</th>\n",
              "      <td>5</td>\n",
              "      <td>15737888</td>\n",
              "      <td>Mitchell</td>\n",
              "      <td>850</td>\n",
              "      <td>Spain</td>\n",
              "      <td>Female</td>\n",
              "      <td>43</td>\n",
              "      <td>2</td>\n",
              "      <td>125510.82</td>\n",
              "      <td>1</td>\n",
              "      <td>1</td>\n",
              "      <td>1</td>\n",
              "      <td>79084.10</td>\n",
              "      <td>0</td>\n",
              "    </tr>\n",
              "  </tbody>\n",
              "</table>\n",
              "</div>\n",
              "      <button class=\"colab-df-convert\" onclick=\"convertToInteractive('df-db4dfee6-bfc4-475f-8eec-3e3a1489a05d')\"\n",
              "              title=\"Convert this dataframe to an interactive table.\"\n",
              "              style=\"display:none;\">\n",
              "        \n",
              "  <svg xmlns=\"http://www.w3.org/2000/svg\" height=\"24px\"viewBox=\"0 0 24 24\"\n",
              "       width=\"24px\">\n",
              "    <path d=\"M0 0h24v24H0V0z\" fill=\"none\"/>\n",
              "    <path d=\"M18.56 5.44l.94 2.06.94-2.06 2.06-.94-2.06-.94-.94-2.06-.94 2.06-2.06.94zm-11 1L8.5 8.5l.94-2.06 2.06-.94-2.06-.94L8.5 2.5l-.94 2.06-2.06.94zm10 10l.94 2.06.94-2.06 2.06-.94-2.06-.94-.94-2.06-.94 2.06-2.06.94z\"/><path d=\"M17.41 7.96l-1.37-1.37c-.4-.4-.92-.59-1.43-.59-.52 0-1.04.2-1.43.59L10.3 9.45l-7.72 7.72c-.78.78-.78 2.05 0 2.83L4 21.41c.39.39.9.59 1.41.59.51 0 1.02-.2 1.41-.59l7.78-7.78 2.81-2.81c.8-.78.8-2.07 0-2.86zM5.41 20L4 18.59l7.72-7.72 1.47 1.35L5.41 20z\"/>\n",
              "  </svg>\n",
              "      </button>\n",
              "      \n",
              "  <style>\n",
              "    .colab-df-container {\n",
              "      display:flex;\n",
              "      flex-wrap:wrap;\n",
              "      gap: 12px;\n",
              "    }\n",
              "\n",
              "    .colab-df-convert {\n",
              "      background-color: #E8F0FE;\n",
              "      border: none;\n",
              "      border-radius: 50%;\n",
              "      cursor: pointer;\n",
              "      display: none;\n",
              "      fill: #1967D2;\n",
              "      height: 32px;\n",
              "      padding: 0 0 0 0;\n",
              "      width: 32px;\n",
              "    }\n",
              "\n",
              "    .colab-df-convert:hover {\n",
              "      background-color: #E2EBFA;\n",
              "      box-shadow: 0px 1px 2px rgba(60, 64, 67, 0.3), 0px 1px 3px 1px rgba(60, 64, 67, 0.15);\n",
              "      fill: #174EA6;\n",
              "    }\n",
              "\n",
              "    [theme=dark] .colab-df-convert {\n",
              "      background-color: #3B4455;\n",
              "      fill: #D2E3FC;\n",
              "    }\n",
              "\n",
              "    [theme=dark] .colab-df-convert:hover {\n",
              "      background-color: #434B5C;\n",
              "      box-shadow: 0px 1px 3px 1px rgba(0, 0, 0, 0.15);\n",
              "      filter: drop-shadow(0px 1px 2px rgba(0, 0, 0, 0.3));\n",
              "      fill: #FFFFFF;\n",
              "    }\n",
              "  </style>\n",
              "\n",
              "      <script>\n",
              "        const buttonEl =\n",
              "          document.querySelector('#df-db4dfee6-bfc4-475f-8eec-3e3a1489a05d button.colab-df-convert');\n",
              "        buttonEl.style.display =\n",
              "          google.colab.kernel.accessAllowed ? 'block' : 'none';\n",
              "\n",
              "        async function convertToInteractive(key) {\n",
              "          const element = document.querySelector('#df-db4dfee6-bfc4-475f-8eec-3e3a1489a05d');\n",
              "          const dataTable =\n",
              "            await google.colab.kernel.invokeFunction('convertToInteractive',\n",
              "                                                     [key], {});\n",
              "          if (!dataTable) return;\n",
              "\n",
              "          const docLinkHtml = 'Like what you see? Visit the ' +\n",
              "            '<a target=\"_blank\" href=https://colab.research.google.com/notebooks/data_table.ipynb>data table notebook</a>'\n",
              "            + ' to learn more about interactive tables.';\n",
              "          element.innerHTML = '';\n",
              "          dataTable['output_type'] = 'display_data';\n",
              "          await google.colab.output.renderOutput(dataTable, element);\n",
              "          const docLink = document.createElement('div');\n",
              "          docLink.innerHTML = docLinkHtml;\n",
              "          element.appendChild(docLink);\n",
              "        }\n",
              "      </script>\n",
              "    </div>\n",
              "  </div>\n",
              "  "
            ]
          },
          "metadata": {},
          "execution_count": 2
        }
      ]
    },
    {
      "cell_type": "markdown",
      "source": [
        "##Metodología"
      ],
      "metadata": {
        "id": "OOI_-XykcLXa"
      }
    },
    {
      "cell_type": "markdown",
      "source": [
        "Con el fin de asegurar la calidad de los datos y un análisis efectivo se sigue el siguiente procedimiento:\n",
        "\n",
        "* Exploración inicial\n",
        "* Limpieza\n",
        "* Análisis estadístico\n",
        "* Análisis"
      ],
      "metadata": {
        "id": "p6-tfcO1caNG"
      }
    },
    {
      "cell_type": "markdown",
      "source": [
        "###Exploración inicial"
      ],
      "metadata": {
        "id": "1QZjO-5Qcoqu"
      }
    },
    {
      "cell_type": "markdown",
      "source": [
        "El objetivo de esta sección es familiarizarse con los datos, la forma en que están estructurados y lo que representa cada columna. De igual importancia, revisar la consistencia de los datos que es fundamental para el análisis"
      ],
      "metadata": {
        "id": "FXvtYSJFcyvg"
      }
    },
    {
      "cell_type": "code",
      "source": [
        "df.shape"
      ],
      "metadata": {
        "colab": {
          "base_uri": "https://localhost:8080/"
        },
        "id": "IT4oe5wXcrWz",
        "outputId": "2b350f61-bcfa-4161-e0a1-c210b7dae0b5"
      },
      "execution_count": null,
      "outputs": [
        {
          "output_type": "execute_result",
          "data": {
            "text/plain": [
              "(10000, 14)"
            ]
          },
          "metadata": {},
          "execution_count": 3
        }
      ]
    },
    {
      "cell_type": "markdown",
      "source": [
        "Se cuenta con 14 columnas y 10000 filas. Por lo tanto, se tienen los suficientes datos para realizar un análisis efectivo"
      ],
      "metadata": {
        "id": "g71yEOqKc3_k"
      }
    },
    {
      "cell_type": "markdown",
      "source": [
        "Las columnas con las que se cuentan son las siguientes:"
      ],
      "metadata": {
        "id": "uvm5zwkqdLMw"
      }
    },
    {
      "cell_type": "code",
      "source": [
        "df.columns"
      ],
      "metadata": {
        "colab": {
          "base_uri": "https://localhost:8080/"
        },
        "id": "mgo8mY2ydFfZ",
        "outputId": "58cee895-c960-4680-9ae4-876ffebed125"
      },
      "execution_count": null,
      "outputs": [
        {
          "output_type": "execute_result",
          "data": {
            "text/plain": [
              "Index(['RowNumber', 'CustomerId', 'Surname', 'CreditScore', 'Geography',\n",
              "       'Gender', 'Age', 'Tenure', 'Balance', 'NumOfProducts', 'HasCrCard',\n",
              "       'IsActiveMember', 'EstimatedSalary', 'Exited'],\n",
              "      dtype='object')"
            ]
          },
          "metadata": {},
          "execution_count": 4
        }
      ]
    },
    {
      "cell_type": "markdown",
      "source": [
        "El tipo de cada una de las columnas es el siguiente:"
      ],
      "metadata": {
        "id": "6gvSe1nadPMg"
      }
    },
    {
      "cell_type": "code",
      "source": [
        "df.dtypes"
      ],
      "metadata": {
        "colab": {
          "base_uri": "https://localhost:8080/"
        },
        "id": "go6U0ZKodRjG",
        "outputId": "9a61d489-0726-4338-bfd6-8963f3c35b53"
      },
      "execution_count": null,
      "outputs": [
        {
          "output_type": "execute_result",
          "data": {
            "text/plain": [
              "RowNumber            int64\n",
              "CustomerId           int64\n",
              "Surname             object\n",
              "CreditScore          int64\n",
              "Geography           object\n",
              "Gender              object\n",
              "Age                  int64\n",
              "Tenure               int64\n",
              "Balance            float64\n",
              "NumOfProducts        int64\n",
              "HasCrCard            int64\n",
              "IsActiveMember       int64\n",
              "EstimatedSalary    float64\n",
              "Exited               int64\n",
              "dtype: object"
            ]
          },
          "metadata": {},
          "execution_count": 5
        }
      ]
    },
    {
      "cell_type": "markdown",
      "source": [
        "Luego, se realiza un primer vistazo a la base de datos:"
      ],
      "metadata": {
        "id": "29BM7FVxdYQ1"
      }
    },
    {
      "cell_type": "code",
      "source": [
        "df.head()"
      ],
      "metadata": {
        "colab": {
          "base_uri": "https://localhost:8080/",
          "height": 270
        },
        "id": "R8jVuzwrdYzx",
        "outputId": "0749214a-8dd2-4acb-a4a5-98ac5e1813e7"
      },
      "execution_count": null,
      "outputs": [
        {
          "output_type": "execute_result",
          "data": {
            "text/plain": [
              "   RowNumber  CustomerId   Surname  CreditScore Geography  Gender  Age  \\\n",
              "0          1    15634602  Hargrave          619    France  Female   42   \n",
              "1          2    15647311      Hill          608     Spain  Female   41   \n",
              "2          3    15619304      Onio          502    France  Female   42   \n",
              "3          4    15701354      Boni          699    France  Female   39   \n",
              "4          5    15737888  Mitchell          850     Spain  Female   43   \n",
              "\n",
              "   Tenure    Balance  NumOfProducts  HasCrCard  IsActiveMember  \\\n",
              "0       2       0.00              1          1               1   \n",
              "1       1   83807.86              1          0               1   \n",
              "2       8  159660.80              3          1               0   \n",
              "3       1       0.00              2          0               0   \n",
              "4       2  125510.82              1          1               1   \n",
              "\n",
              "   EstimatedSalary  Exited  \n",
              "0        101348.88       1  \n",
              "1        112542.58       0  \n",
              "2        113931.57       1  \n",
              "3         93826.63       0  \n",
              "4         79084.10       0  "
            ],
            "text/html": [
              "\n",
              "  <div id=\"df-5aaae9a8-9bd4-4224-93c9-0345cd9c39f7\">\n",
              "    <div class=\"colab-df-container\">\n",
              "      <div>\n",
              "<style scoped>\n",
              "    .dataframe tbody tr th:only-of-type {\n",
              "        vertical-align: middle;\n",
              "    }\n",
              "\n",
              "    .dataframe tbody tr th {\n",
              "        vertical-align: top;\n",
              "    }\n",
              "\n",
              "    .dataframe thead th {\n",
              "        text-align: right;\n",
              "    }\n",
              "</style>\n",
              "<table border=\"1\" class=\"dataframe\">\n",
              "  <thead>\n",
              "    <tr style=\"text-align: right;\">\n",
              "      <th></th>\n",
              "      <th>RowNumber</th>\n",
              "      <th>CustomerId</th>\n",
              "      <th>Surname</th>\n",
              "      <th>CreditScore</th>\n",
              "      <th>Geography</th>\n",
              "      <th>Gender</th>\n",
              "      <th>Age</th>\n",
              "      <th>Tenure</th>\n",
              "      <th>Balance</th>\n",
              "      <th>NumOfProducts</th>\n",
              "      <th>HasCrCard</th>\n",
              "      <th>IsActiveMember</th>\n",
              "      <th>EstimatedSalary</th>\n",
              "      <th>Exited</th>\n",
              "    </tr>\n",
              "  </thead>\n",
              "  <tbody>\n",
              "    <tr>\n",
              "      <th>0</th>\n",
              "      <td>1</td>\n",
              "      <td>15634602</td>\n",
              "      <td>Hargrave</td>\n",
              "      <td>619</td>\n",
              "      <td>France</td>\n",
              "      <td>Female</td>\n",
              "      <td>42</td>\n",
              "      <td>2</td>\n",
              "      <td>0.00</td>\n",
              "      <td>1</td>\n",
              "      <td>1</td>\n",
              "      <td>1</td>\n",
              "      <td>101348.88</td>\n",
              "      <td>1</td>\n",
              "    </tr>\n",
              "    <tr>\n",
              "      <th>1</th>\n",
              "      <td>2</td>\n",
              "      <td>15647311</td>\n",
              "      <td>Hill</td>\n",
              "      <td>608</td>\n",
              "      <td>Spain</td>\n",
              "      <td>Female</td>\n",
              "      <td>41</td>\n",
              "      <td>1</td>\n",
              "      <td>83807.86</td>\n",
              "      <td>1</td>\n",
              "      <td>0</td>\n",
              "      <td>1</td>\n",
              "      <td>112542.58</td>\n",
              "      <td>0</td>\n",
              "    </tr>\n",
              "    <tr>\n",
              "      <th>2</th>\n",
              "      <td>3</td>\n",
              "      <td>15619304</td>\n",
              "      <td>Onio</td>\n",
              "      <td>502</td>\n",
              "      <td>France</td>\n",
              "      <td>Female</td>\n",
              "      <td>42</td>\n",
              "      <td>8</td>\n",
              "      <td>159660.80</td>\n",
              "      <td>3</td>\n",
              "      <td>1</td>\n",
              "      <td>0</td>\n",
              "      <td>113931.57</td>\n",
              "      <td>1</td>\n",
              "    </tr>\n",
              "    <tr>\n",
              "      <th>3</th>\n",
              "      <td>4</td>\n",
              "      <td>15701354</td>\n",
              "      <td>Boni</td>\n",
              "      <td>699</td>\n",
              "      <td>France</td>\n",
              "      <td>Female</td>\n",
              "      <td>39</td>\n",
              "      <td>1</td>\n",
              "      <td>0.00</td>\n",
              "      <td>2</td>\n",
              "      <td>0</td>\n",
              "      <td>0</td>\n",
              "      <td>93826.63</td>\n",
              "      <td>0</td>\n",
              "    </tr>\n",
              "    <tr>\n",
              "      <th>4</th>\n",
              "      <td>5</td>\n",
              "      <td>15737888</td>\n",
              "      <td>Mitchell</td>\n",
              "      <td>850</td>\n",
              "      <td>Spain</td>\n",
              "      <td>Female</td>\n",
              "      <td>43</td>\n",
              "      <td>2</td>\n",
              "      <td>125510.82</td>\n",
              "      <td>1</td>\n",
              "      <td>1</td>\n",
              "      <td>1</td>\n",
              "      <td>79084.10</td>\n",
              "      <td>0</td>\n",
              "    </tr>\n",
              "  </tbody>\n",
              "</table>\n",
              "</div>\n",
              "      <button class=\"colab-df-convert\" onclick=\"convertToInteractive('df-5aaae9a8-9bd4-4224-93c9-0345cd9c39f7')\"\n",
              "              title=\"Convert this dataframe to an interactive table.\"\n",
              "              style=\"display:none;\">\n",
              "        \n",
              "  <svg xmlns=\"http://www.w3.org/2000/svg\" height=\"24px\"viewBox=\"0 0 24 24\"\n",
              "       width=\"24px\">\n",
              "    <path d=\"M0 0h24v24H0V0z\" fill=\"none\"/>\n",
              "    <path d=\"M18.56 5.44l.94 2.06.94-2.06 2.06-.94-2.06-.94-.94-2.06-.94 2.06-2.06.94zm-11 1L8.5 8.5l.94-2.06 2.06-.94-2.06-.94L8.5 2.5l-.94 2.06-2.06.94zm10 10l.94 2.06.94-2.06 2.06-.94-2.06-.94-.94-2.06-.94 2.06-2.06.94z\"/><path d=\"M17.41 7.96l-1.37-1.37c-.4-.4-.92-.59-1.43-.59-.52 0-1.04.2-1.43.59L10.3 9.45l-7.72 7.72c-.78.78-.78 2.05 0 2.83L4 21.41c.39.39.9.59 1.41.59.51 0 1.02-.2 1.41-.59l7.78-7.78 2.81-2.81c.8-.78.8-2.07 0-2.86zM5.41 20L4 18.59l7.72-7.72 1.47 1.35L5.41 20z\"/>\n",
              "  </svg>\n",
              "      </button>\n",
              "      \n",
              "  <style>\n",
              "    .colab-df-container {\n",
              "      display:flex;\n",
              "      flex-wrap:wrap;\n",
              "      gap: 12px;\n",
              "    }\n",
              "\n",
              "    .colab-df-convert {\n",
              "      background-color: #E8F0FE;\n",
              "      border: none;\n",
              "      border-radius: 50%;\n",
              "      cursor: pointer;\n",
              "      display: none;\n",
              "      fill: #1967D2;\n",
              "      height: 32px;\n",
              "      padding: 0 0 0 0;\n",
              "      width: 32px;\n",
              "    }\n",
              "\n",
              "    .colab-df-convert:hover {\n",
              "      background-color: #E2EBFA;\n",
              "      box-shadow: 0px 1px 2px rgba(60, 64, 67, 0.3), 0px 1px 3px 1px rgba(60, 64, 67, 0.15);\n",
              "      fill: #174EA6;\n",
              "    }\n",
              "\n",
              "    [theme=dark] .colab-df-convert {\n",
              "      background-color: #3B4455;\n",
              "      fill: #D2E3FC;\n",
              "    }\n",
              "\n",
              "    [theme=dark] .colab-df-convert:hover {\n",
              "      background-color: #434B5C;\n",
              "      box-shadow: 0px 1px 3px 1px rgba(0, 0, 0, 0.15);\n",
              "      filter: drop-shadow(0px 1px 2px rgba(0, 0, 0, 0.3));\n",
              "      fill: #FFFFFF;\n",
              "    }\n",
              "  </style>\n",
              "\n",
              "      <script>\n",
              "        const buttonEl =\n",
              "          document.querySelector('#df-5aaae9a8-9bd4-4224-93c9-0345cd9c39f7 button.colab-df-convert');\n",
              "        buttonEl.style.display =\n",
              "          google.colab.kernel.accessAllowed ? 'block' : 'none';\n",
              "\n",
              "        async function convertToInteractive(key) {\n",
              "          const element = document.querySelector('#df-5aaae9a8-9bd4-4224-93c9-0345cd9c39f7');\n",
              "          const dataTable =\n",
              "            await google.colab.kernel.invokeFunction('convertToInteractive',\n",
              "                                                     [key], {});\n",
              "          if (!dataTable) return;\n",
              "\n",
              "          const docLinkHtml = 'Like what you see? Visit the ' +\n",
              "            '<a target=\"_blank\" href=https://colab.research.google.com/notebooks/data_table.ipynb>data table notebook</a>'\n",
              "            + ' to learn more about interactive tables.';\n",
              "          element.innerHTML = '';\n",
              "          dataTable['output_type'] = 'display_data';\n",
              "          await google.colab.output.renderOutput(dataTable, element);\n",
              "          const docLink = document.createElement('div');\n",
              "          docLink.innerHTML = docLinkHtml;\n",
              "          element.appendChild(docLink);\n",
              "        }\n",
              "      </script>\n",
              "    </div>\n",
              "  </div>\n",
              "  "
            ]
          },
          "metadata": {},
          "execution_count": 6
        }
      ]
    },
    {
      "cell_type": "code",
      "source": [
        "df.tail()"
      ],
      "metadata": {
        "colab": {
          "base_uri": "https://localhost:8080/",
          "height": 270
        },
        "id": "A_UPuF4adjDO",
        "outputId": "37aefd3a-cd2d-443c-fe66-8c0d64ccb6b3"
      },
      "execution_count": null,
      "outputs": [
        {
          "output_type": "execute_result",
          "data": {
            "text/plain": [
              "      RowNumber  CustomerId    Surname  CreditScore Geography  Gender  Age  \\\n",
              "9995       9996    15606229   Obijiaku          771    France    Male   39   \n",
              "9996       9997    15569892  Johnstone          516    France    Male   35   \n",
              "9997       9998    15584532        Liu          709    France  Female   36   \n",
              "9998       9999    15682355  Sabbatini          772   Germany    Male   42   \n",
              "9999      10000    15628319     Walker          792    France  Female   28   \n",
              "\n",
              "      Tenure    Balance  NumOfProducts  HasCrCard  IsActiveMember  \\\n",
              "9995       5       0.00              2          1               0   \n",
              "9996      10   57369.61              1          1               1   \n",
              "9997       7       0.00              1          0               1   \n",
              "9998       3   75075.31              2          1               0   \n",
              "9999       4  130142.79              1          1               0   \n",
              "\n",
              "      EstimatedSalary  Exited  \n",
              "9995         96270.64       0  \n",
              "9996        101699.77       0  \n",
              "9997         42085.58       1  \n",
              "9998         92888.52       1  \n",
              "9999         38190.78       0  "
            ],
            "text/html": [
              "\n",
              "  <div id=\"df-f469845e-5562-432b-8ad5-804530c71f52\">\n",
              "    <div class=\"colab-df-container\">\n",
              "      <div>\n",
              "<style scoped>\n",
              "    .dataframe tbody tr th:only-of-type {\n",
              "        vertical-align: middle;\n",
              "    }\n",
              "\n",
              "    .dataframe tbody tr th {\n",
              "        vertical-align: top;\n",
              "    }\n",
              "\n",
              "    .dataframe thead th {\n",
              "        text-align: right;\n",
              "    }\n",
              "</style>\n",
              "<table border=\"1\" class=\"dataframe\">\n",
              "  <thead>\n",
              "    <tr style=\"text-align: right;\">\n",
              "      <th></th>\n",
              "      <th>RowNumber</th>\n",
              "      <th>CustomerId</th>\n",
              "      <th>Surname</th>\n",
              "      <th>CreditScore</th>\n",
              "      <th>Geography</th>\n",
              "      <th>Gender</th>\n",
              "      <th>Age</th>\n",
              "      <th>Tenure</th>\n",
              "      <th>Balance</th>\n",
              "      <th>NumOfProducts</th>\n",
              "      <th>HasCrCard</th>\n",
              "      <th>IsActiveMember</th>\n",
              "      <th>EstimatedSalary</th>\n",
              "      <th>Exited</th>\n",
              "    </tr>\n",
              "  </thead>\n",
              "  <tbody>\n",
              "    <tr>\n",
              "      <th>9995</th>\n",
              "      <td>9996</td>\n",
              "      <td>15606229</td>\n",
              "      <td>Obijiaku</td>\n",
              "      <td>771</td>\n",
              "      <td>France</td>\n",
              "      <td>Male</td>\n",
              "      <td>39</td>\n",
              "      <td>5</td>\n",
              "      <td>0.00</td>\n",
              "      <td>2</td>\n",
              "      <td>1</td>\n",
              "      <td>0</td>\n",
              "      <td>96270.64</td>\n",
              "      <td>0</td>\n",
              "    </tr>\n",
              "    <tr>\n",
              "      <th>9996</th>\n",
              "      <td>9997</td>\n",
              "      <td>15569892</td>\n",
              "      <td>Johnstone</td>\n",
              "      <td>516</td>\n",
              "      <td>France</td>\n",
              "      <td>Male</td>\n",
              "      <td>35</td>\n",
              "      <td>10</td>\n",
              "      <td>57369.61</td>\n",
              "      <td>1</td>\n",
              "      <td>1</td>\n",
              "      <td>1</td>\n",
              "      <td>101699.77</td>\n",
              "      <td>0</td>\n",
              "    </tr>\n",
              "    <tr>\n",
              "      <th>9997</th>\n",
              "      <td>9998</td>\n",
              "      <td>15584532</td>\n",
              "      <td>Liu</td>\n",
              "      <td>709</td>\n",
              "      <td>France</td>\n",
              "      <td>Female</td>\n",
              "      <td>36</td>\n",
              "      <td>7</td>\n",
              "      <td>0.00</td>\n",
              "      <td>1</td>\n",
              "      <td>0</td>\n",
              "      <td>1</td>\n",
              "      <td>42085.58</td>\n",
              "      <td>1</td>\n",
              "    </tr>\n",
              "    <tr>\n",
              "      <th>9998</th>\n",
              "      <td>9999</td>\n",
              "      <td>15682355</td>\n",
              "      <td>Sabbatini</td>\n",
              "      <td>772</td>\n",
              "      <td>Germany</td>\n",
              "      <td>Male</td>\n",
              "      <td>42</td>\n",
              "      <td>3</td>\n",
              "      <td>75075.31</td>\n",
              "      <td>2</td>\n",
              "      <td>1</td>\n",
              "      <td>0</td>\n",
              "      <td>92888.52</td>\n",
              "      <td>1</td>\n",
              "    </tr>\n",
              "    <tr>\n",
              "      <th>9999</th>\n",
              "      <td>10000</td>\n",
              "      <td>15628319</td>\n",
              "      <td>Walker</td>\n",
              "      <td>792</td>\n",
              "      <td>France</td>\n",
              "      <td>Female</td>\n",
              "      <td>28</td>\n",
              "      <td>4</td>\n",
              "      <td>130142.79</td>\n",
              "      <td>1</td>\n",
              "      <td>1</td>\n",
              "      <td>0</td>\n",
              "      <td>38190.78</td>\n",
              "      <td>0</td>\n",
              "    </tr>\n",
              "  </tbody>\n",
              "</table>\n",
              "</div>\n",
              "      <button class=\"colab-df-convert\" onclick=\"convertToInteractive('df-f469845e-5562-432b-8ad5-804530c71f52')\"\n",
              "              title=\"Convert this dataframe to an interactive table.\"\n",
              "              style=\"display:none;\">\n",
              "        \n",
              "  <svg xmlns=\"http://www.w3.org/2000/svg\" height=\"24px\"viewBox=\"0 0 24 24\"\n",
              "       width=\"24px\">\n",
              "    <path d=\"M0 0h24v24H0V0z\" fill=\"none\"/>\n",
              "    <path d=\"M18.56 5.44l.94 2.06.94-2.06 2.06-.94-2.06-.94-.94-2.06-.94 2.06-2.06.94zm-11 1L8.5 8.5l.94-2.06 2.06-.94-2.06-.94L8.5 2.5l-.94 2.06-2.06.94zm10 10l.94 2.06.94-2.06 2.06-.94-2.06-.94-.94-2.06-.94 2.06-2.06.94z\"/><path d=\"M17.41 7.96l-1.37-1.37c-.4-.4-.92-.59-1.43-.59-.52 0-1.04.2-1.43.59L10.3 9.45l-7.72 7.72c-.78.78-.78 2.05 0 2.83L4 21.41c.39.39.9.59 1.41.59.51 0 1.02-.2 1.41-.59l7.78-7.78 2.81-2.81c.8-.78.8-2.07 0-2.86zM5.41 20L4 18.59l7.72-7.72 1.47 1.35L5.41 20z\"/>\n",
              "  </svg>\n",
              "      </button>\n",
              "      \n",
              "  <style>\n",
              "    .colab-df-container {\n",
              "      display:flex;\n",
              "      flex-wrap:wrap;\n",
              "      gap: 12px;\n",
              "    }\n",
              "\n",
              "    .colab-df-convert {\n",
              "      background-color: #E8F0FE;\n",
              "      border: none;\n",
              "      border-radius: 50%;\n",
              "      cursor: pointer;\n",
              "      display: none;\n",
              "      fill: #1967D2;\n",
              "      height: 32px;\n",
              "      padding: 0 0 0 0;\n",
              "      width: 32px;\n",
              "    }\n",
              "\n",
              "    .colab-df-convert:hover {\n",
              "      background-color: #E2EBFA;\n",
              "      box-shadow: 0px 1px 2px rgba(60, 64, 67, 0.3), 0px 1px 3px 1px rgba(60, 64, 67, 0.15);\n",
              "      fill: #174EA6;\n",
              "    }\n",
              "\n",
              "    [theme=dark] .colab-df-convert {\n",
              "      background-color: #3B4455;\n",
              "      fill: #D2E3FC;\n",
              "    }\n",
              "\n",
              "    [theme=dark] .colab-df-convert:hover {\n",
              "      background-color: #434B5C;\n",
              "      box-shadow: 0px 1px 3px 1px rgba(0, 0, 0, 0.15);\n",
              "      filter: drop-shadow(0px 1px 2px rgba(0, 0, 0, 0.3));\n",
              "      fill: #FFFFFF;\n",
              "    }\n",
              "  </style>\n",
              "\n",
              "      <script>\n",
              "        const buttonEl =\n",
              "          document.querySelector('#df-f469845e-5562-432b-8ad5-804530c71f52 button.colab-df-convert');\n",
              "        buttonEl.style.display =\n",
              "          google.colab.kernel.accessAllowed ? 'block' : 'none';\n",
              "\n",
              "        async function convertToInteractive(key) {\n",
              "          const element = document.querySelector('#df-f469845e-5562-432b-8ad5-804530c71f52');\n",
              "          const dataTable =\n",
              "            await google.colab.kernel.invokeFunction('convertToInteractive',\n",
              "                                                     [key], {});\n",
              "          if (!dataTable) return;\n",
              "\n",
              "          const docLinkHtml = 'Like what you see? Visit the ' +\n",
              "            '<a target=\"_blank\" href=https://colab.research.google.com/notebooks/data_table.ipynb>data table notebook</a>'\n",
              "            + ' to learn more about interactive tables.';\n",
              "          element.innerHTML = '';\n",
              "          dataTable['output_type'] = 'display_data';\n",
              "          await google.colab.output.renderOutput(dataTable, element);\n",
              "          const docLink = document.createElement('div');\n",
              "          docLink.innerHTML = docLinkHtml;\n",
              "          element.appendChild(docLink);\n",
              "        }\n",
              "      </script>\n",
              "    </div>\n",
              "  </div>\n",
              "  "
            ]
          },
          "metadata": {},
          "execution_count": 7
        }
      ]
    },
    {
      "cell_type": "markdown",
      "source": [
        "Se realiza un primer análisis estadístico de la base de datos con el fin de comenzar a comprender la distribución"
      ],
      "metadata": {
        "id": "03X2woR3dvbp"
      }
    },
    {
      "cell_type": "code",
      "source": [
        "df.describe()"
      ],
      "metadata": {
        "colab": {
          "base_uri": "https://localhost:8080/",
          "height": 364
        },
        "id": "fjHkkgHndv9U",
        "outputId": "f9530dfd-0005-4acb-9b92-1cbdd2f6917f"
      },
      "execution_count": null,
      "outputs": [
        {
          "output_type": "execute_result",
          "data": {
            "text/plain": [
              "         RowNumber    CustomerId   CreditScore           Age        Tenure  \\\n",
              "count  10000.00000  1.000000e+04  10000.000000  10000.000000  10000.000000   \n",
              "mean    5000.50000  1.569094e+07    650.528800     38.921800      5.012800   \n",
              "std     2886.89568  7.193619e+04     96.653299     10.487806      2.892174   \n",
              "min        1.00000  1.556570e+07    350.000000     18.000000      0.000000   \n",
              "25%     2500.75000  1.562853e+07    584.000000     32.000000      3.000000   \n",
              "50%     5000.50000  1.569074e+07    652.000000     37.000000      5.000000   \n",
              "75%     7500.25000  1.575323e+07    718.000000     44.000000      7.000000   \n",
              "max    10000.00000  1.581569e+07    850.000000     92.000000     10.000000   \n",
              "\n",
              "             Balance  NumOfProducts    HasCrCard  IsActiveMember  \\\n",
              "count   10000.000000   10000.000000  10000.00000    10000.000000   \n",
              "mean    76485.889288       1.530200      0.70550        0.515100   \n",
              "std     62397.405202       0.581654      0.45584        0.499797   \n",
              "min         0.000000       1.000000      0.00000        0.000000   \n",
              "25%         0.000000       1.000000      0.00000        0.000000   \n",
              "50%     97198.540000       1.000000      1.00000        1.000000   \n",
              "75%    127644.240000       2.000000      1.00000        1.000000   \n",
              "max    250898.090000       4.000000      1.00000        1.000000   \n",
              "\n",
              "       EstimatedSalary        Exited  \n",
              "count     10000.000000  10000.000000  \n",
              "mean     100090.239881      0.203700  \n",
              "std       57510.492818      0.402769  \n",
              "min          11.580000      0.000000  \n",
              "25%       51002.110000      0.000000  \n",
              "50%      100193.915000      0.000000  \n",
              "75%      149388.247500      0.000000  \n",
              "max      199992.480000      1.000000  "
            ],
            "text/html": [
              "\n",
              "  <div id=\"df-d82c45ec-73df-4e9e-91ad-8139733fa972\">\n",
              "    <div class=\"colab-df-container\">\n",
              "      <div>\n",
              "<style scoped>\n",
              "    .dataframe tbody tr th:only-of-type {\n",
              "        vertical-align: middle;\n",
              "    }\n",
              "\n",
              "    .dataframe tbody tr th {\n",
              "        vertical-align: top;\n",
              "    }\n",
              "\n",
              "    .dataframe thead th {\n",
              "        text-align: right;\n",
              "    }\n",
              "</style>\n",
              "<table border=\"1\" class=\"dataframe\">\n",
              "  <thead>\n",
              "    <tr style=\"text-align: right;\">\n",
              "      <th></th>\n",
              "      <th>RowNumber</th>\n",
              "      <th>CustomerId</th>\n",
              "      <th>CreditScore</th>\n",
              "      <th>Age</th>\n",
              "      <th>Tenure</th>\n",
              "      <th>Balance</th>\n",
              "      <th>NumOfProducts</th>\n",
              "      <th>HasCrCard</th>\n",
              "      <th>IsActiveMember</th>\n",
              "      <th>EstimatedSalary</th>\n",
              "      <th>Exited</th>\n",
              "    </tr>\n",
              "  </thead>\n",
              "  <tbody>\n",
              "    <tr>\n",
              "      <th>count</th>\n",
              "      <td>10000.00000</td>\n",
              "      <td>1.000000e+04</td>\n",
              "      <td>10000.000000</td>\n",
              "      <td>10000.000000</td>\n",
              "      <td>10000.000000</td>\n",
              "      <td>10000.000000</td>\n",
              "      <td>10000.000000</td>\n",
              "      <td>10000.00000</td>\n",
              "      <td>10000.000000</td>\n",
              "      <td>10000.000000</td>\n",
              "      <td>10000.000000</td>\n",
              "    </tr>\n",
              "    <tr>\n",
              "      <th>mean</th>\n",
              "      <td>5000.50000</td>\n",
              "      <td>1.569094e+07</td>\n",
              "      <td>650.528800</td>\n",
              "      <td>38.921800</td>\n",
              "      <td>5.012800</td>\n",
              "      <td>76485.889288</td>\n",
              "      <td>1.530200</td>\n",
              "      <td>0.70550</td>\n",
              "      <td>0.515100</td>\n",
              "      <td>100090.239881</td>\n",
              "      <td>0.203700</td>\n",
              "    </tr>\n",
              "    <tr>\n",
              "      <th>std</th>\n",
              "      <td>2886.89568</td>\n",
              "      <td>7.193619e+04</td>\n",
              "      <td>96.653299</td>\n",
              "      <td>10.487806</td>\n",
              "      <td>2.892174</td>\n",
              "      <td>62397.405202</td>\n",
              "      <td>0.581654</td>\n",
              "      <td>0.45584</td>\n",
              "      <td>0.499797</td>\n",
              "      <td>57510.492818</td>\n",
              "      <td>0.402769</td>\n",
              "    </tr>\n",
              "    <tr>\n",
              "      <th>min</th>\n",
              "      <td>1.00000</td>\n",
              "      <td>1.556570e+07</td>\n",
              "      <td>350.000000</td>\n",
              "      <td>18.000000</td>\n",
              "      <td>0.000000</td>\n",
              "      <td>0.000000</td>\n",
              "      <td>1.000000</td>\n",
              "      <td>0.00000</td>\n",
              "      <td>0.000000</td>\n",
              "      <td>11.580000</td>\n",
              "      <td>0.000000</td>\n",
              "    </tr>\n",
              "    <tr>\n",
              "      <th>25%</th>\n",
              "      <td>2500.75000</td>\n",
              "      <td>1.562853e+07</td>\n",
              "      <td>584.000000</td>\n",
              "      <td>32.000000</td>\n",
              "      <td>3.000000</td>\n",
              "      <td>0.000000</td>\n",
              "      <td>1.000000</td>\n",
              "      <td>0.00000</td>\n",
              "      <td>0.000000</td>\n",
              "      <td>51002.110000</td>\n",
              "      <td>0.000000</td>\n",
              "    </tr>\n",
              "    <tr>\n",
              "      <th>50%</th>\n",
              "      <td>5000.50000</td>\n",
              "      <td>1.569074e+07</td>\n",
              "      <td>652.000000</td>\n",
              "      <td>37.000000</td>\n",
              "      <td>5.000000</td>\n",
              "      <td>97198.540000</td>\n",
              "      <td>1.000000</td>\n",
              "      <td>1.00000</td>\n",
              "      <td>1.000000</td>\n",
              "      <td>100193.915000</td>\n",
              "      <td>0.000000</td>\n",
              "    </tr>\n",
              "    <tr>\n",
              "      <th>75%</th>\n",
              "      <td>7500.25000</td>\n",
              "      <td>1.575323e+07</td>\n",
              "      <td>718.000000</td>\n",
              "      <td>44.000000</td>\n",
              "      <td>7.000000</td>\n",
              "      <td>127644.240000</td>\n",
              "      <td>2.000000</td>\n",
              "      <td>1.00000</td>\n",
              "      <td>1.000000</td>\n",
              "      <td>149388.247500</td>\n",
              "      <td>0.000000</td>\n",
              "    </tr>\n",
              "    <tr>\n",
              "      <th>max</th>\n",
              "      <td>10000.00000</td>\n",
              "      <td>1.581569e+07</td>\n",
              "      <td>850.000000</td>\n",
              "      <td>92.000000</td>\n",
              "      <td>10.000000</td>\n",
              "      <td>250898.090000</td>\n",
              "      <td>4.000000</td>\n",
              "      <td>1.00000</td>\n",
              "      <td>1.000000</td>\n",
              "      <td>199992.480000</td>\n",
              "      <td>1.000000</td>\n",
              "    </tr>\n",
              "  </tbody>\n",
              "</table>\n",
              "</div>\n",
              "      <button class=\"colab-df-convert\" onclick=\"convertToInteractive('df-d82c45ec-73df-4e9e-91ad-8139733fa972')\"\n",
              "              title=\"Convert this dataframe to an interactive table.\"\n",
              "              style=\"display:none;\">\n",
              "        \n",
              "  <svg xmlns=\"http://www.w3.org/2000/svg\" height=\"24px\"viewBox=\"0 0 24 24\"\n",
              "       width=\"24px\">\n",
              "    <path d=\"M0 0h24v24H0V0z\" fill=\"none\"/>\n",
              "    <path d=\"M18.56 5.44l.94 2.06.94-2.06 2.06-.94-2.06-.94-.94-2.06-.94 2.06-2.06.94zm-11 1L8.5 8.5l.94-2.06 2.06-.94-2.06-.94L8.5 2.5l-.94 2.06-2.06.94zm10 10l.94 2.06.94-2.06 2.06-.94-2.06-.94-.94-2.06-.94 2.06-2.06.94z\"/><path d=\"M17.41 7.96l-1.37-1.37c-.4-.4-.92-.59-1.43-.59-.52 0-1.04.2-1.43.59L10.3 9.45l-7.72 7.72c-.78.78-.78 2.05 0 2.83L4 21.41c.39.39.9.59 1.41.59.51 0 1.02-.2 1.41-.59l7.78-7.78 2.81-2.81c.8-.78.8-2.07 0-2.86zM5.41 20L4 18.59l7.72-7.72 1.47 1.35L5.41 20z\"/>\n",
              "  </svg>\n",
              "      </button>\n",
              "      \n",
              "  <style>\n",
              "    .colab-df-container {\n",
              "      display:flex;\n",
              "      flex-wrap:wrap;\n",
              "      gap: 12px;\n",
              "    }\n",
              "\n",
              "    .colab-df-convert {\n",
              "      background-color: #E8F0FE;\n",
              "      border: none;\n",
              "      border-radius: 50%;\n",
              "      cursor: pointer;\n",
              "      display: none;\n",
              "      fill: #1967D2;\n",
              "      height: 32px;\n",
              "      padding: 0 0 0 0;\n",
              "      width: 32px;\n",
              "    }\n",
              "\n",
              "    .colab-df-convert:hover {\n",
              "      background-color: #E2EBFA;\n",
              "      box-shadow: 0px 1px 2px rgba(60, 64, 67, 0.3), 0px 1px 3px 1px rgba(60, 64, 67, 0.15);\n",
              "      fill: #174EA6;\n",
              "    }\n",
              "\n",
              "    [theme=dark] .colab-df-convert {\n",
              "      background-color: #3B4455;\n",
              "      fill: #D2E3FC;\n",
              "    }\n",
              "\n",
              "    [theme=dark] .colab-df-convert:hover {\n",
              "      background-color: #434B5C;\n",
              "      box-shadow: 0px 1px 3px 1px rgba(0, 0, 0, 0.15);\n",
              "      filter: drop-shadow(0px 1px 2px rgba(0, 0, 0, 0.3));\n",
              "      fill: #FFFFFF;\n",
              "    }\n",
              "  </style>\n",
              "\n",
              "      <script>\n",
              "        const buttonEl =\n",
              "          document.querySelector('#df-d82c45ec-73df-4e9e-91ad-8139733fa972 button.colab-df-convert');\n",
              "        buttonEl.style.display =\n",
              "          google.colab.kernel.accessAllowed ? 'block' : 'none';\n",
              "\n",
              "        async function convertToInteractive(key) {\n",
              "          const element = document.querySelector('#df-d82c45ec-73df-4e9e-91ad-8139733fa972');\n",
              "          const dataTable =\n",
              "            await google.colab.kernel.invokeFunction('convertToInteractive',\n",
              "                                                     [key], {});\n",
              "          if (!dataTable) return;\n",
              "\n",
              "          const docLinkHtml = 'Like what you see? Visit the ' +\n",
              "            '<a target=\"_blank\" href=https://colab.research.google.com/notebooks/data_table.ipynb>data table notebook</a>'\n",
              "            + ' to learn more about interactive tables.';\n",
              "          element.innerHTML = '';\n",
              "          dataTable['output_type'] = 'display_data';\n",
              "          await google.colab.output.renderOutput(dataTable, element);\n",
              "          const docLink = document.createElement('div');\n",
              "          docLink.innerHTML = docLinkHtml;\n",
              "          element.appendChild(docLink);\n",
              "        }\n",
              "      </script>\n",
              "    </div>\n",
              "  </div>\n",
              "  "
            ]
          },
          "metadata": {},
          "execution_count": 8
        }
      ]
    },
    {
      "cell_type": "markdown",
      "source": [
        "De lo anterior, se evidencia que solo se cuenta con información de personas de entre: 18 y 92. Por otra parte, que el máximo salario  estimado es de 199992.48 y que el mínimo salario estimado es 11.58, lo cual probablemente sea un outlier y se requerirá manejar esto en la fase de limpieza."
      ],
      "metadata": {
        "id": "8Wtsf5gBdy1l"
      }
    },
    {
      "cell_type": "markdown",
      "source": [
        "####Verificar si existen datos Nulos/NA"
      ],
      "metadata": {
        "id": "1PiWGGv9ewG4"
      }
    },
    {
      "cell_type": "markdown",
      "source": [
        "Es de vital importancia conocer si existen datos perdidos dentro del dataset, ya que esto puede impactar significativamente el análisis y de ocurrir se debe definir una estrategia para manejarlo:"
      ],
      "metadata": {
        "id": "zjd5WWDeeycP"
      }
    },
    {
      "cell_type": "code",
      "source": [
        "df.isna().sum()"
      ],
      "metadata": {
        "colab": {
          "base_uri": "https://localhost:8080/"
        },
        "id": "goaDtJJ7ex6g",
        "outputId": "dc658ac9-601b-4409-843b-991e30f1ea99"
      },
      "execution_count": null,
      "outputs": [
        {
          "output_type": "execute_result",
          "data": {
            "text/plain": [
              "RowNumber          0\n",
              "CustomerId         0\n",
              "Surname            0\n",
              "CreditScore        0\n",
              "Geography          0\n",
              "Gender             0\n",
              "Age                0\n",
              "Tenure             0\n",
              "Balance            0\n",
              "NumOfProducts      0\n",
              "HasCrCard          0\n",
              "IsActiveMember     0\n",
              "EstimatedSalary    0\n",
              "Exited             0\n",
              "dtype: int64"
            ]
          },
          "metadata": {},
          "execution_count": 9
        }
      ]
    },
    {
      "cell_type": "markdown",
      "source": [
        "Afortunadamente, se evidencia que es una bases de datos completa sin ningún dato perdido"
      ],
      "metadata": {
        "id": "wwuH5elOe3ay"
      }
    },
    {
      "cell_type": "markdown",
      "source": [
        "####Verificar los valores numéricos"
      ],
      "metadata": {
        "id": "GB7UKmeve-Q3"
      }
    },
    {
      "cell_type": "markdown",
      "source": [
        "Ahora, se quiere observar la distribución de los datos y dar un primer vistazo a la existencia de datos atípicos(outliers):"
      ],
      "metadata": {
        "id": "c9AhBiGHfGFM"
      }
    },
    {
      "cell_type": "code",
      "source": [
        "df[['CreditScore','Age','Tenure','Balance','NumOfProducts','EstimatedSalary']].hist(bins=60, figsize =( 20 , 10))"
      ],
      "metadata": {
        "colab": {
          "base_uri": "https://localhost:8080/",
          "height": 211
        },
        "id": "IG_hgRyPe60q",
        "outputId": "10407efc-4272-4264-a106-066e60b282e6"
      },
      "execution_count": null,
      "outputs": [
        {
          "output_type": "error",
          "ename": "NameError",
          "evalue": "ignored",
          "traceback": [
            "\u001b[0;31m---------------------------------------------------------------------------\u001b[0m",
            "\u001b[0;31mNameError\u001b[0m                                 Traceback (most recent call last)",
            "\u001b[0;32m<ipython-input-1-92d570491a08>\u001b[0m in \u001b[0;36m<cell line: 1>\u001b[0;34m()\u001b[0m\n\u001b[0;32m----> 1\u001b[0;31m \u001b[0mcanciones\u001b[0m\u001b[0;34m[\u001b[0m\u001b[0;34m[\u001b[0m\u001b[0;34m'msPlayed'\u001b[0m\u001b[0;34m,\u001b[0m\u001b[0;34m'danceability'\u001b[0m\u001b[0;34m,\u001b[0m\u001b[0;34m'energy'\u001b[0m \u001b[0;34m,\u001b[0m\u001b[0;34m'loudness'\u001b[0m\u001b[0;34m,\u001b[0m \u001b[0;34m'speechiness'\u001b[0m\u001b[0;34m,\u001b[0m\u001b[0;34m'acousticness'\u001b[0m\u001b[0;34m,\u001b[0m \u001b[0;34m'instrumentalness'\u001b[0m\u001b[0;34m,\u001b[0m\u001b[0;34m'liveness'\u001b[0m\u001b[0;34m,\u001b[0m\u001b[0;34m'valence'\u001b[0m\u001b[0;34m,\u001b[0m\u001b[0;34m'tempo'\u001b[0m\u001b[0;34m,\u001b[0m\u001b[0;34m'duration_ms'\u001b[0m\u001b[0;34m,\u001b[0m\u001b[0;34m'time_signature'\u001b[0m\u001b[0;34m]\u001b[0m\u001b[0;34m]\u001b[0m\u001b[0;34m.\u001b[0m\u001b[0mhist\u001b[0m\u001b[0;34m(\u001b[0m\u001b[0mbins\u001b[0m\u001b[0;34m=\u001b[0m\u001b[0;36m60\u001b[0m\u001b[0;34m,\u001b[0m \u001b[0mfigsize\u001b[0m \u001b[0;34m=\u001b[0m\u001b[0;34m(\u001b[0m \u001b[0;36m20\u001b[0m \u001b[0;34m,\u001b[0m \u001b[0;36m10\u001b[0m\u001b[0;34m)\u001b[0m\u001b[0;34m)\u001b[0m\u001b[0;34m\u001b[0m\u001b[0;34m\u001b[0m\u001b[0m\n\u001b[0m",
            "\u001b[0;31mNameError\u001b[0m: name 'canciones' is not defined"
          ]
        }
      ]
    },
    {
      "cell_type": "markdown",
      "source": [
        "Se evidencia que el 'creditScore' tiene una distribución asimétrica sesgada negativamente y 'age' tiene una distribución asimétrica sesgada positivamente. También, No se evidencia grandes Outliers, pero igualmente se hara un proceso para verificar esto en una etapa siguiente"
      ],
      "metadata": {
        "id": "Fto0G9-Egiyl"
      }
    },
    {
      "cell_type": "markdown",
      "source": [
        "![image.png](data:image/png;base64,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)"
      ],
      "metadata": {
        "id": "fvAIb5xshEUI"
      }
    },
    {
      "cell_type": "markdown",
      "source": [
        "Luego, con el fin de complementar la anterior información, se grafican 'box plot' para cada uno de los datos numéricos, con el fin de evidenciar el posicionamiento de los quartiles y, por lo tanto, la distribución de los datos:\n",
        "\n"
      ],
      "metadata": {
        "id": "Cs__bAzTha_j"
      }
    },
    {
      "cell_type": "code",
      "source": [
        "sns.set()\n",
        "fig, axes = plt.subplots(3, 2)\n",
        "\n",
        "ax1 = sns.boxplot(data=df['CreditScore'], orient=\"h\", ax=axes[0,0])\n",
        "ax1.set(xlabel='Credit Score')\n",
        "\n",
        "ax2 = sns.boxplot(data=df['Age'], orient=\"h\", ax=axes[0,1])\n",
        "ax2.set(xlabel='Age')\n",
        "\n",
        "ax3 = sns.boxplot(data=df['Tenure'], orient=\"h\", ax=axes[1,0])\n",
        "ax3.set(xlabel='Tenure')\n",
        "\n",
        "ax4 = sns.boxplot(data=df['Balance'], orient=\"h\", ax=axes[1,1])\n",
        "ax4.set(xlabel='Balance')\n",
        "\n",
        "ax5 = sns.boxplot(data=df['NumOfProducts'], orient=\"h\", ax=axes[2,0])\n",
        "ax5.set(xlabel='Num O Products')\n",
        "\n",
        "ax6 = sns.boxplot(data=df['EstimatedSalary'], orient=\"h\", ax=axes[2,1])\n",
        "ax6.set(xlabel='Estimated Salary')\n",
        "\n",
        "\n",
        "plt.tight_layout()\n",
        "plt.show()"
      ],
      "metadata": {
        "colab": {
          "base_uri": "https://localhost:8080/",
          "height": 480
        },
        "id": "1J5Dmveyg8mj",
        "outputId": "53b5cbfb-b322-4472-eda0-7d895df07d9b"
      },
      "execution_count": null,
      "outputs": [
        {
          "output_type": "display_data",
          "data": {
            "text/plain": [
              "<Figure size 640x480 with 6 Axes>"
            ],
            "image/png": "[encoded data removed]"
          },
          "metadata": {}
        }
      ]
    },
    {
      "cell_type": "markdown",
      "source": [
        "No existen grandes outliers dentro del dataset, luego , en la fase de limpieza se definirá la estrategia para manejar los outliers y se implementara."
      ],
      "metadata": {
        "id": "_b-7iS5iijoY"
      }
    },
    {
      "cell_type": "markdown",
      "source": [
        "####Valores Categóricos"
      ],
      "metadata": {
        "id": "XByfHvaxiug_"
      }
    },
    {
      "cell_type": "markdown",
      "source": [
        "Se realiza un primer acercamiento a la distribución de los datos en cuanto los valores categóricos. Con el fin de empezar a ganar una mayor comprensión de los datos:"
      ],
      "metadata": {
        "id": "214v458giw7S"
      }
    },
    {
      "cell_type": "code",
      "source": [
        "df['Geography'].value_counts()"
      ],
      "metadata": {
        "colab": {
          "base_uri": "https://localhost:8080/"
        },
        "id": "CkK3YgIMig_p",
        "outputId": "48257854-b82e-4206-9e5d-77849074632c"
      },
      "execution_count": null,
      "outputs": [
        {
          "output_type": "execute_result",
          "data": {
            "text/plain": [
              "France     5014\n",
              "Germany    2509\n",
              "Spain      2477\n",
              "Name: Geography, dtype: int64"
            ]
          },
          "metadata": {},
          "execution_count": 12
        }
      ]
    },
    {
      "cell_type": "markdown",
      "source": [
        "Se evidencia que el país donde la mayoria de clientes esta ubicado es Francia"
      ],
      "metadata": {
        "id": "s9VY1diyi9rW"
      }
    },
    {
      "cell_type": "code",
      "source": [
        "df['Gender'].value_counts()"
      ],
      "metadata": {
        "colab": {
          "base_uri": "https://localhost:8080/"
        },
        "id": "qzhWGJrbjKRr",
        "outputId": "05673ba1-8687-4e70-f257-f1b43801164a"
      },
      "execution_count": null,
      "outputs": [
        {
          "output_type": "execute_result",
          "data": {
            "text/plain": [
              "Male      5457\n",
              "Female    4543\n",
              "Name: Gender, dtype: int64"
            ]
          },
          "metadata": {},
          "execution_count": 13
        }
      ]
    },
    {
      "cell_type": "markdown",
      "source": [
        "Se observa que se cuenta con mayor información de Hombres. Aunque, no esta muy distante de las mujeres"
      ],
      "metadata": {
        "id": "5DnInEJBjP2s"
      }
    },
    {
      "cell_type": "markdown",
      "source": [
        "#### Valores booleanos"
      ],
      "metadata": {
        "id": "hqJp1Q7yjcgK"
      }
    },
    {
      "cell_type": "markdown",
      "source": [
        "Se conviertesn las variables booleans al tipo bool"
      ],
      "metadata": {
        "id": "xwU0LIYWjhQa"
      }
    },
    {
      "cell_type": "code",
      "source": [
        "df['HasCrCard'] = df['HasCrCard'].astype(bool)\n",
        "df['IsActiveMember'] = df['IsActiveMember'].astype(bool)\n",
        "df['Exited'] = df['Exited'].astype(bool)"
      ],
      "metadata": {
        "id": "CjAiKQ2Hjghs"
      },
      "execution_count": null,
      "outputs": []
    },
    {
      "cell_type": "code",
      "source": [
        "df.dtypes"
      ],
      "metadata": {
        "colab": {
          "base_uri": "https://localhost:8080/"
        },
        "id": "WuJTUaMpkD7V",
        "outputId": "b2470028-4558-486c-fcf1-6cabda61ade8"
      },
      "execution_count": null,
      "outputs": [
        {
          "output_type": "execute_result",
          "data": {
            "text/plain": [
              "RowNumber            int64\n",
              "CustomerId           int64\n",
              "Surname             object\n",
              "CreditScore          int64\n",
              "Geography           object\n",
              "Gender              object\n",
              "Age                  int64\n",
              "Tenure               int64\n",
              "Balance            float64\n",
              "NumOfProducts        int64\n",
              "HasCrCard             bool\n",
              "IsActiveMember        bool\n",
              "EstimatedSalary    float64\n",
              "Exited                bool\n",
              "dtype: object"
            ]
          },
          "metadata": {},
          "execution_count": 15
        }
      ]
    },
    {
      "cell_type": "markdown",
      "source": [
        "Ahora, se mira la distribución de estas variables:"
      ],
      "metadata": {
        "id": "vE6WEuKekPSS"
      }
    },
    {
      "cell_type": "code",
      "source": [
        "df['HasCrCard'].value_counts()"
      ],
      "metadata": {
        "colab": {
          "base_uri": "https://localhost:8080/"
        },
        "id": "Cv8e3sYpkOik",
        "outputId": "032dbb84-0bff-4a8a-899e-a38bb6193f98"
      },
      "execution_count": null,
      "outputs": [
        {
          "output_type": "execute_result",
          "data": {
            "text/plain": [
              "True     7055\n",
              "False    2945\n",
              "Name: HasCrCard, dtype: int64"
            ]
          },
          "metadata": {},
          "execution_count": 16
        }
      ]
    },
    {
      "cell_type": "code",
      "source": [
        "df['IsActiveMember'].value_counts()"
      ],
      "metadata": {
        "colab": {
          "base_uri": "https://localhost:8080/"
        },
        "id": "MvqFJ2VTkfDx",
        "outputId": "001b8567-36c5-4e28-cb21-872354dfba62"
      },
      "execution_count": null,
      "outputs": [
        {
          "output_type": "execute_result",
          "data": {
            "text/plain": [
              "True     5151\n",
              "False    4849\n",
              "Name: IsActiveMember, dtype: int64"
            ]
          },
          "metadata": {},
          "execution_count": 17
        }
      ]
    },
    {
      "cell_type": "code",
      "source": [
        "df['Exited'].value_counts()"
      ],
      "metadata": {
        "colab": {
          "base_uri": "https://localhost:8080/"
        },
        "id": "31xNtRLGkhGg",
        "outputId": "da495eb0-1345-47c0-9dd9-5f5a680b8a5e"
      },
      "execution_count": null,
      "outputs": [
        {
          "output_type": "execute_result",
          "data": {
            "text/plain": [
              "False    7963\n",
              "True     2037\n",
              "Name: Exited, dtype: int64"
            ]
          },
          "metadata": {},
          "execution_count": 18
        }
      ]
    },
    {
      "cell_type": "markdown",
      "source": [
        "###Limpieza"
      ],
      "metadata": {
        "id": "93TLZPwsjoj3"
      }
    },
    {
      "cell_type": "markdown",
      "source": [
        "El objetivo de esta sección es limpiar la bases de datos con el fin de poder realizar un buen análisis, en esta base de datos lo único que se debe hacer en esta parte es manejar los outliers\n",
        "\n"
      ],
      "metadata": {
        "id": "lUw5uwozk0p0"
      }
    },
    {
      "cell_type": "markdown",
      "source": [
        "####Valores numéricos - eliminar outliers"
      ],
      "metadata": {
        "id": "ZCtWLcF3k1uY"
      }
    },
    {
      "cell_type": "markdown",
      "source": [
        "El procedimiento para manejar los outliers es el siguiente:\n",
        "\n",
        "1.   Se calculan los cuartiles para cada variable\n",
        "2.   Se calcula el rango intercuartil(IQR) de la siguiente forma Q3-Q1, tener en cuenta que el IQR es una medida de la dispersión de los datos\n",
        "3.  Se calcula el límite superior para los valores atípicos. Se obtiene sumando 1.5 veces el IQR al tercer cuartil. Los valores superiores a este límite se considerarán valores atípicos.\n",
        "4. Se calcula el límite inferior para los valores atípicos. Se obtiene restando 1.5 veces el IQR al primer cuartil. Los valores inferiores a este límite se considerarán valores atípicos\n",
        "5. Se ajustan los valores que están por debajo del límite inferior de manera que sean iguales al valor mínimo de los valores que están dentro del rango aceptable\n",
        "6. se ajustan los valores que están por encima del límite superior de manera que sean iguales al valor máximo de los valores que están dentro del rango aceptable\n",
        "\n",
        "Recordar que todo esto se basa en los Cuartiles, medida que me permite conocer el posicionamiento de los datos y su dispersión"
      ],
      "metadata": {
        "id": "zA9YT4hUk4qb"
      }
    },
    {
      "cell_type": "markdown",
      "source": [
        "Se crea una función que realice todo este proceso:"
      ],
      "metadata": {
        "id": "rdwY3HaFlEgU"
      }
    },
    {
      "cell_type": "code",
      "source": [
        "def handle_outliers(df):\n",
        "\n",
        "    stats = df.describe()\n",
        "    Q1 = stats.loc['25%']\n",
        "    Q3 = stats.loc['75%']\n",
        "    IQR = Q3 - Q1\n",
        "    max_contiction = Q3 + (1.5 * IQR)\n",
        "    min_contiction = Q1 - (1.5 * IQR)\n",
        "\n",
        "    for i, column in enumerate(df.columns):\n",
        "        df.loc[df[column] < min_contiction[i], column] = df.loc[df[column] >= min_contiction[i], column].min()\n",
        "        df.loc[df[column] > max_contiction[i], column] = df.loc[df[column] <= max_contiction[i], column].max()\n",
        "\n",
        "    return df"
      ],
      "metadata": {
        "id": "7oVg96Xpk_jm"
      },
      "execution_count": null,
      "outputs": []
    },
    {
      "cell_type": "markdown",
      "source": [
        "Se realiza el manejo de los Outliers:"
      ],
      "metadata": {
        "id": "zHZsIApulNik"
      }
    },
    {
      "cell_type": "code",
      "source": [
        "df_no_outliers = handle_outliers(df[['CreditScore','Age','Balance','EstimatedSalary']])"
      ],
      "metadata": {
        "id": "_Zq1by9-lM5s"
      },
      "execution_count": null,
      "outputs": []
    },
    {
      "cell_type": "code",
      "source": [
        "df_no_outliers.head()"
      ],
      "metadata": {
        "colab": {
          "base_uri": "https://localhost:8080/",
          "height": 206
        },
        "id": "_dP-RXm9lRZM",
        "outputId": "77a182b9-c9a8-4b56-c6a8-2db487a04f5a"
      },
      "execution_count": null,
      "outputs": [
        {
          "output_type": "execute_result",
          "data": {
            "text/plain": [
              "   CreditScore  Age    Balance  EstimatedSalary\n",
              "0          619   42       0.00        101348.88\n",
              "1          608   41   83807.86        112542.58\n",
              "2          502   42  159660.80        113931.57\n",
              "3          699   39       0.00         93826.63\n",
              "4          850   43  125510.82         79084.10"
            ],
            "text/html": [
              "\n",
              "  <div id=\"df-fea5b8e6-7ad6-4c63-a6e8-7ceca78486ea\">\n",
              "    <div class=\"colab-df-container\">\n",
              "      <div>\n",
              "<style scoped>\n",
              "    .dataframe tbody tr th:only-of-type {\n",
              "        vertical-align: middle;\n",
              "    }\n",
              "\n",
              "    .dataframe tbody tr th {\n",
              "        vertical-align: top;\n",
              "    }\n",
              "\n",
              "    .dataframe thead th {\n",
              "        text-align: right;\n",
              "    }\n",
              "</style>\n",
              "<table border=\"1\" class=\"dataframe\">\n",
              "  <thead>\n",
              "    <tr style=\"text-align: right;\">\n",
              "      <th></th>\n",
              "      <th>CreditScore</th>\n",
              "      <th>Age</th>\n",
              "      <th>Balance</th>\n",
              "      <th>EstimatedSalary</th>\n",
              "    </tr>\n",
              "  </thead>\n",
              "  <tbody>\n",
              "    <tr>\n",
              "      <th>0</th>\n",
              "      <td>619</td>\n",
              "      <td>42</td>\n",
              "      <td>0.00</td>\n",
              "      <td>101348.88</td>\n",
              "    </tr>\n",
              "    <tr>\n",
              "      <th>1</th>\n",
              "      <td>608</td>\n",
              "      <td>41</td>\n",
              "      <td>83807.86</td>\n",
              "      <td>112542.58</td>\n",
              "    </tr>\n",
              "    <tr>\n",
              "      <th>2</th>\n",
              "      <td>502</td>\n",
              "      <td>42</td>\n",
              "      <td>159660.80</td>\n",
              "      <td>113931.57</td>\n",
              "    </tr>\n",
              "    <tr>\n",
              "      <th>3</th>\n",
              "      <td>699</td>\n",
              "      <td>39</td>\n",
              "      <td>0.00</td>\n",
              "      <td>93826.63</td>\n",
              "    </tr>\n",
              "    <tr>\n",
              "      <th>4</th>\n",
              "      <td>850</td>\n",
              "      <td>43</td>\n",
              "      <td>125510.82</td>\n",
              "      <td>79084.10</td>\n",
              "    </tr>\n",
              "  </tbody>\n",
              "</table>\n",
              "</div>\n",
              "      <button class=\"colab-df-convert\" onclick=\"convertToInteractive('df-fea5b8e6-7ad6-4c63-a6e8-7ceca78486ea')\"\n",
              "              title=\"Convert this dataframe to an interactive table.\"\n",
              "              style=\"display:none;\">\n",
              "        \n",
              "  <svg xmlns=\"http://www.w3.org/2000/svg\" height=\"24px\"viewBox=\"0 0 24 24\"\n",
              "       width=\"24px\">\n",
              "    <path d=\"M0 0h24v24H0V0z\" fill=\"none\"/>\n",
              "    <path d=\"M18.56 5.44l.94 2.06.94-2.06 2.06-.94-2.06-.94-.94-2.06-.94 2.06-2.06.94zm-11 1L8.5 8.5l.94-2.06 2.06-.94-2.06-.94L8.5 2.5l-.94 2.06-2.06.94zm10 10l.94 2.06.94-2.06 2.06-.94-2.06-.94-.94-2.06-.94 2.06-2.06.94z\"/><path d=\"M17.41 7.96l-1.37-1.37c-.4-.4-.92-.59-1.43-.59-.52 0-1.04.2-1.43.59L10.3 9.45l-7.72 7.72c-.78.78-.78 2.05 0 2.83L4 21.41c.39.39.9.59 1.41.59.51 0 1.02-.2 1.41-.59l7.78-7.78 2.81-2.81c.8-.78.8-2.07 0-2.86zM5.41 20L4 18.59l7.72-7.72 1.47 1.35L5.41 20z\"/>\n",
              "  </svg>\n",
              "      </button>\n",
              "      \n",
              "  <style>\n",
              "    .colab-df-container {\n",
              "      display:flex;\n",
              "      flex-wrap:wrap;\n",
              "      gap: 12px;\n",
              "    }\n",
              "\n",
              "    .colab-df-convert {\n",
              "      background-color: #E8F0FE;\n",
              "      border: none;\n",
              "      border-radius: 50%;\n",
              "      cursor: pointer;\n",
              "      display: none;\n",
              "      fill: #1967D2;\n",
              "      height: 32px;\n",
              "      padding: 0 0 0 0;\n",
              "      width: 32px;\n",
              "    }\n",
              "\n",
              "    .colab-df-convert:hover {\n",
              "      background-color: #E2EBFA;\n",
              "      box-shadow: 0px 1px 2px rgba(60, 64, 67, 0.3), 0px 1px 3px 1px rgba(60, 64, 67, 0.15);\n",
              "      fill: #174EA6;\n",
              "    }\n",
              "\n",
              "    [theme=dark] .colab-df-convert {\n",
              "      background-color: #3B4455;\n",
              "      fill: #D2E3FC;\n",
              "    }\n",
              "\n",
              "    [theme=dark] .colab-df-convert:hover {\n",
              "      background-color: #434B5C;\n",
              "      box-shadow: 0px 1px 3px 1px rgba(0, 0, 0, 0.15);\n",
              "      filter: drop-shadow(0px 1px 2px rgba(0, 0, 0, 0.3));\n",
              "      fill: #FFFFFF;\n",
              "    }\n",
              "  </style>\n",
              "\n",
              "      <script>\n",
              "        const buttonEl =\n",
              "          document.querySelector('#df-fea5b8e6-7ad6-4c63-a6e8-7ceca78486ea button.colab-df-convert');\n",
              "        buttonEl.style.display =\n",
              "          google.colab.kernel.accessAllowed ? 'block' : 'none';\n",
              "\n",
              "        async function convertToInteractive(key) {\n",
              "          const element = document.querySelector('#df-fea5b8e6-7ad6-4c63-a6e8-7ceca78486ea');\n",
              "          const dataTable =\n",
              "            await google.colab.kernel.invokeFunction('convertToInteractive',\n",
              "                                                     [key], {});\n",
              "          if (!dataTable) return;\n",
              "\n",
              "          const docLinkHtml = 'Like what you see? Visit the ' +\n",
              "            '<a target=\"_blank\" href=https://colab.research.google.com/notebooks/data_table.ipynb>data table notebook</a>'\n",
              "            + ' to learn more about interactive tables.';\n",
              "          element.innerHTML = '';\n",
              "          dataTable['output_type'] = 'display_data';\n",
              "          await google.colab.output.renderOutput(dataTable, element);\n",
              "          const docLink = document.createElement('div');\n",
              "          docLink.innerHTML = docLinkHtml;\n",
              "          element.appendChild(docLink);\n",
              "        }\n",
              "      </script>\n",
              "    </div>\n",
              "  </div>\n",
              "  "
            ]
          },
          "metadata": {},
          "execution_count": 21
        }
      ]
    },
    {
      "cell_type": "code",
      "source": [
        "df_no_outliers.hist(bins=60, figsize =( 20 , 10))"
      ],
      "metadata": {
        "colab": {
          "base_uri": "https://localhost:8080/",
          "height": 590
        },
        "id": "Z8_25nzCmeyG",
        "outputId": "e2ad4ee3-d2a4-4f67-aa63-ccb91671b990"
      },
      "execution_count": null,
      "outputs": [
        {
          "output_type": "execute_result",
          "data": {
            "text/plain": [
              "array([[<Axes: title={'center': 'CreditScore'}>,\n",
              "        <Axes: title={'center': 'Age'}>],\n",
              "       [<Axes: title={'center': 'Balance'}>,\n",
              "        <Axes: title={'center': 'EstimatedSalary'}>]], dtype=object)"
            ]
          },
          "metadata": {},
          "execution_count": 22
        },
        {
          "output_type": "display_data",
          "data": {
            "text/plain": [
              "<Figure size 2000x1000 with 4 Axes>"
            ],
            "image/png": "[encoded data removed]"
          },
          "metadata": {}
        }
      ]
    },
    {
      "cell_type": "markdown",
      "source": [
        "De esta forma se evidencia de manera clara el comportamiento de cada variable, y de igual forma los outliers ya no estan presentes.\n",
        "\n",
        "Se procede a revisar el comportamiento de los cuartiles:"
      ],
      "metadata": {
        "id": "76NQYdMBnKI9"
      }
    },
    {
      "cell_type": "code",
      "source": [
        "sns.set()\n",
        "fig, axes = plt.subplots(2, 2)\n",
        "\n",
        "ax1 = sns.boxplot(data=df_no_outliers['CreditScore'], orient=\"h\", ax=axes[0,0])\n",
        "ax1.set(xlabel='Credict Score')\n",
        "\n",
        "ax2 = sns.boxplot(data=df_no_outliers['Age'], orient=\"h\", ax=axes[0,1])\n",
        "ax2.set(xlabel='Age')\n",
        "\n",
        "\n",
        "\n",
        "ax4 = sns.boxplot(data=df_no_outliers['Balance'], orient=\"h\", ax=axes[1,0])\n",
        "ax4.set(xlabel='Balance')\n",
        "\n",
        "ax5 = sns.boxplot(data=df_no_outliers['EstimatedSalary'], orient=\"h\", ax=axes[1,1])\n",
        "ax5.set(xlabel='EstimatedSalary')\n",
        "\n",
        "\n",
        "\n",
        "\n",
        "plt.tight_layout()\n",
        "plt.show()\n"
      ],
      "metadata": {
        "colab": {
          "base_uri": "https://localhost:8080/",
          "height": 480
        },
        "id": "j9W2Y6mJnK8f",
        "outputId": "95cda309-8bb5-48cd-dce7-cf36c63e3c93"
      },
      "execution_count": null,
      "outputs": [
        {
          "output_type": "display_data",
          "data": {
            "text/plain": [
              "<Figure size 640x480 with 4 Axes>"
            ],
            "image/png": "[encoded data removed]"
          },
          "metadata": {}
        }
      ]
    },
    {
      "cell_type": "markdown",
      "source": [
        "De igual forma, se puede apreciar la dispersión de los valores de una manera más clara\n",
        "\n",
        "Ahora, se eliminan las columnas con outliers del Dataframe original y se agregan de nuevo, pero ahora con la estrategia de outliers implementada:"
      ],
      "metadata": {
        "id": "Q17UbnDIoJJk"
      }
    },
    {
      "cell_type": "code",
      "source": [
        "df = df.drop(['CreditScore'], axis=1)\n",
        "df = df.drop(['Age'], axis=1)\n",
        "df = df.drop(['Balance'], axis=1)\n",
        "df = df.drop(['EstimatedSalary'], axis=1)\n",
        "df = df.drop(['CustomerID'])\n"
      ],
      "metadata": {
        "id": "mIkzs5cloKML"
      },
      "execution_count": null,
      "outputs": []
    },
    {
      "cell_type": "code",
      "source": [
        "df_2 = pd.concat([df, df_no_outliers], axis=1)"
      ],
      "metadata": {
        "id": "-bCDfDm9ofBz"
      },
      "execution_count": null,
      "outputs": []
    },
    {
      "cell_type": "code",
      "source": [
        "df_2.head()"
      ],
      "metadata": {
        "colab": {
          "base_uri": "https://localhost:8080/",
          "height": 270
        },
        "id": "ksPjQcxfohLC",
        "outputId": "ecdf5491-4de1-41d6-c60e-6efd64a8a768"
      },
      "execution_count": null,
      "outputs": [
        {
          "output_type": "execute_result",
          "data": {
            "text/plain": [
              "   RowNumber  CustomerId   Surname Geography  Gender  Tenure  NumOfProducts  \\\n",
              "0          1    15634602  Hargrave    France  Female       2              1   \n",
              "1          2    15647311      Hill     Spain  Female       1              1   \n",
              "2          3    15619304      Onio    France  Female       8              3   \n",
              "3          4    15701354      Boni    France  Female       1              2   \n",
              "4          5    15737888  Mitchell     Spain  Female       2              1   \n",
              "\n",
              "   HasCrCard  IsActiveMember  Exited  CreditScore  Age    Balance  \\\n",
              "0       True            True    True          619   42       0.00   \n",
              "1      False            True   False          608   41   83807.86   \n",
              "2       True           False    True          502   42  159660.80   \n",
              "3      False           False   False          699   39       0.00   \n",
              "4       True            True   False          850   43  125510.82   \n",
              "\n",
              "   EstimatedSalary  \n",
              "0        101348.88  \n",
              "1        112542.58  \n",
              "2        113931.57  \n",
              "3         93826.63  \n",
              "4         79084.10  "
            ],
            "text/html": [
              "\n",
              "  <div id=\"df-689a2927-5c84-4c0d-84a3-c35943a622b6\">\n",
              "    <div class=\"colab-df-container\">\n",
              "      <div>\n",
              "<style scoped>\n",
              "    .dataframe tbody tr th:only-of-type {\n",
              "        vertical-align: middle;\n",
              "    }\n",
              "\n",
              "    .dataframe tbody tr th {\n",
              "        vertical-align: top;\n",
              "    }\n",
              "\n",
              "    .dataframe thead th {\n",
              "        text-align: right;\n",
              "    }\n",
              "</style>\n",
              "<table border=\"1\" class=\"dataframe\">\n",
              "  <thead>\n",
              "    <tr style=\"text-align: right;\">\n",
              "      <th></th>\n",
              "      <th>RowNumber</th>\n",
              "      <th>CustomerId</th>\n",
              "      <th>Surname</th>\n",
              "      <th>Geography</th>\n",
              "      <th>Gender</th>\n",
              "      <th>Tenure</th>\n",
              "      <th>NumOfProducts</th>\n",
              "      <th>HasCrCard</th>\n",
              "      <th>IsActiveMember</th>\n",
              "      <th>Exited</th>\n",
              "      <th>CreditScore</th>\n",
              "      <th>Age</th>\n",
              "      <th>Balance</th>\n",
              "      <th>EstimatedSalary</th>\n",
              "    </tr>\n",
              "  </thead>\n",
              "  <tbody>\n",
              "    <tr>\n",
              "      <th>0</th>\n",
              "      <td>1</td>\n",
              "      <td>15634602</td>\n",
              "      <td>Hargrave</td>\n",
              "      <td>France</td>\n",
              "      <td>Female</td>\n",
              "      <td>2</td>\n",
              "      <td>1</td>\n",
              "      <td>True</td>\n",
              "      <td>True</td>\n",
              "      <td>True</td>\n",
              "      <td>619</td>\n",
              "      <td>42</td>\n",
              "      <td>0.00</td>\n",
              "      <td>101348.88</td>\n",
              "    </tr>\n",
              "    <tr>\n",
              "      <th>1</th>\n",
              "      <td>2</td>\n",
              "      <td>15647311</td>\n",
              "      <td>Hill</td>\n",
              "      <td>Spain</td>\n",
              "      <td>Female</td>\n",
              "      <td>1</td>\n",
              "      <td>1</td>\n",
              "      <td>False</td>\n",
              "      <td>True</td>\n",
              "      <td>False</td>\n",
              "      <td>608</td>\n",
              "      <td>41</td>\n",
              "      <td>83807.86</td>\n",
              "      <td>112542.58</td>\n",
              "    </tr>\n",
              "    <tr>\n",
              "      <th>2</th>\n",
              "      <td>3</td>\n",
              "      <td>15619304</td>\n",
              "      <td>Onio</td>\n",
              "      <td>France</td>\n",
              "      <td>Female</td>\n",
              "      <td>8</td>\n",
              "      <td>3</td>\n",
              "      <td>True</td>\n",
              "      <td>False</td>\n",
              "      <td>True</td>\n",
              "      <td>502</td>\n",
              "      <td>42</td>\n",
              "      <td>159660.80</td>\n",
              "      <td>113931.57</td>\n",
              "    </tr>\n",
              "    <tr>\n",
              "      <th>3</th>\n",
              "      <td>4</td>\n",
              "      <td>15701354</td>\n",
              "      <td>Boni</td>\n",
              "      <td>France</td>\n",
              "      <td>Female</td>\n",
              "      <td>1</td>\n",
              "      <td>2</td>\n",
              "      <td>False</td>\n",
              "      <td>False</td>\n",
              "      <td>False</td>\n",
              "      <td>699</td>\n",
              "      <td>39</td>\n",
              "      <td>0.00</td>\n",
              "      <td>93826.63</td>\n",
              "    </tr>\n",
              "    <tr>\n",
              "      <th>4</th>\n",
              "      <td>5</td>\n",
              "      <td>15737888</td>\n",
              "      <td>Mitchell</td>\n",
              "      <td>Spain</td>\n",
              "      <td>Female</td>\n",
              "      <td>2</td>\n",
              "      <td>1</td>\n",
              "      <td>True</td>\n",
              "      <td>True</td>\n",
              "      <td>False</td>\n",
              "      <td>850</td>\n",
              "      <td>43</td>\n",
              "      <td>125510.82</td>\n",
              "      <td>79084.10</td>\n",
              "    </tr>\n",
              "  </tbody>\n",
              "</table>\n",
              "</div>\n",
              "      <button class=\"colab-df-convert\" onclick=\"convertToInteractive('df-689a2927-5c84-4c0d-84a3-c35943a622b6')\"\n",
              "              title=\"Convert this dataframe to an interactive table.\"\n",
              "              style=\"display:none;\">\n",
              "        \n",
              "  <svg xmlns=\"http://www.w3.org/2000/svg\" height=\"24px\"viewBox=\"0 0 24 24\"\n",
              "       width=\"24px\">\n",
              "    <path d=\"M0 0h24v24H0V0z\" fill=\"none\"/>\n",
              "    <path d=\"M18.56 5.44l.94 2.06.94-2.06 2.06-.94-2.06-.94-.94-2.06-.94 2.06-2.06.94zm-11 1L8.5 8.5l.94-2.06 2.06-.94-2.06-.94L8.5 2.5l-.94 2.06-2.06.94zm10 10l.94 2.06.94-2.06 2.06-.94-2.06-.94-.94-2.06-.94 2.06-2.06.94z\"/><path d=\"M17.41 7.96l-1.37-1.37c-.4-.4-.92-.59-1.43-.59-.52 0-1.04.2-1.43.59L10.3 9.45l-7.72 7.72c-.78.78-.78 2.05 0 2.83L4 21.41c.39.39.9.59 1.41.59.51 0 1.02-.2 1.41-.59l7.78-7.78 2.81-2.81c.8-.78.8-2.07 0-2.86zM5.41 20L4 18.59l7.72-7.72 1.47 1.35L5.41 20z\"/>\n",
              "  </svg>\n",
              "      </button>\n",
              "      \n",
              "  <style>\n",
              "    .colab-df-container {\n",
              "      display:flex;\n",
              "      flex-wrap:wrap;\n",
              "      gap: 12px;\n",
              "    }\n",
              "\n",
              "    .colab-df-convert {\n",
              "      background-color: #E8F0FE;\n",
              "      border: none;\n",
              "      border-radius: 50%;\n",
              "      cursor: pointer;\n",
              "      display: none;\n",
              "      fill: #1967D2;\n",
              "      height: 32px;\n",
              "      padding: 0 0 0 0;\n",
              "      width: 32px;\n",
              "    }\n",
              "\n",
              "    .colab-df-convert:hover {\n",
              "      background-color: #E2EBFA;\n",
              "      box-shadow: 0px 1px 2px rgba(60, 64, 67, 0.3), 0px 1px 3px 1px rgba(60, 64, 67, 0.15);\n",
              "      fill: #174EA6;\n",
              "    }\n",
              "\n",
              "    [theme=dark] .colab-df-convert {\n",
              "      background-color: #3B4455;\n",
              "      fill: #D2E3FC;\n",
              "    }\n",
              "\n",
              "    [theme=dark] .colab-df-convert:hover {\n",
              "      background-color: #434B5C;\n",
              "      box-shadow: 0px 1px 3px 1px rgba(0, 0, 0, 0.15);\n",
              "      filter: drop-shadow(0px 1px 2px rgba(0, 0, 0, 0.3));\n",
              "      fill: #FFFFFF;\n",
              "    }\n",
              "  </style>\n",
              "\n",
              "      <script>\n",
              "        const buttonEl =\n",
              "          document.querySelector('#df-689a2927-5c84-4c0d-84a3-c35943a622b6 button.colab-df-convert');\n",
              "        buttonEl.style.display =\n",
              "          google.colab.kernel.accessAllowed ? 'block' : 'none';\n",
              "\n",
              "        async function convertToInteractive(key) {\n",
              "          const element = document.querySelector('#df-689a2927-5c84-4c0d-84a3-c35943a622b6');\n",
              "          const dataTable =\n",
              "            await google.colab.kernel.invokeFunction('convertToInteractive',\n",
              "                                                     [key], {});\n",
              "          if (!dataTable) return;\n",
              "\n",
              "          const docLinkHtml = 'Like what you see? Visit the ' +\n",
              "            '<a target=\"_blank\" href=https://colab.research.google.com/notebooks/data_table.ipynb>data table notebook</a>'\n",
              "            + ' to learn more about interactive tables.';\n",
              "          element.innerHTML = '';\n",
              "          dataTable['output_type'] = 'display_data';\n",
              "          await google.colab.output.renderOutput(dataTable, element);\n",
              "          const docLink = document.createElement('div');\n",
              "          docLink.innerHTML = docLinkHtml;\n",
              "          element.appendChild(docLink);\n",
              "        }\n",
              "      </script>\n",
              "    </div>\n",
              "  </div>\n",
              "  "
            ]
          },
          "metadata": {},
          "execution_count": 26
        }
      ]
    },
    {
      "cell_type": "markdown",
      "source": [
        "###Análisis estadístico inicial"
      ],
      "metadata": {
        "id": "4ZV0EK77oyVR"
      }
    },
    {
      "cell_type": "markdown",
      "source": [
        "En esta sección se quiere tener un mejor entendimiento del comportamiento de las variables y su relación\n",
        "\n",
        "Correlacion entre variables"
      ],
      "metadata": {
        "id": "GY6HqkGAo2Ky"
      }
    },
    {
      "cell_type": "code",
      "source": [
        "df_corr = df_2[['CreditScore','Age','Tenure','Balance','NumOfProducts','EstimatedSalary']].corr()\n",
        "df_corr"
      ],
      "metadata": {
        "colab": {
          "base_uri": "https://localhost:8080/",
          "height": 237
        },
        "id": "ojxWsxqbo4bD",
        "outputId": "857709b4-28c9-4994-b50a-45f2cda83958"
      },
      "execution_count": null,
      "outputs": [
        {
          "output_type": "execute_result",
          "data": {
            "text/plain": [
              "                 CreditScore       Age    Tenure   Balance  NumOfProducts  \\\n",
              "CreditScore         1.000000 -0.007703  0.000721  0.006389       0.012199   \n",
              "Age                -0.007703  1.000000 -0.011163  0.033021      -0.032381   \n",
              "Tenure              0.000721 -0.011163  1.000000 -0.012254       0.013444   \n",
              "Balance             0.006389  0.033021 -0.012254  1.000000      -0.304180   \n",
              "NumOfProducts       0.012199 -0.032381  0.013444 -0.304180       1.000000   \n",
              "EstimatedSalary    -0.001150 -0.007392  0.007784  0.012797       0.014204   \n",
              "\n",
              "                 EstimatedSalary  \n",
              "CreditScore            -0.001150  \n",
              "Age                    -0.007392  \n",
              "Tenure                  0.007784  \n",
              "Balance                 0.012797  \n",
              "NumOfProducts           0.014204  \n",
              "EstimatedSalary         1.000000  "
            ],
            "text/html": [
              "\n",
              "  <div id=\"df-9b3b1195-e19f-46ad-b5d1-fe46cba1ee7e\">\n",
              "    <div class=\"colab-df-container\">\n",
              "      <div>\n",
              "<style scoped>\n",
              "    .dataframe tbody tr th:only-of-type {\n",
              "        vertical-align: middle;\n",
              "    }\n",
              "\n",
              "    .dataframe tbody tr th {\n",
              "        vertical-align: top;\n",
              "    }\n",
              "\n",
              "    .dataframe thead th {\n",
              "        text-align: right;\n",
              "    }\n",
              "</style>\n",
              "<table border=\"1\" class=\"dataframe\">\n",
              "  <thead>\n",
              "    <tr style=\"text-align: right;\">\n",
              "      <th></th>\n",
              "      <th>CreditScore</th>\n",
              "      <th>Age</th>\n",
              "      <th>Tenure</th>\n",
              "      <th>Balance</th>\n",
              "      <th>NumOfProducts</th>\n",
              "      <th>EstimatedSalary</th>\n",
              "    </tr>\n",
              "  </thead>\n",
              "  <tbody>\n",
              "    <tr>\n",
              "      <th>CreditScore</th>\n",
              "      <td>1.000000</td>\n",
              "      <td>-0.007703</td>\n",
              "      <td>0.000721</td>\n",
              "      <td>0.006389</td>\n",
              "      <td>0.012199</td>\n",
              "      <td>-0.001150</td>\n",
              "    </tr>\n",
              "    <tr>\n",
              "      <th>Age</th>\n",
              "      <td>-0.007703</td>\n",
              "      <td>1.000000</td>\n",
              "      <td>-0.011163</td>\n",
              "      <td>0.033021</td>\n",
              "      <td>-0.032381</td>\n",
              "      <td>-0.007392</td>\n",
              "    </tr>\n",
              "    <tr>\n",
              "      <th>Tenure</th>\n",
              "      <td>0.000721</td>\n",
              "      <td>-0.011163</td>\n",
              "      <td>1.000000</td>\n",
              "      <td>-0.012254</td>\n",
              "      <td>0.013444</td>\n",
              "      <td>0.007784</td>\n",
              "    </tr>\n",
              "    <tr>\n",
              "      <th>Balance</th>\n",
              "      <td>0.006389</td>\n",
              "      <td>0.033021</td>\n",
              "      <td>-0.012254</td>\n",
              "      <td>1.000000</td>\n",
              "      <td>-0.304180</td>\n",
              "      <td>0.012797</td>\n",
              "    </tr>\n",
              "    <tr>\n",
              "      <th>NumOfProducts</th>\n",
              "      <td>0.012199</td>\n",
              "      <td>-0.032381</td>\n",
              "      <td>0.013444</td>\n",
              "      <td>-0.304180</td>\n",
              "      <td>1.000000</td>\n",
              "      <td>0.014204</td>\n",
              "    </tr>\n",
              "    <tr>\n",
              "      <th>EstimatedSalary</th>\n",
              "      <td>-0.001150</td>\n",
              "      <td>-0.007392</td>\n",
              "      <td>0.007784</td>\n",
              "      <td>0.012797</td>\n",
              "      <td>0.014204</td>\n",
              "      <td>1.000000</td>\n",
              "    </tr>\n",
              "  </tbody>\n",
              "</table>\n",
              "</div>\n",
              "      <button class=\"colab-df-convert\" onclick=\"convertToInteractive('df-9b3b1195-e19f-46ad-b5d1-fe46cba1ee7e')\"\n",
              "              title=\"Convert this dataframe to an interactive table.\"\n",
              "              style=\"display:none;\">\n",
              "        \n",
              "  <svg xmlns=\"http://www.w3.org/2000/svg\" height=\"24px\"viewBox=\"0 0 24 24\"\n",
              "       width=\"24px\">\n",
              "    <path d=\"M0 0h24v24H0V0z\" fill=\"none\"/>\n",
              "    <path d=\"M18.56 5.44l.94 2.06.94-2.06 2.06-.94-2.06-.94-.94-2.06-.94 2.06-2.06.94zm-11 1L8.5 8.5l.94-2.06 2.06-.94-2.06-.94L8.5 2.5l-.94 2.06-2.06.94zm10 10l.94 2.06.94-2.06 2.06-.94-2.06-.94-.94-2.06-.94 2.06-2.06.94z\"/><path d=\"M17.41 7.96l-1.37-1.37c-.4-.4-.92-.59-1.43-.59-.52 0-1.04.2-1.43.59L10.3 9.45l-7.72 7.72c-.78.78-.78 2.05 0 2.83L4 21.41c.39.39.9.59 1.41.59.51 0 1.02-.2 1.41-.59l7.78-7.78 2.81-2.81c.8-.78.8-2.07 0-2.86zM5.41 20L4 18.59l7.72-7.72 1.47 1.35L5.41 20z\"/>\n",
              "  </svg>\n",
              "      </button>\n",
              "      \n",
              "  <style>\n",
              "    .colab-df-container {\n",
              "      display:flex;\n",
              "      flex-wrap:wrap;\n",
              "      gap: 12px;\n",
              "    }\n",
              "\n",
              "    .colab-df-convert {\n",
              "      background-color: #E8F0FE;\n",
              "      border: none;\n",
              "      border-radius: 50%;\n",
              "      cursor: pointer;\n",
              "      display: none;\n",
              "      fill: #1967D2;\n",
              "      height: 32px;\n",
              "      padding: 0 0 0 0;\n",
              "      width: 32px;\n",
              "    }\n",
              "\n",
              "    .colab-df-convert:hover {\n",
              "      background-color: #E2EBFA;\n",
              "      box-shadow: 0px 1px 2px rgba(60, 64, 67, 0.3), 0px 1px 3px 1px rgba(60, 64, 67, 0.15);\n",
              "      fill: #174EA6;\n",
              "    }\n",
              "\n",
              "    [theme=dark] .colab-df-convert {\n",
              "      background-color: #3B4455;\n",
              "      fill: #D2E3FC;\n",
              "    }\n",
              "\n",
              "    [theme=dark] .colab-df-convert:hover {\n",
              "      background-color: #434B5C;\n",
              "      box-shadow: 0px 1px 3px 1px rgba(0, 0, 0, 0.15);\n",
              "      filter: drop-shadow(0px 1px 2px rgba(0, 0, 0, 0.3));\n",
              "      fill: #FFFFFF;\n",
              "    }\n",
              "  </style>\n",
              "\n",
              "      <script>\n",
              "        const buttonEl =\n",
              "          document.querySelector('#df-9b3b1195-e19f-46ad-b5d1-fe46cba1ee7e button.colab-df-convert');\n",
              "        buttonEl.style.display =\n",
              "          google.colab.kernel.accessAllowed ? 'block' : 'none';\n",
              "\n",
              "        async function convertToInteractive(key) {\n",
              "          const element = document.querySelector('#df-9b3b1195-e19f-46ad-b5d1-fe46cba1ee7e');\n",
              "          const dataTable =\n",
              "            await google.colab.kernel.invokeFunction('convertToInteractive',\n",
              "                                                     [key], {});\n",
              "          if (!dataTable) return;\n",
              "\n",
              "          const docLinkHtml = 'Like what you see? Visit the ' +\n",
              "            '<a target=\"_blank\" href=https://colab.research.google.com/notebooks/data_table.ipynb>data table notebook</a>'\n",
              "            + ' to learn more about interactive tables.';\n",
              "          element.innerHTML = '';\n",
              "          dataTable['output_type'] = 'display_data';\n",
              "          await google.colab.output.renderOutput(dataTable, element);\n",
              "          const docLink = document.createElement('div');\n",
              "          docLink.innerHTML = docLinkHtml;\n",
              "          element.appendChild(docLink);\n",
              "        }\n",
              "      </script>\n",
              "    </div>\n",
              "  </div>\n",
              "  "
            ]
          },
          "metadata": {},
          "execution_count": 27
        }
      ]
    },
    {
      "cell_type": "code",
      "source": [
        "sns.heatmap(df_corr, annot=True)"
      ],
      "metadata": {
        "colab": {
          "base_uri": "https://localhost:8080/",
          "height": 568
        },
        "id": "R8ZooCP1pD8M",
        "outputId": "7adcb23a-bfd3-493d-aa12-7f1ad69cd72e"
      },
      "execution_count": null,
      "outputs": [
        {
          "output_type": "execute_result",
          "data": {
            "text/plain": [
              "<Axes: >"
            ]
          },
          "metadata": {},
          "execution_count": 28
        },
        {
          "output_type": "display_data",
          "data": {
            "text/plain": [
              "<Figure size 640x480 with 2 Axes>"
            ],
            "image/png": "[encoded data removed]"
          },
          "metadata": {}
        }
      ]
    },
    {
      "cell_type": "markdown",
      "source": [
        "Se evidencia que no existe una correlación causal dentro de las variables, lo cual será de uso al momento de crear el modelo de machine learning\n",
        "\n"
      ],
      "metadata": {
        "id": "phdo2xt8pRFf"
      }
    },
    {
      "cell_type": "markdown",
      "source": [
        "###Análisis Propio"
      ],
      "metadata": {
        "id": "cyUBMCSxrKDE"
      }
    },
    {
      "cell_type": "markdown",
      "source": [
        "El objetivo de esta sección es obtener insights acerca la bases de datos y las tendencias que puedan ser deducidas de esta"
      ],
      "metadata": {
        "id": "uzU-6HRArMU_"
      }
    },
    {
      "cell_type": "markdown",
      "source": [
        "En primer lugar, visualizamos la distribución geográfica usando un gráfico de barras"
      ],
      "metadata": {
        "id": "ujC5pbJ18Ys4"
      }
    },
    {
      "cell_type": "code",
      "source": [
        "sns.countplot(x='Geography', data=df_2)\n",
        "plt.title('Distribución geográfica')\n",
        "plt.show()"
      ],
      "metadata": {
        "colab": {
          "base_uri": "https://localhost:8080/",
          "height": 481
        },
        "id": "CwtkTAa4rRGk",
        "outputId": "fec0011f-3661-4faf-8189-60a23f6e9a88"
      },
      "execution_count": null,
      "outputs": [
        {
          "output_type": "display_data",
          "data": {
            "text/plain": [
              "<Figure size 640x480 with 1 Axes>"
            ],
            "image/png": "[encoded data removed]"
          },
          "metadata": {}
        }
      ]
    },
    {
      "cell_type": "markdown",
      "source": [
        "Luego, visualizamos la distribución de género usando un gráfico de barras"
      ],
      "metadata": {
        "id": "IimFxMdw8uQP"
      }
    },
    {
      "cell_type": "code",
      "source": [
        "sns.countplot(x='Gender', data=df)\n",
        "plt.title('Distribución de género')\n",
        "plt.show()"
      ],
      "metadata": {
        "colab": {
          "base_uri": "https://localhost:8080/",
          "height": 481
        },
        "id": "gFx9fe4OueLR",
        "outputId": "8958d159-d897-4a64-a086-3c8978494434"
      },
      "execution_count": null,
      "outputs": [
        {
          "output_type": "display_data",
          "data": {
            "text/plain": [
              "<Figure size 640x480 with 1 Axes>"
            ],
            "image/png": "[encoded data removed]"
          },
          "metadata": {}
        }
      ]
    },
    {
      "cell_type": "markdown",
      "source": [
        "Entonces, visualizamos la distribución de clientes que abandonaron el banco usando un gráfico de barras, esta es clave, ya que es nuestra variable objetivo y podemos observar que será un problema desbalanceado en cuanto a Machine Learning:"
      ],
      "metadata": {
        "id": "tg0ijYFy83V7"
      }
    },
    {
      "cell_type": "code",
      "source": [
        "sns.countplot(x='Exited', data=df_2)\n",
        "plt.title('Distribución de clientes que abandonaron')\n",
        "plt.show()"
      ],
      "metadata": {
        "colab": {
          "base_uri": "https://localhost:8080/",
          "height": 481
        },
        "id": "GPecldSuux1J",
        "outputId": "cab27984-eb6e-406b-8ea9-406c8d851389"
      },
      "execution_count": null,
      "outputs": [
        {
          "output_type": "display_data",
          "data": {
            "text/plain": [
              "<Figure size 640x480 with 1 Axes>"
            ],
            "image/png": "[encoded data removed]"
          },
          "metadata": {}
        }
      ]
    },
    {
      "cell_type": "markdown",
      "source": [
        "Se realiza un histograma de la edad:"
      ],
      "metadata": {
        "id": "2IO7eLPr9R-4"
      }
    },
    {
      "cell_type": "code",
      "source": [
        "sns.histplot(data=df_2, x='Age', kde=True)\n",
        "plt.title('Distribución de edad')\n",
        "plt.show()"
      ],
      "metadata": {
        "colab": {
          "base_uri": "https://localhost:8080/",
          "height": 480
        },
        "id": "nE2oUbu5vN_u",
        "outputId": "84a72aea-dab7-4d9c-ed93-d108d52d1986"
      },
      "execution_count": null,
      "outputs": [
        {
          "output_type": "display_data",
          "data": {
            "text/plain": [
              "<Figure size 640x480 with 1 Axes>"
            ],
            "image/png": "[encoded data removed]"
          },
          "metadata": {}
        }
      ]
    },
    {
      "cell_type": "markdown",
      "source": [
        "Podemos obervar que la mayoria de Clientes esta entre la edad de 30-40 años"
      ],
      "metadata": {
        "id": "g4JtHZKh9u1K"
      }
    },
    {
      "cell_type": "markdown",
      "source": [
        "Ahora, sé gráfica la distribución del puntaje crediticio por cada país"
      ],
      "metadata": {
        "id": "zvoBcfrH92iA"
      }
    },
    {
      "cell_type": "code",
      "source": [
        "sns.boxplot(x='Geography', y='CreditScore', data=df_2)\n",
        "plt.title('Puntuación crediticia por cada país')\n",
        "plt.show()"
      ],
      "metadata": {
        "colab": {
          "base_uri": "https://localhost:8080/",
          "height": 481
        },
        "id": "eCaDphgXvZpb",
        "outputId": "4d41f132-1cfc-458d-ea32-ac867de6ae71"
      },
      "execution_count": null,
      "outputs": [
        {
          "output_type": "display_data",
          "data": {
            "text/plain": [
              "<Figure size 640x480 with 1 Axes>"
            ],
            "image/png": "[encoded data removed]"
          },
          "metadata": {}
        }
      ]
    },
    {
      "cell_type": "markdown",
      "source": [
        "Podemos observar que son bastante similares"
      ],
      "metadata": {
        "id": "dxnKtVsW-MFa"
      }
    },
    {
      "cell_type": "markdown",
      "source": [
        "Luego, se muestra la puntuación crediticia teniendo en cuenta país y abandono:"
      ],
      "metadata": {
        "id": "kb7HWOZP-PAG"
      }
    },
    {
      "cell_type": "code",
      "source": [
        "sns.boxplot(x='Geography', y='CreditScore', hue='Exited', data=df_2)\n",
        "plt.title('Puntuación crediticia teniendo en cuenta país y abandono')\n",
        "plt.show()"
      ],
      "metadata": {
        "colab": {
          "base_uri": "https://localhost:8080/",
          "height": 481
        },
        "id": "NxaV68tjwDRE",
        "outputId": "a5eb690e-0a08-4b4b-c23a-856cccc9f730"
      },
      "execution_count": null,
      "outputs": [
        {
          "output_type": "display_data",
          "data": {
            "text/plain": [
              "<Figure size 640x480 with 1 Axes>"
            ],
            "image/png": "[encoded data removed]"
          },
          "metadata": {}
        }
      ]
    },
    {
      "cell_type": "markdown",
      "source": [
        "Se evidencia que se tiene un comportamiento similar entre los países, igualmente con el caso de que el cliente abandonara el banco"
      ],
      "metadata": {
        "id": "uhbssxIu-dc-"
      }
    },
    {
      "cell_type": "markdown",
      "source": [
        "Finalmente, se observa el sa aldo bancario promedio según si el cliente abandono"
      ],
      "metadata": {
        "id": "EKk1ZHpd-jdl"
      }
    },
    {
      "cell_type": "code",
      "source": [
        "sns.barplot(x='Exited', y='Balance', data=df_2)\n",
        "plt.title('Saldo bancario promedio según si abandono')\n",
        "plt.show()"
      ],
      "metadata": {
        "colab": {
          "base_uri": "https://localhost:8080/",
          "height": 481
        },
        "id": "WuS1S23pysVA",
        "outputId": "224532ff-c645-48bf-84ad-0ef603b95dfa"
      },
      "execution_count": null,
      "outputs": [
        {
          "output_type": "display_data",
          "data": {
            "text/plain": [
              "<Figure size 640x480 with 1 Axes>"
            ],
            "image/png": "[encoded data removed]"
          },
          "metadata": {}
        }
      ]
    },
    {
      "cell_type": "markdown",
      "source": [
        "Se evidencia que los clientes que salieron del banco contaban con un balance mayor en promedio"
      ],
      "metadata": {
        "id": "X4SB9L9b-nnp"
      }
    },
    {
      "cell_type": "markdown",
      "metadata": {
        "id": "cVGnYmfAAm7k"
      },
      "source": [
        "## 2. Construcción del modelo analítico\n",
        "\n",
        "En esta sección el objetivo es que construya un prototipo rápido de un modelo analítico y lo guarde. Es importante que nos cuente porque eligió este modelo, es decir, que vio en los datos para creer que un modelo como este podría funcionar bien. Adicional, suponga que le va a presentar esté modelo a un usuario que le parece importante tener un modelo que sea preciso, pero que también cuyos resultados puedan ser interpretables de alguna manera.\n",
        "\n",
        "* ¿Es su modelo interpretable?\n",
        "* Si no es interpretable ¿Hay alguna forma de hacerlo interpretable?\n",
        "* ¿Por qué escogio este modelo?"
      ]
    },
    {
      "cell_type": "markdown",
      "source": [
        "En primera instancia se decide que variables usar y se eliminan las columnas que no son relevantes para la predicción:"
      ],
      "metadata": {
        "id": "kqaxOkFdrXdq"
      }
    },
    {
      "cell_type": "code",
      "source": [
        "df_final = df_2.drop(columns=['RowNumber', 'CustomerId', 'Surname'])"
      ],
      "metadata": {
        "id": "6_yCYKAFrYBK"
      },
      "execution_count": null,
      "outputs": []
    },
    {
      "cell_type": "markdown",
      "source": [
        "Se eliminan las anteriores dado que son para identificar el cliente, pero no son relevantes a la hora de crear un modelo de machine learning. Luego, se continúa con todas las demás variables, ya que considero que pueden aportar al modelo y como se evidenció anteriormente,  la correlación entre ellas es baja y cada una puede ser relevante para el problema"
      ],
      "metadata": {
        "id": "m6AmkhphFSXx"
      }
    },
    {
      "cell_type": "markdown",
      "source": [
        "Se empieza a prepara los datos para el modelo:"
      ],
      "metadata": {
        "id": "ZT0qFMctHVkD"
      }
    },
    {
      "cell_type": "code",
      "source": [
        "x = df_final\n",
        "x = x.drop(columns=['Exited'])\n",
        "y = df_final['Exited']"
      ],
      "metadata": {
        "id": "FsdcwpJBFRxU"
      },
      "execution_count": null,
      "outputs": []
    },
    {
      "cell_type": "markdown",
      "source": [
        "Luego, las variables que se usaran para seran las siguientes:"
      ],
      "metadata": {
        "id": "aOF6HRh5HsDU"
      }
    },
    {
      "cell_type": "code",
      "source": [
        "x.head()"
      ],
      "metadata": {
        "colab": {
          "base_uri": "https://localhost:8080/",
          "height": 206
        },
        "id": "HcPa89gWHpBP",
        "outputId": "4b95d4ea-c1f4-4be8-f758-c5913c1197d4"
      },
      "execution_count": null,
      "outputs": [
        {
          "output_type": "execute_result",
          "data": {
            "text/plain": [
              "  Geography  Gender  Tenure  NumOfProducts  HasCrCard  IsActiveMember  \\\n",
              "0    France  Female       2              1       True            True   \n",
              "1     Spain  Female       1              1      False            True   \n",
              "2    France  Female       8              3       True           False   \n",
              "3    France  Female       1              2      False           False   \n",
              "4     Spain  Female       2              1       True            True   \n",
              "\n",
              "   CreditScore  Age    Balance  EstimatedSalary  \n",
              "0          619   42       0.00        101348.88  \n",
              "1          608   41   83807.86        112542.58  \n",
              "2          502   42  159660.80        113931.57  \n",
              "3          699   39       0.00         93826.63  \n",
              "4          850   43  125510.82         79084.10  "
            ],
            "text/html": [
              "\n",
              "  <div id=\"df-817fdab4-50a8-4c0e-9300-b3c44b937a3e\">\n",
              "    <div class=\"colab-df-container\">\n",
              "      <div>\n",
              "<style scoped>\n",
              "    .dataframe tbody tr th:only-of-type {\n",
              "        vertical-align: middle;\n",
              "    }\n",
              "\n",
              "    .dataframe tbody tr th {\n",
              "        vertical-align: top;\n",
              "    }\n",
              "\n",
              "    .dataframe thead th {\n",
              "        text-align: right;\n",
              "    }\n",
              "</style>\n",
              "<table border=\"1\" class=\"dataframe\">\n",
              "  <thead>\n",
              "    <tr style=\"text-align: right;\">\n",
              "      <th></th>\n",
              "      <th>Geography</th>\n",
              "      <th>Gender</th>\n",
              "      <th>Tenure</th>\n",
              "      <th>NumOfProducts</th>\n",
              "      <th>HasCrCard</th>\n",
              "      <th>IsActiveMember</th>\n",
              "      <th>CreditScore</th>\n",
              "      <th>Age</th>\n",
              "      <th>Balance</th>\n",
              "      <th>EstimatedSalary</th>\n",
              "    </tr>\n",
              "  </thead>\n",
              "  <tbody>\n",
              "    <tr>\n",
              "      <th>0</th>\n",
              "      <td>France</td>\n",
              "      <td>Female</td>\n",
              "      <td>2</td>\n",
              "      <td>1</td>\n",
              "      <td>True</td>\n",
              "      <td>True</td>\n",
              "      <td>619</td>\n",
              "      <td>42</td>\n",
              "      <td>0.00</td>\n",
              "      <td>101348.88</td>\n",
              "    </tr>\n",
              "    <tr>\n",
              "      <th>1</th>\n",
              "      <td>Spain</td>\n",
              "      <td>Female</td>\n",
              "      <td>1</td>\n",
              "      <td>1</td>\n",
              "      <td>False</td>\n",
              "      <td>True</td>\n",
              "      <td>608</td>\n",
              "      <td>41</td>\n",
              "      <td>83807.86</td>\n",
              "      <td>112542.58</td>\n",
              "    </tr>\n",
              "    <tr>\n",
              "      <th>2</th>\n",
              "      <td>France</td>\n",
              "      <td>Female</td>\n",
              "      <td>8</td>\n",
              "      <td>3</td>\n",
              "      <td>True</td>\n",
              "      <td>False</td>\n",
              "      <td>502</td>\n",
              "      <td>42</td>\n",
              "      <td>159660.80</td>\n",
              "      <td>113931.57</td>\n",
              "    </tr>\n",
              "    <tr>\n",
              "      <th>3</th>\n",
              "      <td>France</td>\n",
              "      <td>Female</td>\n",
              "      <td>1</td>\n",
              "      <td>2</td>\n",
              "      <td>False</td>\n",
              "      <td>False</td>\n",
              "      <td>699</td>\n",
              "      <td>39</td>\n",
              "      <td>0.00</td>\n",
              "      <td>93826.63</td>\n",
              "    </tr>\n",
              "    <tr>\n",
              "      <th>4</th>\n",
              "      <td>Spain</td>\n",
              "      <td>Female</td>\n",
              "      <td>2</td>\n",
              "      <td>1</td>\n",
              "      <td>True</td>\n",
              "      <td>True</td>\n",
              "      <td>850</td>\n",
              "      <td>43</td>\n",
              "      <td>125510.82</td>\n",
              "      <td>79084.10</td>\n",
              "    </tr>\n",
              "  </tbody>\n",
              "</table>\n",
              "</div>\n",
              "      <button class=\"colab-df-convert\" onclick=\"convertToInteractive('df-817fdab4-50a8-4c0e-9300-b3c44b937a3e')\"\n",
              "              title=\"Convert this dataframe to an interactive table.\"\n",
              "              style=\"display:none;\">\n",
              "        \n",
              "  <svg xmlns=\"http://www.w3.org/2000/svg\" height=\"24px\"viewBox=\"0 0 24 24\"\n",
              "       width=\"24px\">\n",
              "    <path d=\"M0 0h24v24H0V0z\" fill=\"none\"/>\n",
              "    <path d=\"M18.56 5.44l.94 2.06.94-2.06 2.06-.94-2.06-.94-.94-2.06-.94 2.06-2.06.94zm-11 1L8.5 8.5l.94-2.06 2.06-.94-2.06-.94L8.5 2.5l-.94 2.06-2.06.94zm10 10l.94 2.06.94-2.06 2.06-.94-2.06-.94-.94-2.06-.94 2.06-2.06.94z\"/><path d=\"M17.41 7.96l-1.37-1.37c-.4-.4-.92-.59-1.43-.59-.52 0-1.04.2-1.43.59L10.3 9.45l-7.72 7.72c-.78.78-.78 2.05 0 2.83L4 21.41c.39.39.9.59 1.41.59.51 0 1.02-.2 1.41-.59l7.78-7.78 2.81-2.81c.8-.78.8-2.07 0-2.86zM5.41 20L4 18.59l7.72-7.72 1.47 1.35L5.41 20z\"/>\n",
              "  </svg>\n",
              "      </button>\n",
              "      \n",
              "  <style>\n",
              "    .colab-df-container {\n",
              "      display:flex;\n",
              "      flex-wrap:wrap;\n",
              "      gap: 12px;\n",
              "    }\n",
              "\n",
              "    .colab-df-convert {\n",
              "      background-color: #E8F0FE;\n",
              "      border: none;\n",
              "      border-radius: 50%;\n",
              "      cursor: pointer;\n",
              "      display: none;\n",
              "      fill: #1967D2;\n",
              "      height: 32px;\n",
              "      padding: 0 0 0 0;\n",
              "      width: 32px;\n",
              "    }\n",
              "\n",
              "    .colab-df-convert:hover {\n",
              "      background-color: #E2EBFA;\n",
              "      box-shadow: 0px 1px 2px rgba(60, 64, 67, 0.3), 0px 1px 3px 1px rgba(60, 64, 67, 0.15);\n",
              "      fill: #174EA6;\n",
              "    }\n",
              "\n",
              "    [theme=dark] .colab-df-convert {\n",
              "      background-color: #3B4455;\n",
              "      fill: #D2E3FC;\n",
              "    }\n",
              "\n",
              "    [theme=dark] .colab-df-convert:hover {\n",
              "      background-color: #434B5C;\n",
              "      box-shadow: 0px 1px 3px 1px rgba(0, 0, 0, 0.15);\n",
              "      filter: drop-shadow(0px 1px 2px rgba(0, 0, 0, 0.3));\n",
              "      fill: #FFFFFF;\n",
              "    }\n",
              "  </style>\n",
              "\n",
              "      <script>\n",
              "        const buttonEl =\n",
              "          document.querySelector('#df-817fdab4-50a8-4c0e-9300-b3c44b937a3e button.colab-df-convert');\n",
              "        buttonEl.style.display =\n",
              "          google.colab.kernel.accessAllowed ? 'block' : 'none';\n",
              "\n",
              "        async function convertToInteractive(key) {\n",
              "          const element = document.querySelector('#df-817fdab4-50a8-4c0e-9300-b3c44b937a3e');\n",
              "          const dataTable =\n",
              "            await google.colab.kernel.invokeFunction('convertToInteractive',\n",
              "                                                     [key], {});\n",
              "          if (!dataTable) return;\n",
              "\n",
              "          const docLinkHtml = 'Like what you see? Visit the ' +\n",
              "            '<a target=\"_blank\" href=https://colab.research.google.com/notebooks/data_table.ipynb>data table notebook</a>'\n",
              "            + ' to learn more about interactive tables.';\n",
              "          element.innerHTML = '';\n",
              "          dataTable['output_type'] = 'display_data';\n",
              "          await google.colab.output.renderOutput(dataTable, element);\n",
              "          const docLink = document.createElement('div');\n",
              "          docLink.innerHTML = docLinkHtml;\n",
              "          element.appendChild(docLink);\n",
              "        }\n",
              "      </script>\n",
              "    </div>\n",
              "  </div>\n",
              "  "
            ]
          },
          "metadata": {},
          "execution_count": 38
        }
      ]
    },
    {
      "cell_type": "markdown",
      "source": [
        "Las variable objetivo es 'Exited', que se representara por la letra y de la forma siguiente:"
      ],
      "metadata": {
        "id": "78wNvaRBHy8P"
      }
    },
    {
      "cell_type": "code",
      "source": [
        "y.head()"
      ],
      "metadata": {
        "colab": {
          "base_uri": "https://localhost:8080/"
        },
        "id": "I5pCJtu9LBbs",
        "outputId": "25b4450a-ab50-40b8-dd21-b6ba3ee878f3"
      },
      "execution_count": null,
      "outputs": [
        {
          "output_type": "execute_result",
          "data": {
            "text/plain": [
              "0     True\n",
              "1    False\n",
              "2     True\n",
              "3    False\n",
              "4    False\n",
              "Name: Exited, dtype: bool"
            ]
          },
          "metadata": {},
          "execution_count": 39
        }
      ]
    },
    {
      "cell_type": "code",
      "source": [
        "x.shape"
      ],
      "metadata": {
        "colab": {
          "base_uri": "https://localhost:8080/"
        },
        "id": "rOvjvxq8LVbn",
        "outputId": "c0bf7564-8acf-4e84-e3dd-e7a77f62ea0f"
      },
      "execution_count": null,
      "outputs": [
        {
          "output_type": "execute_result",
          "data": {
            "text/plain": [
              "(10000, 10)"
            ]
          },
          "metadata": {},
          "execution_count": 40
        }
      ]
    },
    {
      "cell_type": "code",
      "source": [
        "print(\"Distribución total de la clases: \",Counter(y))"
      ],
      "metadata": {
        "colab": {
          "base_uri": "https://localhost:8080/"
        },
        "id": "WssSJSD7MJ6G",
        "outputId": "e339a62a-8207-44a6-de21-e74c9ca876af"
      },
      "execution_count": null,
      "outputs": [
        {
          "output_type": "stream",
          "name": "stdout",
          "text": [
            "Distribución total de la clases:  Counter({False: 7963, True: 2037})\n"
          ]
        }
      ]
    },
    {
      "cell_type": "markdown",
      "source": [
        "Se  recuerda que se cuenta con 10000 registros para ahora sol se usaran 10 variables de las 14 originales, plus la variable objetivo"
      ],
      "metadata": {
        "id": "nSnlY1wdLYfd"
      }
    },
    {
      "cell_type": "code",
      "source": [
        "x.dtypes"
      ],
      "metadata": {
        "colab": {
          "base_uri": "https://localhost:8080/"
        },
        "id": "GPrrvzqITtI4",
        "outputId": "0d471e13-dd02-4576-dc99-aa4e8fd56324"
      },
      "execution_count": null,
      "outputs": [
        {
          "output_type": "execute_result",
          "data": {
            "text/plain": [
              "Geography           object\n",
              "Gender              object\n",
              "Tenure               int64\n",
              "NumOfProducts        int64\n",
              "HasCrCard             bool\n",
              "IsActiveMember        bool\n",
              "CreditScore          int64\n",
              "Age                  int64\n",
              "Balance            float64\n",
              "EstimatedSalary    float64\n",
              "dtype: object"
            ]
          },
          "metadata": {},
          "execution_count": 42
        }
      ]
    },
    {
      "cell_type": "markdown",
      "source": [
        "Se crean las instancias para preprocesar los datos, en el caso de la variables cuantitativas se aplicara StandardScaler para estandariazarlos. Para las variables cualitativas se aplicara One Hot Encoder para el uso de estas en procesos de Machine Learning:"
      ],
      "metadata": {
        "id": "yTVTEQlpMw7f"
      }
    },
    {
      "cell_type": "code",
      "source": [
        "cualitativa_ajustar = Pipeline(steps=[ ('encoder', OneHotEncoder(handle_unknown='ignore')) ])"
      ],
      "metadata": {
        "id": "1NDuklW9Mxg3"
      },
      "execution_count": null,
      "outputs": []
    },
    {
      "cell_type": "code",
      "source": [
        "categorical_x = x.select_dtypes(include=['object', 'bool']).columns"
      ],
      "metadata": {
        "id": "uBE3vR9dNAWh"
      },
      "execution_count": null,
      "outputs": []
    },
    {
      "cell_type": "code",
      "source": [
        "preprocesamiento_cat = ColumnTransformer(transformers=[ ('cualitativa',cualitativa_ajustar ,categorical_x) ])"
      ],
      "metadata": {
        "id": "10F3nqqRNFBU"
      },
      "execution_count": null,
      "outputs": []
    },
    {
      "cell_type": "code",
      "source": [
        "x_cat = x[['Geography','Gender','HasCrCard','IsActiveMember']]"
      ],
      "metadata": {
        "id": "VPDcLY_7Tb8f"
      },
      "execution_count": null,
      "outputs": []
    },
    {
      "cell_type": "code",
      "source": [
        "x_cat"
      ],
      "metadata": {
        "colab": {
          "base_uri": "https://localhost:8080/",
          "height": 423
        },
        "id": "zLlaLB0bUHAA",
        "outputId": "cc301c5c-af4e-47fc-ac95-430c6f2f806b"
      },
      "execution_count": null,
      "outputs": [
        {
          "output_type": "execute_result",
          "data": {
            "text/plain": [
              "     Geography  Gender  HasCrCard  IsActiveMember\n",
              "0       France  Female       True            True\n",
              "1        Spain  Female      False            True\n",
              "2       France  Female       True           False\n",
              "3       France  Female      False           False\n",
              "4        Spain  Female       True            True\n",
              "...        ...     ...        ...             ...\n",
              "9995    France    Male       True           False\n",
              "9996    France    Male       True            True\n",
              "9997    France  Female      False            True\n",
              "9998   Germany    Male       True           False\n",
              "9999    France  Female       True           False\n",
              "\n",
              "[10000 rows x 4 columns]"
            ],
            "text/html": [
              "\n",
              "  <div id=\"df-3635bb8f-59b8-447d-9525-38d8456792fb\">\n",
              "    <div class=\"colab-df-container\">\n",
              "      <div>\n",
              "<style scoped>\n",
              "    .dataframe tbody tr th:only-of-type {\n",
              "        vertical-align: middle;\n",
              "    }\n",
              "\n",
              "    .dataframe tbody tr th {\n",
              "        vertical-align: top;\n",
              "    }\n",
              "\n",
              "    .dataframe thead th {\n",
              "        text-align: right;\n",
              "    }\n",
              "</style>\n",
              "<table border=\"1\" class=\"dataframe\">\n",
              "  <thead>\n",
              "    <tr style=\"text-align: right;\">\n",
              "      <th></th>\n",
              "      <th>Geography</th>\n",
              "      <th>Gender</th>\n",
              "      <th>HasCrCard</th>\n",
              "      <th>IsActiveMember</th>\n",
              "    </tr>\n",
              "  </thead>\n",
              "  <tbody>\n",
              "    <tr>\n",
              "      <th>0</th>\n",
              "      <td>France</td>\n",
              "      <td>Female</td>\n",
              "      <td>True</td>\n",
              "      <td>True</td>\n",
              "    </tr>\n",
              "    <tr>\n",
              "      <th>1</th>\n",
              "      <td>Spain</td>\n",
              "      <td>Female</td>\n",
              "      <td>False</td>\n",
              "      <td>True</td>\n",
              "    </tr>\n",
              "    <tr>\n",
              "      <th>2</th>\n",
              "      <td>France</td>\n",
              "      <td>Female</td>\n",
              "      <td>True</td>\n",
              "      <td>False</td>\n",
              "    </tr>\n",
              "    <tr>\n",
              "      <th>3</th>\n",
              "      <td>France</td>\n",
              "      <td>Female</td>\n",
              "      <td>False</td>\n",
              "      <td>False</td>\n",
              "    </tr>\n",
              "    <tr>\n",
              "      <th>4</th>\n",
              "      <td>Spain</td>\n",
              "      <td>Female</td>\n",
              "      <td>True</td>\n",
              "      <td>True</td>\n",
              "    </tr>\n",
              "    <tr>\n",
              "      <th>...</th>\n",
              "      <td>...</td>\n",
              "      <td>...</td>\n",
              "      <td>...</td>\n",
              "      <td>...</td>\n",
              "    </tr>\n",
              "    <tr>\n",
              "      <th>9995</th>\n",
              "      <td>France</td>\n",
              "      <td>Male</td>\n",
              "      <td>True</td>\n",
              "      <td>False</td>\n",
              "    </tr>\n",
              "    <tr>\n",
              "      <th>9996</th>\n",
              "      <td>France</td>\n",
              "      <td>Male</td>\n",
              "      <td>True</td>\n",
              "      <td>True</td>\n",
              "    </tr>\n",
              "    <tr>\n",
              "      <th>9997</th>\n",
              "      <td>France</td>\n",
              "      <td>Female</td>\n",
              "      <td>False</td>\n",
              "      <td>True</td>\n",
              "    </tr>\n",
              "    <tr>\n",
              "      <th>9998</th>\n",
              "      <td>Germany</td>\n",
              "      <td>Male</td>\n",
              "      <td>True</td>\n",
              "      <td>False</td>\n",
              "    </tr>\n",
              "    <tr>\n",
              "      <th>9999</th>\n",
              "      <td>France</td>\n",
              "      <td>Female</td>\n",
              "      <td>True</td>\n",
              "      <td>False</td>\n",
              "    </tr>\n",
              "  </tbody>\n",
              "</table>\n",
              "<p>10000 rows × 4 columns</p>\n",
              "</div>\n",
              "      <button class=\"colab-df-convert\" onclick=\"convertToInteractive('df-3635bb8f-59b8-447d-9525-38d8456792fb')\"\n",
              "              title=\"Convert this dataframe to an interactive table.\"\n",
              "              style=\"display:none;\">\n",
              "        \n",
              "  <svg xmlns=\"http://www.w3.org/2000/svg\" height=\"24px\"viewBox=\"0 0 24 24\"\n",
              "       width=\"24px\">\n",
              "    <path d=\"M0 0h24v24H0V0z\" fill=\"none\"/>\n",
              "    <path d=\"M18.56 5.44l.94 2.06.94-2.06 2.06-.94-2.06-.94-.94-2.06-.94 2.06-2.06.94zm-11 1L8.5 8.5l.94-2.06 2.06-.94-2.06-.94L8.5 2.5l-.94 2.06-2.06.94zm10 10l.94 2.06.94-2.06 2.06-.94-2.06-.94-.94-2.06-.94 2.06-2.06.94z\"/><path d=\"M17.41 7.96l-1.37-1.37c-.4-.4-.92-.59-1.43-.59-.52 0-1.04.2-1.43.59L10.3 9.45l-7.72 7.72c-.78.78-.78 2.05 0 2.83L4 21.41c.39.39.9.59 1.41.59.51 0 1.02-.2 1.41-.59l7.78-7.78 2.81-2.81c.8-.78.8-2.07 0-2.86zM5.41 20L4 18.59l7.72-7.72 1.47 1.35L5.41 20z\"/>\n",
              "  </svg>\n",
              "      </button>\n",
              "      \n",
              "  <style>\n",
              "    .colab-df-container {\n",
              "      display:flex;\n",
              "      flex-wrap:wrap;\n",
              "      gap: 12px;\n",
              "    }\n",
              "\n",
              "    .colab-df-convert {\n",
              "      background-color: #E8F0FE;\n",
              "      border: none;\n",
              "      border-radius: 50%;\n",
              "      cursor: pointer;\n",
              "      display: none;\n",
              "      fill: #1967D2;\n",
              "      height: 32px;\n",
              "      padding: 0 0 0 0;\n",
              "      width: 32px;\n",
              "    }\n",
              "\n",
              "    .colab-df-convert:hover {\n",
              "      background-color: #E2EBFA;\n",
              "      box-shadow: 0px 1px 2px rgba(60, 64, 67, 0.3), 0px 1px 3px 1px rgba(60, 64, 67, 0.15);\n",
              "      fill: #174EA6;\n",
              "    }\n",
              "\n",
              "    [theme=dark] .colab-df-convert {\n",
              "      background-color: #3B4455;\n",
              "      fill: #D2E3FC;\n",
              "    }\n",
              "\n",
              "    [theme=dark] .colab-df-convert:hover {\n",
              "      background-color: #434B5C;\n",
              "      box-shadow: 0px 1px 3px 1px rgba(0, 0, 0, 0.15);\n",
              "      filter: drop-shadow(0px 1px 2px rgba(0, 0, 0, 0.3));\n",
              "      fill: #FFFFFF;\n",
              "    }\n",
              "  </style>\n",
              "\n",
              "      <script>\n",
              "        const buttonEl =\n",
              "          document.querySelector('#df-3635bb8f-59b8-447d-9525-38d8456792fb button.colab-df-convert');\n",
              "        buttonEl.style.display =\n",
              "          google.colab.kernel.accessAllowed ? 'block' : 'none';\n",
              "\n",
              "        async function convertToInteractive(key) {\n",
              "          const element = document.querySelector('#df-3635bb8f-59b8-447d-9525-38d8456792fb');\n",
              "          const dataTable =\n",
              "            await google.colab.kernel.invokeFunction('convertToInteractive',\n",
              "                                                     [key], {});\n",
              "          if (!dataTable) return;\n",
              "\n",
              "          const docLinkHtml = 'Like what you see? Visit the ' +\n",
              "            '<a target=\"_blank\" href=https://colab.research.google.com/notebooks/data_table.ipynb>data table notebook</a>'\n",
              "            + ' to learn more about interactive tables.';\n",
              "          element.innerHTML = '';\n",
              "          dataTable['output_type'] = 'display_data';\n",
              "          await google.colab.output.renderOutput(dataTable, element);\n",
              "          const docLink = document.createElement('div');\n",
              "          docLink.innerHTML = docLinkHtml;\n",
              "          element.appendChild(docLink);\n",
              "        }\n",
              "      </script>\n",
              "    </div>\n",
              "  </div>\n",
              "  "
            ]
          },
          "metadata": {},
          "execution_count": 47
        }
      ]
    },
    {
      "cell_type": "code",
      "source": [
        "x = x.drop(columns=['Geography'])\n",
        "x = x.drop(columns=['Gender'])\n",
        "x = x.drop(columns=['HasCrCard'])\n",
        "x = x.drop(columns=['IsActiveMember'])"
      ],
      "metadata": {
        "id": "Af7NqbDhUUx6"
      },
      "execution_count": null,
      "outputs": []
    },
    {
      "cell_type": "markdown",
      "source": [
        "En primer lugar, se aplica la transformación para las variables categóricas, donde se aplicara el metodo 'one hot encoder':"
      ],
      "metadata": {
        "id": "Gi-HTv1dQK6o"
      }
    },
    {
      "cell_type": "code",
      "source": [
        "xt = preprocesamiento_cat.fit_transform(x_cat)"
      ],
      "metadata": {
        "id": "tr9DqARqP_j_"
      },
      "execution_count": null,
      "outputs": []
    },
    {
      "cell_type": "code",
      "source": [
        "xt = pd.DataFrame(xt)"
      ],
      "metadata": {
        "id": "dXORATRvU2ut"
      },
      "execution_count": null,
      "outputs": []
    },
    {
      "cell_type": "code",
      "source": [
        "xt"
      ],
      "metadata": {
        "colab": {
          "base_uri": "https://localhost:8080/",
          "height": 423
        },
        "id": "AUTb-SAmU8S7",
        "outputId": "73b2620e-9df4-468b-88e2-6e8f7e0f1287"
      },
      "execution_count": null,
      "outputs": [
        {
          "output_type": "execute_result",
          "data": {
            "text/plain": [
              "        0    1    2    3    4    5    6    7    8\n",
              "0     1.0  0.0  0.0  1.0  0.0  0.0  1.0  0.0  1.0\n",
              "1     0.0  0.0  1.0  1.0  0.0  1.0  0.0  0.0  1.0\n",
              "2     1.0  0.0  0.0  1.0  0.0  0.0  1.0  1.0  0.0\n",
              "3     1.0  0.0  0.0  1.0  0.0  1.0  0.0  1.0  0.0\n",
              "4     0.0  0.0  1.0  1.0  0.0  0.0  1.0  0.0  1.0\n",
              "...   ...  ...  ...  ...  ...  ...  ...  ...  ...\n",
              "9995  1.0  0.0  0.0  0.0  1.0  0.0  1.0  1.0  0.0\n",
              "9996  1.0  0.0  0.0  0.0  1.0  0.0  1.0  0.0  1.0\n",
              "9997  1.0  0.0  0.0  1.0  0.0  1.0  0.0  0.0  1.0\n",
              "9998  0.0  1.0  0.0  0.0  1.0  0.0  1.0  1.0  0.0\n",
              "9999  1.0  0.0  0.0  1.0  0.0  0.0  1.0  1.0  0.0\n",
              "\n",
              "[10000 rows x 9 columns]"
            ],
            "text/html": [
              "\n",
              "  <div id=\"df-688a8e87-f6c6-4bf4-a305-a33619c6135a\">\n",
              "    <div class=\"colab-df-container\">\n",
              "      <div>\n",
              "<style scoped>\n",
              "    .dataframe tbody tr th:only-of-type {\n",
              "        vertical-align: middle;\n",
              "    }\n",
              "\n",
              "    .dataframe tbody tr th {\n",
              "        vertical-align: top;\n",
              "    }\n",
              "\n",
              "    .dataframe thead th {\n",
              "        text-align: right;\n",
              "    }\n",
              "</style>\n",
              "<table border=\"1\" class=\"dataframe\">\n",
              "  <thead>\n",
              "    <tr style=\"text-align: right;\">\n",
              "      <th></th>\n",
              "      <th>0</th>\n",
              "      <th>1</th>\n",
              "      <th>2</th>\n",
              "      <th>3</th>\n",
              "      <th>4</th>\n",
              "      <th>5</th>\n",
              "      <th>6</th>\n",
              "      <th>7</th>\n",
              "      <th>8</th>\n",
              "    </tr>\n",
              "  </thead>\n",
              "  <tbody>\n",
              "    <tr>\n",
              "      <th>0</th>\n",
              "      <td>1.0</td>\n",
              "      <td>0.0</td>\n",
              "      <td>0.0</td>\n",
              "      <td>1.0</td>\n",
              "      <td>0.0</td>\n",
              "      <td>0.0</td>\n",
              "      <td>1.0</td>\n",
              "      <td>0.0</td>\n",
              "      <td>1.0</td>\n",
              "    </tr>\n",
              "    <tr>\n",
              "      <th>1</th>\n",
              "      <td>0.0</td>\n",
              "      <td>0.0</td>\n",
              "      <td>1.0</td>\n",
              "      <td>1.0</td>\n",
              "      <td>0.0</td>\n",
              "      <td>1.0</td>\n",
              "      <td>0.0</td>\n",
              "      <td>0.0</td>\n",
              "      <td>1.0</td>\n",
              "    </tr>\n",
              "    <tr>\n",
              "      <th>2</th>\n",
              "      <td>1.0</td>\n",
              "      <td>0.0</td>\n",
              "      <td>0.0</td>\n",
              "      <td>1.0</td>\n",
              "      <td>0.0</td>\n",
              "      <td>0.0</td>\n",
              "      <td>1.0</td>\n",
              "      <td>1.0</td>\n",
              "      <td>0.0</td>\n",
              "    </tr>\n",
              "    <tr>\n",
              "      <th>3</th>\n",
              "      <td>1.0</td>\n",
              "      <td>0.0</td>\n",
              "      <td>0.0</td>\n",
              "      <td>1.0</td>\n",
              "      <td>0.0</td>\n",
              "      <td>1.0</td>\n",
              "      <td>0.0</td>\n",
              "      <td>1.0</td>\n",
              "      <td>0.0</td>\n",
              "    </tr>\n",
              "    <tr>\n",
              "      <th>4</th>\n",
              "      <td>0.0</td>\n",
              "      <td>0.0</td>\n",
              "      <td>1.0</td>\n",
              "      <td>1.0</td>\n",
              "      <td>0.0</td>\n",
              "      <td>0.0</td>\n",
              "      <td>1.0</td>\n",
              "      <td>0.0</td>\n",
              "      <td>1.0</td>\n",
              "    </tr>\n",
              "    <tr>\n",
              "      <th>...</th>\n",
              "      <td>...</td>\n",
              "      <td>...</td>\n",
              "      <td>...</td>\n",
              "      <td>...</td>\n",
              "      <td>...</td>\n",
              "      <td>...</td>\n",
              "      <td>...</td>\n",
              "      <td>...</td>\n",
              "      <td>...</td>\n",
              "    </tr>\n",
              "    <tr>\n",
              "      <th>9995</th>\n",
              "      <td>1.0</td>\n",
              "      <td>0.0</td>\n",
              "      <td>0.0</td>\n",
              "      <td>0.0</td>\n",
              "      <td>1.0</td>\n",
              "      <td>0.0</td>\n",
              "      <td>1.0</td>\n",
              "      <td>1.0</td>\n",
              "      <td>0.0</td>\n",
              "    </tr>\n",
              "    <tr>\n",
              "      <th>9996</th>\n",
              "      <td>1.0</td>\n",
              "      <td>0.0</td>\n",
              "      <td>0.0</td>\n",
              "      <td>0.0</td>\n",
              "      <td>1.0</td>\n",
              "      <td>0.0</td>\n",
              "      <td>1.0</td>\n",
              "      <td>0.0</td>\n",
              "      <td>1.0</td>\n",
              "    </tr>\n",
              "    <tr>\n",
              "      <th>9997</th>\n",
              "      <td>1.0</td>\n",
              "      <td>0.0</td>\n",
              "      <td>0.0</td>\n",
              "      <td>1.0</td>\n",
              "      <td>0.0</td>\n",
              "      <td>1.0</td>\n",
              "      <td>0.0</td>\n",
              "      <td>0.0</td>\n",
              "      <td>1.0</td>\n",
              "    </tr>\n",
              "    <tr>\n",
              "      <th>9998</th>\n",
              "      <td>0.0</td>\n",
              "      <td>1.0</td>\n",
              "      <td>0.0</td>\n",
              "      <td>0.0</td>\n",
              "      <td>1.0</td>\n",
              "      <td>0.0</td>\n",
              "      <td>1.0</td>\n",
              "      <td>1.0</td>\n",
              "      <td>0.0</td>\n",
              "    </tr>\n",
              "    <tr>\n",
              "      <th>9999</th>\n",
              "      <td>1.0</td>\n",
              "      <td>0.0</td>\n",
              "      <td>0.0</td>\n",
              "      <td>1.0</td>\n",
              "      <td>0.0</td>\n",
              "      <td>0.0</td>\n",
              "      <td>1.0</td>\n",
              "      <td>1.0</td>\n",
              "      <td>0.0</td>\n",
              "    </tr>\n",
              "  </tbody>\n",
              "</table>\n",
              "<p>10000 rows × 9 columns</p>\n",
              "</div>\n",
              "      <button class=\"colab-df-convert\" onclick=\"convertToInteractive('df-688a8e87-f6c6-4bf4-a305-a33619c6135a')\"\n",
              "              title=\"Convert this dataframe to an interactive table.\"\n",
              "              style=\"display:none;\">\n",
              "        \n",
              "  <svg xmlns=\"http://www.w3.org/2000/svg\" height=\"24px\"viewBox=\"0 0 24 24\"\n",
              "       width=\"24px\">\n",
              "    <path d=\"M0 0h24v24H0V0z\" fill=\"none\"/>\n",
              "    <path d=\"M18.56 5.44l.94 2.06.94-2.06 2.06-.94-2.06-.94-.94-2.06-.94 2.06-2.06.94zm-11 1L8.5 8.5l.94-2.06 2.06-.94-2.06-.94L8.5 2.5l-.94 2.06-2.06.94zm10 10l.94 2.06.94-2.06 2.06-.94-2.06-.94-.94-2.06-.94 2.06-2.06.94z\"/><path d=\"M17.41 7.96l-1.37-1.37c-.4-.4-.92-.59-1.43-.59-.52 0-1.04.2-1.43.59L10.3 9.45l-7.72 7.72c-.78.78-.78 2.05 0 2.83L4 21.41c.39.39.9.59 1.41.59.51 0 1.02-.2 1.41-.59l7.78-7.78 2.81-2.81c.8-.78.8-2.07 0-2.86zM5.41 20L4 18.59l7.72-7.72 1.47 1.35L5.41 20z\"/>\n",
              "  </svg>\n",
              "      </button>\n",
              "      \n",
              "  <style>\n",
              "    .colab-df-container {\n",
              "      display:flex;\n",
              "      flex-wrap:wrap;\n",
              "      gap: 12px;\n",
              "    }\n",
              "\n",
              "    .colab-df-convert {\n",
              "      background-color: #E8F0FE;\n",
              "      border: none;\n",
              "      border-radius: 50%;\n",
              "      cursor: pointer;\n",
              "      display: none;\n",
              "      fill: #1967D2;\n",
              "      height: 32px;\n",
              "      padding: 0 0 0 0;\n",
              "      width: 32px;\n",
              "    }\n",
              "\n",
              "    .colab-df-convert:hover {\n",
              "      background-color: #E2EBFA;\n",
              "      box-shadow: 0px 1px 2px rgba(60, 64, 67, 0.3), 0px 1px 3px 1px rgba(60, 64, 67, 0.15);\n",
              "      fill: #174EA6;\n",
              "    }\n",
              "\n",
              "    [theme=dark] .colab-df-convert {\n",
              "      background-color: #3B4455;\n",
              "      fill: #D2E3FC;\n",
              "    }\n",
              "\n",
              "    [theme=dark] .colab-df-convert:hover {\n",
              "      background-color: #434B5C;\n",
              "      box-shadow: 0px 1px 3px 1px rgba(0, 0, 0, 0.15);\n",
              "      filter: drop-shadow(0px 1px 2px rgba(0, 0, 0, 0.3));\n",
              "      fill: #FFFFFF;\n",
              "    }\n",
              "  </style>\n",
              "\n",
              "      <script>\n",
              "        const buttonEl =\n",
              "          document.querySelector('#df-688a8e87-f6c6-4bf4-a305-a33619c6135a button.colab-df-convert');\n",
              "        buttonEl.style.display =\n",
              "          google.colab.kernel.accessAllowed ? 'block' : 'none';\n",
              "\n",
              "        async function convertToInteractive(key) {\n",
              "          const element = document.querySelector('#df-688a8e87-f6c6-4bf4-a305-a33619c6135a');\n",
              "          const dataTable =\n",
              "            await google.colab.kernel.invokeFunction('convertToInteractive',\n",
              "                                                     [key], {});\n",
              "          if (!dataTable) return;\n",
              "\n",
              "          const docLinkHtml = 'Like what you see? Visit the ' +\n",
              "            '<a target=\"_blank\" href=https://colab.research.google.com/notebooks/data_table.ipynb>data table notebook</a>'\n",
              "            + ' to learn more about interactive tables.';\n",
              "          element.innerHTML = '';\n",
              "          dataTable['output_type'] = 'display_data';\n",
              "          await google.colab.output.renderOutput(dataTable, element);\n",
              "          const docLink = document.createElement('div');\n",
              "          docLink.innerHTML = docLinkHtml;\n",
              "          element.appendChild(docLink);\n",
              "        }\n",
              "      </script>\n",
              "    </div>\n",
              "  </div>\n",
              "  "
            ]
          },
          "metadata": {},
          "execution_count": 51
        }
      ]
    },
    {
      "cell_type": "code",
      "source": [
        "x = pd.concat([x.reset_index(drop=True), xt], axis=1)"
      ],
      "metadata": {
        "id": "BLPCHrXRUmLz"
      },
      "execution_count": null,
      "outputs": []
    },
    {
      "cell_type": "code",
      "source": [
        "x"
      ],
      "metadata": {
        "colab": {
          "base_uri": "https://localhost:8080/",
          "height": 423
        },
        "id": "kTBvCdQ1VAa8",
        "outputId": "11cdd741-8e62-4701-e77b-815ee9a226e7"
      },
      "execution_count": null,
      "outputs": [
        {
          "output_type": "execute_result",
          "data": {
            "text/plain": [
              "      Tenure  NumOfProducts  CreditScore  Age    Balance  EstimatedSalary  \\\n",
              "0          2              1          619   42       0.00        101348.88   \n",
              "1          1              1          608   41   83807.86        112542.58   \n",
              "2          8              3          502   42  159660.80        113931.57   \n",
              "3          1              2          699   39       0.00         93826.63   \n",
              "4          2              1          850   43  125510.82         79084.10   \n",
              "...      ...            ...          ...  ...        ...              ...   \n",
              "9995       5              2          771   39       0.00         96270.64   \n",
              "9996      10              1          516   35   57369.61        101699.77   \n",
              "9997       7              1          709   36       0.00         42085.58   \n",
              "9998       3              2          772   42   75075.31         92888.52   \n",
              "9999       4              1          792   28  130142.79         38190.78   \n",
              "\n",
              "        0    1    2    3    4    5    6    7    8  \n",
              "0     1.0  0.0  0.0  1.0  0.0  0.0  1.0  0.0  1.0  \n",
              "1     0.0  0.0  1.0  1.0  0.0  1.0  0.0  0.0  1.0  \n",
              "2     1.0  0.0  0.0  1.0  0.0  0.0  1.0  1.0  0.0  \n",
              "3     1.0  0.0  0.0  1.0  0.0  1.0  0.0  1.0  0.0  \n",
              "4     0.0  0.0  1.0  1.0  0.0  0.0  1.0  0.0  1.0  \n",
              "...   ...  ...  ...  ...  ...  ...  ...  ...  ...  \n",
              "9995  1.0  0.0  0.0  0.0  1.0  0.0  1.0  1.0  0.0  \n",
              "9996  1.0  0.0  0.0  0.0  1.0  0.0  1.0  0.0  1.0  \n",
              "9997  1.0  0.0  0.0  1.0  0.0  1.0  0.0  0.0  1.0  \n",
              "9998  0.0  1.0  0.0  0.0  1.0  0.0  1.0  1.0  0.0  \n",
              "9999  1.0  0.0  0.0  1.0  0.0  0.0  1.0  1.0  0.0  \n",
              "\n",
              "[10000 rows x 15 columns]"
            ],
            "text/html": [
              "\n",
              "  <div id=\"df-6635e93e-cddc-4ec9-a8ea-0567a3c05ec2\">\n",
              "    <div class=\"colab-df-container\">\n",
              "      <div>\n",
              "<style scoped>\n",
              "    .dataframe tbody tr th:only-of-type {\n",
              "        vertical-align: middle;\n",
              "    }\n",
              "\n",
              "    .dataframe tbody tr th {\n",
              "        vertical-align: top;\n",
              "    }\n",
              "\n",
              "    .dataframe thead th {\n",
              "        text-align: right;\n",
              "    }\n",
              "</style>\n",
              "<table border=\"1\" class=\"dataframe\">\n",
              "  <thead>\n",
              "    <tr style=\"text-align: right;\">\n",
              "      <th></th>\n",
              "      <th>Tenure</th>\n",
              "      <th>NumOfProducts</th>\n",
              "      <th>CreditScore</th>\n",
              "      <th>Age</th>\n",
              "      <th>Balance</th>\n",
              "      <th>EstimatedSalary</th>\n",
              "      <th>0</th>\n",
              "      <th>1</th>\n",
              "      <th>2</th>\n",
              "      <th>3</th>\n",
              "      <th>4</th>\n",
              "      <th>5</th>\n",
              "      <th>6</th>\n",
              "      <th>7</th>\n",
              "      <th>8</th>\n",
              "    </tr>\n",
              "  </thead>\n",
              "  <tbody>\n",
              "    <tr>\n",
              "      <th>0</th>\n",
              "      <td>2</td>\n",
              "      <td>1</td>\n",
              "      <td>619</td>\n",
              "      <td>42</td>\n",
              "      <td>0.00</td>\n",
              "      <td>101348.88</td>\n",
              "      <td>1.0</td>\n",
              "      <td>0.0</td>\n",
              "      <td>0.0</td>\n",
              "      <td>1.0</td>\n",
              "      <td>0.0</td>\n",
              "      <td>0.0</td>\n",
              "      <td>1.0</td>\n",
              "      <td>0.0</td>\n",
              "      <td>1.0</td>\n",
              "    </tr>\n",
              "    <tr>\n",
              "      <th>1</th>\n",
              "      <td>1</td>\n",
              "      <td>1</td>\n",
              "      <td>608</td>\n",
              "      <td>41</td>\n",
              "      <td>83807.86</td>\n",
              "      <td>112542.58</td>\n",
              "      <td>0.0</td>\n",
              "      <td>0.0</td>\n",
              "      <td>1.0</td>\n",
              "      <td>1.0</td>\n",
              "      <td>0.0</td>\n",
              "      <td>1.0</td>\n",
              "      <td>0.0</td>\n",
              "      <td>0.0</td>\n",
              "      <td>1.0</td>\n",
              "    </tr>\n",
              "    <tr>\n",
              "      <th>2</th>\n",
              "      <td>8</td>\n",
              "      <td>3</td>\n",
              "      <td>502</td>\n",
              "      <td>42</td>\n",
              "      <td>159660.80</td>\n",
              "      <td>113931.57</td>\n",
              "      <td>1.0</td>\n",
              "      <td>0.0</td>\n",
              "      <td>0.0</td>\n",
              "      <td>1.0</td>\n",
              "      <td>0.0</td>\n",
              "      <td>0.0</td>\n",
              "      <td>1.0</td>\n",
              "      <td>1.0</td>\n",
              "      <td>0.0</td>\n",
              "    </tr>\n",
              "    <tr>\n",
              "      <th>3</th>\n",
              "      <td>1</td>\n",
              "      <td>2</td>\n",
              "      <td>699</td>\n",
              "      <td>39</td>\n",
              "      <td>0.00</td>\n",
              "      <td>93826.63</td>\n",
              "      <td>1.0</td>\n",
              "      <td>0.0</td>\n",
              "      <td>0.0</td>\n",
              "      <td>1.0</td>\n",
              "      <td>0.0</td>\n",
              "      <td>1.0</td>\n",
              "      <td>0.0</td>\n",
              "      <td>1.0</td>\n",
              "      <td>0.0</td>\n",
              "    </tr>\n",
              "    <tr>\n",
              "      <th>4</th>\n",
              "      <td>2</td>\n",
              "      <td>1</td>\n",
              "      <td>850</td>\n",
              "      <td>43</td>\n",
              "      <td>125510.82</td>\n",
              "      <td>79084.10</td>\n",
              "      <td>0.0</td>\n",
              "      <td>0.0</td>\n",
              "      <td>1.0</td>\n",
              "      <td>1.0</td>\n",
              "      <td>0.0</td>\n",
              "      <td>0.0</td>\n",
              "      <td>1.0</td>\n",
              "      <td>0.0</td>\n",
              "      <td>1.0</td>\n",
              "    </tr>\n",
              "    <tr>\n",
              "      <th>...</th>\n",
              "      <td>...</td>\n",
              "      <td>...</td>\n",
              "      <td>...</td>\n",
              "      <td>...</td>\n",
              "      <td>...</td>\n",
              "      <td>...</td>\n",
              "      <td>...</td>\n",
              "      <td>...</td>\n",
              "      <td>...</td>\n",
              "      <td>...</td>\n",
              "      <td>...</td>\n",
              "      <td>...</td>\n",
              "      <td>...</td>\n",
              "      <td>...</td>\n",
              "      <td>...</td>\n",
              "    </tr>\n",
              "    <tr>\n",
              "      <th>9995</th>\n",
              "      <td>5</td>\n",
              "      <td>2</td>\n",
              "      <td>771</td>\n",
              "      <td>39</td>\n",
              "      <td>0.00</td>\n",
              "      <td>96270.64</td>\n",
              "      <td>1.0</td>\n",
              "      <td>0.0</td>\n",
              "      <td>0.0</td>\n",
              "      <td>0.0</td>\n",
              "      <td>1.0</td>\n",
              "      <td>0.0</td>\n",
              "      <td>1.0</td>\n",
              "      <td>1.0</td>\n",
              "      <td>0.0</td>\n",
              "    </tr>\n",
              "    <tr>\n",
              "      <th>9996</th>\n",
              "      <td>10</td>\n",
              "      <td>1</td>\n",
              "      <td>516</td>\n",
              "      <td>35</td>\n",
              "      <td>57369.61</td>\n",
              "      <td>101699.77</td>\n",
              "      <td>1.0</td>\n",
              "      <td>0.0</td>\n",
              "      <td>0.0</td>\n",
              "      <td>0.0</td>\n",
              "      <td>1.0</td>\n",
              "      <td>0.0</td>\n",
              "      <td>1.0</td>\n",
              "      <td>0.0</td>\n",
              "      <td>1.0</td>\n",
              "    </tr>\n",
              "    <tr>\n",
              "      <th>9997</th>\n",
              "      <td>7</td>\n",
              "      <td>1</td>\n",
              "      <td>709</td>\n",
              "      <td>36</td>\n",
              "      <td>0.00</td>\n",
              "      <td>42085.58</td>\n",
              "      <td>1.0</td>\n",
              "      <td>0.0</td>\n",
              "      <td>0.0</td>\n",
              "      <td>1.0</td>\n",
              "      <td>0.0</td>\n",
              "      <td>1.0</td>\n",
              "      <td>0.0</td>\n",
              "      <td>0.0</td>\n",
              "      <td>1.0</td>\n",
              "    </tr>\n",
              "    <tr>\n",
              "      <th>9998</th>\n",
              "      <td>3</td>\n",
              "      <td>2</td>\n",
              "      <td>772</td>\n",
              "      <td>42</td>\n",
              "      <td>75075.31</td>\n",
              "      <td>92888.52</td>\n",
              "      <td>0.0</td>\n",
              "      <td>1.0</td>\n",
              "      <td>0.0</td>\n",
              "      <td>0.0</td>\n",
              "      <td>1.0</td>\n",
              "      <td>0.0</td>\n",
              "      <td>1.0</td>\n",
              "      <td>1.0</td>\n",
              "      <td>0.0</td>\n",
              "    </tr>\n",
              "    <tr>\n",
              "      <th>9999</th>\n",
              "      <td>4</td>\n",
              "      <td>1</td>\n",
              "      <td>792</td>\n",
              "      <td>28</td>\n",
              "      <td>130142.79</td>\n",
              "      <td>38190.78</td>\n",
              "      <td>1.0</td>\n",
              "      <td>0.0</td>\n",
              "      <td>0.0</td>\n",
              "      <td>1.0</td>\n",
              "      <td>0.0</td>\n",
              "      <td>0.0</td>\n",
              "      <td>1.0</td>\n",
              "      <td>1.0</td>\n",
              "      <td>0.0</td>\n",
              "    </tr>\n",
              "  </tbody>\n",
              "</table>\n",
              "<p>10000 rows × 15 columns</p>\n",
              "</div>\n",
              "      <button class=\"colab-df-convert\" onclick=\"convertToInteractive('df-6635e93e-cddc-4ec9-a8ea-0567a3c05ec2')\"\n",
              "              title=\"Convert this dataframe to an interactive table.\"\n",
              "              style=\"display:none;\">\n",
              "        \n",
              "  <svg xmlns=\"http://www.w3.org/2000/svg\" height=\"24px\"viewBox=\"0 0 24 24\"\n",
              "       width=\"24px\">\n",
              "    <path d=\"M0 0h24v24H0V0z\" fill=\"none\"/>\n",
              "    <path d=\"M18.56 5.44l.94 2.06.94-2.06 2.06-.94-2.06-.94-.94-2.06-.94 2.06-2.06.94zm-11 1L8.5 8.5l.94-2.06 2.06-.94-2.06-.94L8.5 2.5l-.94 2.06-2.06.94zm10 10l.94 2.06.94-2.06 2.06-.94-2.06-.94-.94-2.06-.94 2.06-2.06.94z\"/><path d=\"M17.41 7.96l-1.37-1.37c-.4-.4-.92-.59-1.43-.59-.52 0-1.04.2-1.43.59L10.3 9.45l-7.72 7.72c-.78.78-.78 2.05 0 2.83L4 21.41c.39.39.9.59 1.41.59.51 0 1.02-.2 1.41-.59l7.78-7.78 2.81-2.81c.8-.78.8-2.07 0-2.86zM5.41 20L4 18.59l7.72-7.72 1.47 1.35L5.41 20z\"/>\n",
              "  </svg>\n",
              "      </button>\n",
              "      \n",
              "  <style>\n",
              "    .colab-df-container {\n",
              "      display:flex;\n",
              "      flex-wrap:wrap;\n",
              "      gap: 12px;\n",
              "    }\n",
              "\n",
              "    .colab-df-convert {\n",
              "      background-color: #E8F0FE;\n",
              "      border: none;\n",
              "      border-radius: 50%;\n",
              "      cursor: pointer;\n",
              "      display: none;\n",
              "      fill: #1967D2;\n",
              "      height: 32px;\n",
              "      padding: 0 0 0 0;\n",
              "      width: 32px;\n",
              "    }\n",
              "\n",
              "    .colab-df-convert:hover {\n",
              "      background-color: #E2EBFA;\n",
              "      box-shadow: 0px 1px 2px rgba(60, 64, 67, 0.3), 0px 1px 3px 1px rgba(60, 64, 67, 0.15);\n",
              "      fill: #174EA6;\n",
              "    }\n",
              "\n",
              "    [theme=dark] .colab-df-convert {\n",
              "      background-color: #3B4455;\n",
              "      fill: #D2E3FC;\n",
              "    }\n",
              "\n",
              "    [theme=dark] .colab-df-convert:hover {\n",
              "      background-color: #434B5C;\n",
              "      box-shadow: 0px 1px 3px 1px rgba(0, 0, 0, 0.15);\n",
              "      filter: drop-shadow(0px 1px 2px rgba(0, 0, 0, 0.3));\n",
              "      fill: #FFFFFF;\n",
              "    }\n",
              "  </style>\n",
              "\n",
              "      <script>\n",
              "        const buttonEl =\n",
              "          document.querySelector('#df-6635e93e-cddc-4ec9-a8ea-0567a3c05ec2 button.colab-df-convert');\n",
              "        buttonEl.style.display =\n",
              "          google.colab.kernel.accessAllowed ? 'block' : 'none';\n",
              "\n",
              "        async function convertToInteractive(key) {\n",
              "          const element = document.querySelector('#df-6635e93e-cddc-4ec9-a8ea-0567a3c05ec2');\n",
              "          const dataTable =\n",
              "            await google.colab.kernel.invokeFunction('convertToInteractive',\n",
              "                                                     [key], {});\n",
              "          if (!dataTable) return;\n",
              "\n",
              "          const docLinkHtml = 'Like what you see? Visit the ' +\n",
              "            '<a target=\"_blank\" href=https://colab.research.google.com/notebooks/data_table.ipynb>data table notebook</a>'\n",
              "            + ' to learn more about interactive tables.';\n",
              "          element.innerHTML = '';\n",
              "          dataTable['output_type'] = 'display_data';\n",
              "          await google.colab.output.renderOutput(dataTable, element);\n",
              "          const docLink = document.createElement('div');\n",
              "          docLink.innerHTML = docLinkHtml;\n",
              "          element.appendChild(docLink);\n",
              "        }\n",
              "      </script>\n",
              "    </div>\n",
              "  </div>\n",
              "  "
            ]
          },
          "metadata": {},
          "execution_count": 53
        }
      ]
    },
    {
      "cell_type": "markdown",
      "source": [
        "A continuación se dividen los datos en set de entrenamiento, validación y test. En este caso se usa la convención usual para elegír que porcentaje de datos corresponden a cada set, es decir, se deja un 30% para test y 70% para entrenamiento.\n",
        "\n",
        "En este caso se tienen 10000 datos por lo cual se separan 7000 para entrenamiento y 3000 datos para test."
      ],
      "metadata": {
        "id": "jDBz5gjqN3P_"
      }
    },
    {
      "cell_type": "code",
      "source": [
        "x_train, x_test, y_train, y_test= train_test_split(x, y,test_size = 0.30,random_state=1000)"
      ],
      "metadata": {
        "id": "-fA-84n8Q5hR"
      },
      "execution_count": null,
      "outputs": []
    },
    {
      "cell_type": "code",
      "source": [
        "print(\"Distribución total de la clases, en los datos de entranamiento, antes de aplicar oversampling y undersampling: \",Counter(y_train))"
      ],
      "metadata": {
        "colab": {
          "base_uri": "https://localhost:8080/"
        },
        "id": "AP34HxXSRBEV",
        "outputId": "ceb960eb-02cb-4bcb-a946-10aa1cb6ea0c"
      },
      "execution_count": null,
      "outputs": [
        {
          "output_type": "stream",
          "name": "stdout",
          "text": [
            "Distribución total de la clases, en los datos de entranamiento, antes de aplicar oversampling y undersampling:  Counter({False: 5596, True: 1404})\n"
          ]
        }
      ]
    },
    {
      "cell_type": "markdown",
      "source": [
        "Ahora, se aplica un proceso de estandarización para los datos numéricos, se hace en este punto porque ya se han separado los datos de entrenamiento y test, y no queremos que los de entrenamiento tengan alguna clase de información de los datos de test. Entonces, se hace el proceso para cada uno:"
      ],
      "metadata": {
        "id": "1PrGT41JRU3D"
      }
    },
    {
      "cell_type": "code",
      "source": [
        "scaler = StandardScaler()"
      ],
      "metadata": {
        "id": "LC36tLmnS3c2"
      },
      "execution_count": null,
      "outputs": []
    },
    {
      "cell_type": "code",
      "source": [
        "x_train_num = x_train[['Tenure','NumOfProducts','CreditScore','Age','Balance','EstimatedSalary']]"
      ],
      "metadata": {
        "id": "hXPQDBtdRuf_"
      },
      "execution_count": null,
      "outputs": []
    },
    {
      "cell_type": "code",
      "source": [
        "x_train = x_train.drop(columns=['Tenure'])\n",
        "x_train = x_train.drop(columns=['NumOfProducts'])\n",
        "x_train = x_train.drop(columns=['CreditScore'])\n",
        "x_train = x_train.drop(columns=['Age'])\n",
        "x_train = x_train.drop(columns=['Balance'])\n",
        "x_train = x_train.drop(columns=['EstimatedSalary'])"
      ],
      "metadata": {
        "id": "oxReP9YAY1B5"
      },
      "execution_count": null,
      "outputs": []
    },
    {
      "cell_type": "code",
      "source": [
        "x_test_num = x_test[['Tenure','NumOfProducts','CreditScore','Age','Balance','EstimatedSalary']]"
      ],
      "metadata": {
        "id": "O_zw50w6Z1DV"
      },
      "execution_count": null,
      "outputs": []
    },
    {
      "cell_type": "code",
      "source": [
        "x_test = x_test.drop(columns=['Tenure'])\n",
        "x_test = x_test.drop(columns=['NumOfProducts'])\n",
        "x_test = x_test.drop(columns=['CreditScore'])\n",
        "x_test = x_test.drop(columns=['Age'])\n",
        "x_test = x_test.drop(columns=['Balance'])\n",
        "x_test = x_test.drop(columns=['EstimatedSalary'])"
      ],
      "metadata": {
        "id": "CK5KM2lMaDYX"
      },
      "execution_count": null,
      "outputs": []
    },
    {
      "cell_type": "code",
      "source": [
        "scaler.fit(x_train_num)"
      ],
      "metadata": {
        "colab": {
          "base_uri": "https://localhost:8080/",
          "height": 74
        },
        "id": "L2H8O1vRakXS",
        "outputId": "637d4f6f-9f59-438a-ffdc-506a1ac08774"
      },
      "execution_count": null,
      "outputs": [
        {
          "output_type": "execute_result",
          "data": {
            "text/plain": [
              "StandardScaler()"
            ],
            "text/html": [
              "<style>#sk-container-id-1 {color: black;background-color: white;}#sk-container-id-1 pre{padding: 0;}#sk-container-id-1 div.sk-toggleable {background-color: white;}#sk-container-id-1 label.sk-toggleable__label {cursor: pointer;display: block;width: 100%;margin-bottom: 0;padding: 0.3em;box-sizing: border-box;text-align: center;}#sk-container-id-1 label.sk-toggleable__label-arrow:before {content: \"▸\";float: left;margin-right: 0.25em;color: #696969;}#sk-container-id-1 label.sk-toggleable__label-arrow:hover:before {color: black;}#sk-container-id-1 div.sk-estimator:hover label.sk-toggleable__label-arrow:before {color: black;}#sk-container-id-1 div.sk-toggleable__content {max-height: 0;max-width: 0;overflow: hidden;text-align: left;background-color: #f0f8ff;}#sk-container-id-1 div.sk-toggleable__content pre {margin: 0.2em;color: black;border-radius: 0.25em;background-color: #f0f8ff;}#sk-container-id-1 input.sk-toggleable__control:checked~div.sk-toggleable__content {max-height: 200px;max-width: 100%;overflow: auto;}#sk-container-id-1 input.sk-toggleable__control:checked~label.sk-toggleable__label-arrow:before {content: \"▾\";}#sk-container-id-1 div.sk-estimator input.sk-toggleable__control:checked~label.sk-toggleable__label {background-color: #d4ebff;}#sk-container-id-1 div.sk-label input.sk-toggleable__control:checked~label.sk-toggleable__label {background-color: #d4ebff;}#sk-container-id-1 input.sk-hidden--visually {border: 0;clip: rect(1px 1px 1px 1px);clip: rect(1px, 1px, 1px, 1px);height: 1px;margin: -1px;overflow: hidden;padding: 0;position: absolute;width: 1px;}#sk-container-id-1 div.sk-estimator {font-family: monospace;background-color: #f0f8ff;border: 1px dotted black;border-radius: 0.25em;box-sizing: border-box;margin-bottom: 0.5em;}#sk-container-id-1 div.sk-estimator:hover {background-color: #d4ebff;}#sk-container-id-1 div.sk-parallel-item::after {content: \"\";width: 100%;border-bottom: 1px solid gray;flex-grow: 1;}#sk-container-id-1 div.sk-label:hover label.sk-toggleable__label {background-color: #d4ebff;}#sk-container-id-1 div.sk-serial::before {content: \"\";position: absolute;border-left: 1px solid gray;box-sizing: border-box;top: 0;bottom: 0;left: 50%;z-index: 0;}#sk-container-id-1 div.sk-serial {display: flex;flex-direction: column;align-items: center;background-color: white;padding-right: 0.2em;padding-left: 0.2em;position: relative;}#sk-container-id-1 div.sk-item {position: relative;z-index: 1;}#sk-container-id-1 div.sk-parallel {display: flex;align-items: stretch;justify-content: center;background-color: white;position: relative;}#sk-container-id-1 div.sk-item::before, #sk-container-id-1 div.sk-parallel-item::before {content: \"\";position: absolute;border-left: 1px solid gray;box-sizing: border-box;top: 0;bottom: 0;left: 50%;z-index: -1;}#sk-container-id-1 div.sk-parallel-item {display: flex;flex-direction: column;z-index: 1;position: relative;background-color: white;}#sk-container-id-1 div.sk-parallel-item:first-child::after {align-self: flex-end;width: 50%;}#sk-container-id-1 div.sk-parallel-item:last-child::after {align-self: flex-start;width: 50%;}#sk-container-id-1 div.sk-parallel-item:only-child::after {width: 0;}#sk-container-id-1 div.sk-dashed-wrapped {border: 1px dashed gray;margin: 0 0.4em 0.5em 0.4em;box-sizing: border-box;padding-bottom: 0.4em;background-color: white;}#sk-container-id-1 div.sk-label label {font-family: monospace;font-weight: bold;display: inline-block;line-height: 1.2em;}#sk-container-id-1 div.sk-label-container {text-align: center;}#sk-container-id-1 div.sk-container {/* jupyter's `normalize.less` sets `[hidden] { display: none; }` but bootstrap.min.css set `[hidden] { display: none !important; }` so we also need the `!important` here to be able to override the default hidden behavior on the sphinx rendered scikit-learn.org. See: https://github.com/scikit-learn/scikit-learn/issues/21755 */display: inline-block !important;position: relative;}#sk-container-id-1 div.sk-text-repr-fallback {display: none;}</style><div id=\"sk-container-id-1\" class=\"sk-top-container\"><div class=\"sk-text-repr-fallback\"><pre>StandardScaler()</pre><b>In a Jupyter environment, please rerun this cell to show the HTML representation or trust the notebook. <br />On GitHub, the HTML representation is unable to render, please try loading this page with nbviewer.org.</b></div><div class=\"sk-container\" hidden><div class=\"sk-item\"><div class=\"sk-estimator sk-toggleable\"><input class=\"sk-toggleable__control sk-hidden--visually\" id=\"sk-estimator-id-1\" type=\"checkbox\" checked><label for=\"sk-estimator-id-1\" class=\"sk-toggleable__label sk-toggleable__label-arrow\">StandardScaler</label><div class=\"sk-toggleable__content\"><pre>StandardScaler()</pre></div></div></div></div></div>"
            ]
          },
          "metadata": {},
          "execution_count": 61
        }
      ]
    },
    {
      "cell_type": "markdown",
      "source": [
        "Se aplica la misma transformación:"
      ],
      "metadata": {
        "id": "Zw_0GOWCbJoY"
      }
    },
    {
      "cell_type": "code",
      "source": [
        "X_train = scaler.transform(x_train_num)\n",
        "X_test = scaler.transform(x_test_num)"
      ],
      "metadata": {
        "id": "mnrhVHyNape-"
      },
      "execution_count": null,
      "outputs": []
    },
    {
      "cell_type": "code",
      "source": [
        "X_train = pd.DataFrame(X_train)"
      ],
      "metadata": {
        "id": "A3Ta1yk_bPtQ"
      },
      "execution_count": null,
      "outputs": []
    },
    {
      "cell_type": "code",
      "source": [
        "X_test = pd.DataFrame(X_test)"
      ],
      "metadata": {
        "id": "-GGFRsi1bfPD"
      },
      "execution_count": null,
      "outputs": []
    },
    {
      "cell_type": "code",
      "source": [
        "x_train.reset_index(drop=True)"
      ],
      "metadata": {
        "colab": {
          "base_uri": "https://localhost:8080/",
          "height": 423
        },
        "id": "oE0wgXPHcfHS",
        "outputId": "77a65f5d-d203-460f-e645-7cb91b733225"
      },
      "execution_count": null,
      "outputs": [
        {
          "output_type": "execute_result",
          "data": {
            "text/plain": [
              "        0    1    2    3    4    5    6    7    8\n",
              "0     1.0  0.0  0.0  0.0  1.0  0.0  1.0  1.0  0.0\n",
              "1     1.0  0.0  0.0  1.0  0.0  0.0  1.0  0.0  1.0\n",
              "2     1.0  0.0  0.0  1.0  0.0  0.0  1.0  0.0  1.0\n",
              "3     0.0  0.0  1.0  0.0  1.0  0.0  1.0  1.0  0.0\n",
              "4     1.0  0.0  0.0  0.0  1.0  1.0  0.0  1.0  0.0\n",
              "...   ...  ...  ...  ...  ...  ...  ...  ...  ...\n",
              "6995  0.0  0.0  1.0  1.0  0.0  0.0  1.0  0.0  1.0\n",
              "6996  1.0  0.0  0.0  0.0  1.0  0.0  1.0  1.0  0.0\n",
              "6997  0.0  0.0  1.0  0.0  1.0  0.0  1.0  0.0  1.0\n",
              "6998  1.0  0.0  0.0  0.0  1.0  0.0  1.0  0.0  1.0\n",
              "6999  1.0  0.0  0.0  0.0  1.0  0.0  1.0  1.0  0.0\n",
              "\n",
              "[7000 rows x 9 columns]"
            ],
            "text/html": [
              "\n",
              "  <div id=\"df-b64cff42-6f58-4f05-99ba-69578efe3e18\">\n",
              "    <div class=\"colab-df-container\">\n",
              "      <div>\n",
              "<style scoped>\n",
              "    .dataframe tbody tr th:only-of-type {\n",
              "        vertical-align: middle;\n",
              "    }\n",
              "\n",
              "    .dataframe tbody tr th {\n",
              "        vertical-align: top;\n",
              "    }\n",
              "\n",
              "    .dataframe thead th {\n",
              "        text-align: right;\n",
              "    }\n",
              "</style>\n",
              "<table border=\"1\" class=\"dataframe\">\n",
              "  <thead>\n",
              "    <tr style=\"text-align: right;\">\n",
              "      <th></th>\n",
              "      <th>0</th>\n",
              "      <th>1</th>\n",
              "      <th>2</th>\n",
              "      <th>3</th>\n",
              "      <th>4</th>\n",
              "      <th>5</th>\n",
              "      <th>6</th>\n",
              "      <th>7</th>\n",
              "      <th>8</th>\n",
              "    </tr>\n",
              "  </thead>\n",
              "  <tbody>\n",
              "    <tr>\n",
              "      <th>0</th>\n",
              "      <td>1.0</td>\n",
              "      <td>0.0</td>\n",
              "      <td>0.0</td>\n",
              "      <td>0.0</td>\n",
              "      <td>1.0</td>\n",
              "      <td>0.0</td>\n",
              "      <td>1.0</td>\n",
              "      <td>1.0</td>\n",
              "      <td>0.0</td>\n",
              "    </tr>\n",
              "    <tr>\n",
              "      <th>1</th>\n",
              "      <td>1.0</td>\n",
              "      <td>0.0</td>\n",
              "      <td>0.0</td>\n",
              "      <td>1.0</td>\n",
              "      <td>0.0</td>\n",
              "      <td>0.0</td>\n",
              "      <td>1.0</td>\n",
              "      <td>0.0</td>\n",
              "      <td>1.0</td>\n",
              "    </tr>\n",
              "    <tr>\n",
              "      <th>2</th>\n",
              "      <td>1.0</td>\n",
              "      <td>0.0</td>\n",
              "      <td>0.0</td>\n",
              "      <td>1.0</td>\n",
              "      <td>0.0</td>\n",
              "      <td>0.0</td>\n",
              "      <td>1.0</td>\n",
              "      <td>0.0</td>\n",
              "      <td>1.0</td>\n",
              "    </tr>\n",
              "    <tr>\n",
              "      <th>3</th>\n",
              "      <td>0.0</td>\n",
              "      <td>0.0</td>\n",
              "      <td>1.0</td>\n",
              "      <td>0.0</td>\n",
              "      <td>1.0</td>\n",
              "      <td>0.0</td>\n",
              "      <td>1.0</td>\n",
              "      <td>1.0</td>\n",
              "      <td>0.0</td>\n",
              "    </tr>\n",
              "    <tr>\n",
              "      <th>4</th>\n",
              "      <td>1.0</td>\n",
              "      <td>0.0</td>\n",
              "      <td>0.0</td>\n",
              "      <td>0.0</td>\n",
              "      <td>1.0</td>\n",
              "      <td>1.0</td>\n",
              "      <td>0.0</td>\n",
              "      <td>1.0</td>\n",
              "      <td>0.0</td>\n",
              "    </tr>\n",
              "    <tr>\n",
              "      <th>...</th>\n",
              "      <td>...</td>\n",
              "      <td>...</td>\n",
              "      <td>...</td>\n",
              "      <td>...</td>\n",
              "      <td>...</td>\n",
              "      <td>...</td>\n",
              "      <td>...</td>\n",
              "      <td>...</td>\n",
              "      <td>...</td>\n",
              "    </tr>\n",
              "    <tr>\n",
              "      <th>6995</th>\n",
              "      <td>0.0</td>\n",
              "      <td>0.0</td>\n",
              "      <td>1.0</td>\n",
              "      <td>1.0</td>\n",
              "      <td>0.0</td>\n",
              "      <td>0.0</td>\n",
              "      <td>1.0</td>\n",
              "      <td>0.0</td>\n",
              "      <td>1.0</td>\n",
              "    </tr>\n",
              "    <tr>\n",
              "      <th>6996</th>\n",
              "      <td>1.0</td>\n",
              "      <td>0.0</td>\n",
              "      <td>0.0</td>\n",
              "      <td>0.0</td>\n",
              "      <td>1.0</td>\n",
              "      <td>0.0</td>\n",
              "      <td>1.0</td>\n",
              "      <td>1.0</td>\n",
              "      <td>0.0</td>\n",
              "    </tr>\n",
              "    <tr>\n",
              "      <th>6997</th>\n",
              "      <td>0.0</td>\n",
              "      <td>0.0</td>\n",
              "      <td>1.0</td>\n",
              "      <td>0.0</td>\n",
              "      <td>1.0</td>\n",
              "      <td>0.0</td>\n",
              "      <td>1.0</td>\n",
              "      <td>0.0</td>\n",
              "      <td>1.0</td>\n",
              "    </tr>\n",
              "    <tr>\n",
              "      <th>6998</th>\n",
              "      <td>1.0</td>\n",
              "      <td>0.0</td>\n",
              "      <td>0.0</td>\n",
              "      <td>0.0</td>\n",
              "      <td>1.0</td>\n",
              "      <td>0.0</td>\n",
              "      <td>1.0</td>\n",
              "      <td>0.0</td>\n",
              "      <td>1.0</td>\n",
              "    </tr>\n",
              "    <tr>\n",
              "      <th>6999</th>\n",
              "      <td>1.0</td>\n",
              "      <td>0.0</td>\n",
              "      <td>0.0</td>\n",
              "      <td>0.0</td>\n",
              "      <td>1.0</td>\n",
              "      <td>0.0</td>\n",
              "      <td>1.0</td>\n",
              "      <td>1.0</td>\n",
              "      <td>0.0</td>\n",
              "    </tr>\n",
              "  </tbody>\n",
              "</table>\n",
              "<p>7000 rows × 9 columns</p>\n",
              "</div>\n",
              "      <button class=\"colab-df-convert\" onclick=\"convertToInteractive('df-b64cff42-6f58-4f05-99ba-69578efe3e18')\"\n",
              "              title=\"Convert this dataframe to an interactive table.\"\n",
              "              style=\"display:none;\">\n",
              "        \n",
              "  <svg xmlns=\"http://www.w3.org/2000/svg\" height=\"24px\"viewBox=\"0 0 24 24\"\n",
              "       width=\"24px\">\n",
              "    <path d=\"M0 0h24v24H0V0z\" fill=\"none\"/>\n",
              "    <path d=\"M18.56 5.44l.94 2.06.94-2.06 2.06-.94-2.06-.94-.94-2.06-.94 2.06-2.06.94zm-11 1L8.5 8.5l.94-2.06 2.06-.94-2.06-.94L8.5 2.5l-.94 2.06-2.06.94zm10 10l.94 2.06.94-2.06 2.06-.94-2.06-.94-.94-2.06-.94 2.06-2.06.94z\"/><path d=\"M17.41 7.96l-1.37-1.37c-.4-.4-.92-.59-1.43-.59-.52 0-1.04.2-1.43.59L10.3 9.45l-7.72 7.72c-.78.78-.78 2.05 0 2.83L4 21.41c.39.39.9.59 1.41.59.51 0 1.02-.2 1.41-.59l7.78-7.78 2.81-2.81c.8-.78.8-2.07 0-2.86zM5.41 20L4 18.59l7.72-7.72 1.47 1.35L5.41 20z\"/>\n",
              "  </svg>\n",
              "      </button>\n",
              "      \n",
              "  <style>\n",
              "    .colab-df-container {\n",
              "      display:flex;\n",
              "      flex-wrap:wrap;\n",
              "      gap: 12px;\n",
              "    }\n",
              "\n",
              "    .colab-df-convert {\n",
              "      background-color: #E8F0FE;\n",
              "      border: none;\n",
              "      border-radius: 50%;\n",
              "      cursor: pointer;\n",
              "      display: none;\n",
              "      fill: #1967D2;\n",
              "      height: 32px;\n",
              "      padding: 0 0 0 0;\n",
              "      width: 32px;\n",
              "    }\n",
              "\n",
              "    .colab-df-convert:hover {\n",
              "      background-color: #E2EBFA;\n",
              "      box-shadow: 0px 1px 2px rgba(60, 64, 67, 0.3), 0px 1px 3px 1px rgba(60, 64, 67, 0.15);\n",
              "      fill: #174EA6;\n",
              "    }\n",
              "\n",
              "    [theme=dark] .colab-df-convert {\n",
              "      background-color: #3B4455;\n",
              "      fill: #D2E3FC;\n",
              "    }\n",
              "\n",
              "    [theme=dark] .colab-df-convert:hover {\n",
              "      background-color: #434B5C;\n",
              "      box-shadow: 0px 1px 3px 1px rgba(0, 0, 0, 0.15);\n",
              "      filter: drop-shadow(0px 1px 2px rgba(0, 0, 0, 0.3));\n",
              "      fill: #FFFFFF;\n",
              "    }\n",
              "  </style>\n",
              "\n",
              "      <script>\n",
              "        const buttonEl =\n",
              "          document.querySelector('#df-b64cff42-6f58-4f05-99ba-69578efe3e18 button.colab-df-convert');\n",
              "        buttonEl.style.display =\n",
              "          google.colab.kernel.accessAllowed ? 'block' : 'none';\n",
              "\n",
              "        async function convertToInteractive(key) {\n",
              "          const element = document.querySelector('#df-b64cff42-6f58-4f05-99ba-69578efe3e18');\n",
              "          const dataTable =\n",
              "            await google.colab.kernel.invokeFunction('convertToInteractive',\n",
              "                                                     [key], {});\n",
              "          if (!dataTable) return;\n",
              "\n",
              "          const docLinkHtml = 'Like what you see? Visit the ' +\n",
              "            '<a target=\"_blank\" href=https://colab.research.google.com/notebooks/data_table.ipynb>data table notebook</a>'\n",
              "            + ' to learn more about interactive tables.';\n",
              "          element.innerHTML = '';\n",
              "          dataTable['output_type'] = 'display_data';\n",
              "          await google.colab.output.renderOutput(dataTable, element);\n",
              "          const docLink = document.createElement('div');\n",
              "          docLink.innerHTML = docLinkHtml;\n",
              "          element.appendChild(docLink);\n",
              "        }\n",
              "      </script>\n",
              "    </div>\n",
              "  </div>\n",
              "  "
            ]
          },
          "metadata": {},
          "execution_count": 65
        }
      ]
    },
    {
      "cell_type": "code",
      "source": [
        "x_train = pd.concat([x_train.reset_index(drop=True), X_train], axis=1)"
      ],
      "metadata": {
        "id": "fjDxZghMbk5m"
      },
      "execution_count": null,
      "outputs": []
    },
    {
      "cell_type": "code",
      "source": [
        "x_train"
      ],
      "metadata": {
        "colab": {
          "base_uri": "https://localhost:8080/",
          "height": 423
        },
        "id": "TR2tHAmLb3OJ",
        "outputId": "51d096da-d3e3-4fc6-a1fa-c9a5366a39e7"
      },
      "execution_count": null,
      "outputs": [
        {
          "output_type": "execute_result",
          "data": {
            "text/plain": [
              "        0    1    2    3    4    5    6    7    8         0         1  \\\n",
              "0     1.0  0.0  0.0  0.0  1.0  0.0  1.0  1.0  0.0 -1.040461 -0.899280   \n",
              "1     1.0  0.0  0.0  1.0  0.0  0.0  1.0  0.0  1.0  0.693558 -0.899280   \n",
              "2     1.0  0.0  0.0  1.0  0.0  0.0  1.0  0.0  1.0 -1.040461  0.819246   \n",
              "3     0.0  0.0  1.0  0.0  1.0  0.0  1.0  1.0  0.0  1.040362 -0.899280   \n",
              "4     1.0  0.0  0.0  0.0  1.0  1.0  0.0  1.0  0.0  1.040362 -0.899280   \n",
              "...   ...  ...  ...  ...  ...  ...  ...  ...  ...       ...       ...   \n",
              "6995  0.0  0.0  1.0  1.0  0.0  0.0  1.0  0.0  1.0  1.040362 -0.899280   \n",
              "6996  1.0  0.0  0.0  0.0  1.0  0.0  1.0  1.0  0.0 -1.040461 -0.899280   \n",
              "6997  0.0  0.0  1.0  0.0  1.0  0.0  1.0  0.0  1.0  0.346754 -0.899280   \n",
              "6998  1.0  0.0  0.0  0.0  1.0  0.0  1.0  0.0  1.0 -1.387265 -0.899280   \n",
              "6999  1.0  0.0  0.0  0.0  1.0  0.0  1.0  1.0  0.0 -1.387265 -0.899280   \n",
              "\n",
              "             2         3         4         5  \n",
              "0    -0.326151  0.029461  0.222740 -1.277090  \n",
              "1    -1.379078 -0.589529  0.805148  0.346995  \n",
              "2     0.788713  0.545286 -1.240936 -1.274394  \n",
              "3     1.841641 -1.105354  0.925069 -0.359951  \n",
              "4     1.521633  0.648451 -1.240936  0.435146  \n",
              "...        ...       ...       ...       ...  \n",
              "6995  0.582257  0.338956  0.292144 -0.422920  \n",
              "6996  1.036461 -0.589529  1.206909 -0.499361  \n",
              "6997 -0.997134  0.235791  1.089129 -1.402796  \n",
              "6998  0.200313 -0.176869  0.776605  1.080739  \n",
              "6999 -1.864251 -0.589529  0.813394  1.101875  \n",
              "\n",
              "[7000 rows x 15 columns]"
            ],
            "text/html": [
              "\n",
              "  <div id=\"df-c7657fde-73c2-4204-a4fa-5e833997ae9c\">\n",
              "    <div class=\"colab-df-container\">\n",
              "      <div>\n",
              "<style scoped>\n",
              "    .dataframe tbody tr th:only-of-type {\n",
              "        vertical-align: middle;\n",
              "    }\n",
              "\n",
              "    .dataframe tbody tr th {\n",
              "        vertical-align: top;\n",
              "    }\n",
              "\n",
              "    .dataframe thead th {\n",
              "        text-align: right;\n",
              "    }\n",
              "</style>\n",
              "<table border=\"1\" class=\"dataframe\">\n",
              "  <thead>\n",
              "    <tr style=\"text-align: right;\">\n",
              "      <th></th>\n",
              "      <th>0</th>\n",
              "      <th>1</th>\n",
              "      <th>2</th>\n",
              "      <th>3</th>\n",
              "      <th>4</th>\n",
              "      <th>5</th>\n",
              "      <th>6</th>\n",
              "      <th>7</th>\n",
              "      <th>8</th>\n",
              "      <th>0</th>\n",
              "      <th>1</th>\n",
              "      <th>2</th>\n",
              "      <th>3</th>\n",
              "      <th>4</th>\n",
              "      <th>5</th>\n",
              "    </tr>\n",
              "  </thead>\n",
              "  <tbody>\n",
              "    <tr>\n",
              "      <th>0</th>\n",
              "      <td>1.0</td>\n",
              "      <td>0.0</td>\n",
              "      <td>0.0</td>\n",
              "      <td>0.0</td>\n",
              "      <td>1.0</td>\n",
              "      <td>0.0</td>\n",
              "      <td>1.0</td>\n",
              "      <td>1.0</td>\n",
              "      <td>0.0</td>\n",
              "      <td>-1.040461</td>\n",
              "      <td>-0.899280</td>\n",
              "      <td>-0.326151</td>\n",
              "      <td>0.029461</td>\n",
              "      <td>0.222740</td>\n",
              "      <td>-1.277090</td>\n",
              "    </tr>\n",
              "    <tr>\n",
              "      <th>1</th>\n",
              "      <td>1.0</td>\n",
              "      <td>0.0</td>\n",
              "      <td>0.0</td>\n",
              "      <td>1.0</td>\n",
              "      <td>0.0</td>\n",
              "      <td>0.0</td>\n",
              "      <td>1.0</td>\n",
              "      <td>0.0</td>\n",
              "      <td>1.0</td>\n",
              "      <td>0.693558</td>\n",
              "      <td>-0.899280</td>\n",
              "      <td>-1.379078</td>\n",
              "      <td>-0.589529</td>\n",
              "      <td>0.805148</td>\n",
              "      <td>0.346995</td>\n",
              "    </tr>\n",
              "    <tr>\n",
              "      <th>2</th>\n",
              "      <td>1.0</td>\n",
              "      <td>0.0</td>\n",
              "      <td>0.0</td>\n",
              "      <td>1.0</td>\n",
              "      <td>0.0</td>\n",
              "      <td>0.0</td>\n",
              "      <td>1.0</td>\n",
              "      <td>0.0</td>\n",
              "      <td>1.0</td>\n",
              "      <td>-1.040461</td>\n",
              "      <td>0.819246</td>\n",
              "      <td>0.788713</td>\n",
              "      <td>0.545286</td>\n",
              "      <td>-1.240936</td>\n",
              "      <td>-1.274394</td>\n",
              "    </tr>\n",
              "    <tr>\n",
              "      <th>3</th>\n",
              "      <td>0.0</td>\n",
              "      <td>0.0</td>\n",
              "      <td>1.0</td>\n",
              "      <td>0.0</td>\n",
              "      <td>1.0</td>\n",
              "      <td>0.0</td>\n",
              "      <td>1.0</td>\n",
              "      <td>1.0</td>\n",
              "      <td>0.0</td>\n",
              "      <td>1.040362</td>\n",
              "      <td>-0.899280</td>\n",
              "      <td>1.841641</td>\n",
              "      <td>-1.105354</td>\n",
              "      <td>0.925069</td>\n",
              "      <td>-0.359951</td>\n",
              "    </tr>\n",
              "    <tr>\n",
              "      <th>4</th>\n",
              "      <td>1.0</td>\n",
              "      <td>0.0</td>\n",
              "      <td>0.0</td>\n",
              "      <td>0.0</td>\n",
              "      <td>1.0</td>\n",
              "      <td>1.0</td>\n",
              "      <td>0.0</td>\n",
              "      <td>1.0</td>\n",
              "      <td>0.0</td>\n",
              "      <td>1.040362</td>\n",
              "      <td>-0.899280</td>\n",
              "      <td>1.521633</td>\n",
              "      <td>0.648451</td>\n",
              "      <td>-1.240936</td>\n",
              "      <td>0.435146</td>\n",
              "    </tr>\n",
              "    <tr>\n",
              "      <th>...</th>\n",
              "      <td>...</td>\n",
              "      <td>...</td>\n",
              "      <td>...</td>\n",
              "      <td>...</td>\n",
              "      <td>...</td>\n",
              "      <td>...</td>\n",
              "      <td>...</td>\n",
              "      <td>...</td>\n",
              "      <td>...</td>\n",
              "      <td>...</td>\n",
              "      <td>...</td>\n",
              "      <td>...</td>\n",
              "      <td>...</td>\n",
              "      <td>...</td>\n",
              "      <td>...</td>\n",
              "    </tr>\n",
              "    <tr>\n",
              "      <th>6995</th>\n",
              "      <td>0.0</td>\n",
              "      <td>0.0</td>\n",
              "      <td>1.0</td>\n",
              "      <td>1.0</td>\n",
              "      <td>0.0</td>\n",
              "      <td>0.0</td>\n",
              "      <td>1.0</td>\n",
              "      <td>0.0</td>\n",
              "      <td>1.0</td>\n",
              "      <td>1.040362</td>\n",
              "      <td>-0.899280</td>\n",
              "      <td>0.582257</td>\n",
              "      <td>0.338956</td>\n",
              "      <td>0.292144</td>\n",
              "      <td>-0.422920</td>\n",
              "    </tr>\n",
              "    <tr>\n",
              "      <th>6996</th>\n",
              "      <td>1.0</td>\n",
              "      <td>0.0</td>\n",
              "      <td>0.0</td>\n",
              "      <td>0.0</td>\n",
              "      <td>1.0</td>\n",
              "      <td>0.0</td>\n",
              "      <td>1.0</td>\n",
              "      <td>1.0</td>\n",
              "      <td>0.0</td>\n",
              "      <td>-1.040461</td>\n",
              "      <td>-0.899280</td>\n",
              "      <td>1.036461</td>\n",
              "      <td>-0.589529</td>\n",
              "      <td>1.206909</td>\n",
              "      <td>-0.499361</td>\n",
              "    </tr>\n",
              "    <tr>\n",
              "      <th>6997</th>\n",
              "      <td>0.0</td>\n",
              "      <td>0.0</td>\n",
              "      <td>1.0</td>\n",
              "      <td>0.0</td>\n",
              "      <td>1.0</td>\n",
              "      <td>0.0</td>\n",
              "      <td>1.0</td>\n",
              "      <td>0.0</td>\n",
              "      <td>1.0</td>\n",
              "      <td>0.346754</td>\n",
              "      <td>-0.899280</td>\n",
              "      <td>-0.997134</td>\n",
              "      <td>0.235791</td>\n",
              "      <td>1.089129</td>\n",
              "      <td>-1.402796</td>\n",
              "    </tr>\n",
              "    <tr>\n",
              "      <th>6998</th>\n",
              "      <td>1.0</td>\n",
              "      <td>0.0</td>\n",
              "      <td>0.0</td>\n",
              "      <td>0.0</td>\n",
              "      <td>1.0</td>\n",
              "      <td>0.0</td>\n",
              "      <td>1.0</td>\n",
              "      <td>0.0</td>\n",
              "      <td>1.0</td>\n",
              "      <td>-1.387265</td>\n",
              "      <td>-0.899280</td>\n",
              "      <td>0.200313</td>\n",
              "      <td>-0.176869</td>\n",
              "      <td>0.776605</td>\n",
              "      <td>1.080739</td>\n",
              "    </tr>\n",
              "    <tr>\n",
              "      <th>6999</th>\n",
              "      <td>1.0</td>\n",
              "      <td>0.0</td>\n",
              "      <td>0.0</td>\n",
              "      <td>0.0</td>\n",
              "      <td>1.0</td>\n",
              "      <td>0.0</td>\n",
              "      <td>1.0</td>\n",
              "      <td>1.0</td>\n",
              "      <td>0.0</td>\n",
              "      <td>-1.387265</td>\n",
              "      <td>-0.899280</td>\n",
              "      <td>-1.864251</td>\n",
              "      <td>-0.589529</td>\n",
              "      <td>0.813394</td>\n",
              "      <td>1.101875</td>\n",
              "    </tr>\n",
              "  </tbody>\n",
              "</table>\n",
              "<p>7000 rows × 15 columns</p>\n",
              "</div>\n",
              "      <button class=\"colab-df-convert\" onclick=\"convertToInteractive('df-c7657fde-73c2-4204-a4fa-5e833997ae9c')\"\n",
              "              title=\"Convert this dataframe to an interactive table.\"\n",
              "              style=\"display:none;\">\n",
              "        \n",
              "  <svg xmlns=\"http://www.w3.org/2000/svg\" height=\"24px\"viewBox=\"0 0 24 24\"\n",
              "       width=\"24px\">\n",
              "    <path d=\"M0 0h24v24H0V0z\" fill=\"none\"/>\n",
              "    <path d=\"M18.56 5.44l.94 2.06.94-2.06 2.06-.94-2.06-.94-.94-2.06-.94 2.06-2.06.94zm-11 1L8.5 8.5l.94-2.06 2.06-.94-2.06-.94L8.5 2.5l-.94 2.06-2.06.94zm10 10l.94 2.06.94-2.06 2.06-.94-2.06-.94-.94-2.06-.94 2.06-2.06.94z\"/><path d=\"M17.41 7.96l-1.37-1.37c-.4-.4-.92-.59-1.43-.59-.52 0-1.04.2-1.43.59L10.3 9.45l-7.72 7.72c-.78.78-.78 2.05 0 2.83L4 21.41c.39.39.9.59 1.41.59.51 0 1.02-.2 1.41-.59l7.78-7.78 2.81-2.81c.8-.78.8-2.07 0-2.86zM5.41 20L4 18.59l7.72-7.72 1.47 1.35L5.41 20z\"/>\n",
              "  </svg>\n",
              "      </button>\n",
              "      \n",
              "  <style>\n",
              "    .colab-df-container {\n",
              "      display:flex;\n",
              "      flex-wrap:wrap;\n",
              "      gap: 12px;\n",
              "    }\n",
              "\n",
              "    .colab-df-convert {\n",
              "      background-color: #E8F0FE;\n",
              "      border: none;\n",
              "      border-radius: 50%;\n",
              "      cursor: pointer;\n",
              "      display: none;\n",
              "      fill: #1967D2;\n",
              "      height: 32px;\n",
              "      padding: 0 0 0 0;\n",
              "      width: 32px;\n",
              "    }\n",
              "\n",
              "    .colab-df-convert:hover {\n",
              "      background-color: #E2EBFA;\n",
              "      box-shadow: 0px 1px 2px rgba(60, 64, 67, 0.3), 0px 1px 3px 1px rgba(60, 64, 67, 0.15);\n",
              "      fill: #174EA6;\n",
              "    }\n",
              "\n",
              "    [theme=dark] .colab-df-convert {\n",
              "      background-color: #3B4455;\n",
              "      fill: #D2E3FC;\n",
              "    }\n",
              "\n",
              "    [theme=dark] .colab-df-convert:hover {\n",
              "      background-color: #434B5C;\n",
              "      box-shadow: 0px 1px 3px 1px rgba(0, 0, 0, 0.15);\n",
              "      filter: drop-shadow(0px 1px 2px rgba(0, 0, 0, 0.3));\n",
              "      fill: #FFFFFF;\n",
              "    }\n",
              "  </style>\n",
              "\n",
              "      <script>\n",
              "        const buttonEl =\n",
              "          document.querySelector('#df-c7657fde-73c2-4204-a4fa-5e833997ae9c button.colab-df-convert');\n",
              "        buttonEl.style.display =\n",
              "          google.colab.kernel.accessAllowed ? 'block' : 'none';\n",
              "\n",
              "        async function convertToInteractive(key) {\n",
              "          const element = document.querySelector('#df-c7657fde-73c2-4204-a4fa-5e833997ae9c');\n",
              "          const dataTable =\n",
              "            await google.colab.kernel.invokeFunction('convertToInteractive',\n",
              "                                                     [key], {});\n",
              "          if (!dataTable) return;\n",
              "\n",
              "          const docLinkHtml = 'Like what you see? Visit the ' +\n",
              "            '<a target=\"_blank\" href=https://colab.research.google.com/notebooks/data_table.ipynb>data table notebook</a>'\n",
              "            + ' to learn more about interactive tables.';\n",
              "          element.innerHTML = '';\n",
              "          dataTable['output_type'] = 'display_data';\n",
              "          await google.colab.output.renderOutput(dataTable, element);\n",
              "          const docLink = document.createElement('div');\n",
              "          docLink.innerHTML = docLinkHtml;\n",
              "          element.appendChild(docLink);\n",
              "        }\n",
              "      </script>\n",
              "    </div>\n",
              "  </div>\n",
              "  "
            ]
          },
          "metadata": {},
          "execution_count": 67
        }
      ]
    },
    {
      "cell_type": "code",
      "source": [
        "x_test = pd.concat([x_test.reset_index(drop=True), X_test], axis=1)"
      ],
      "metadata": {
        "id": "H7YrxfoDcCs_"
      },
      "execution_count": null,
      "outputs": []
    },
    {
      "cell_type": "code",
      "source": [
        "x_test"
      ],
      "metadata": {
        "colab": {
          "base_uri": "https://localhost:8080/",
          "height": 423
        },
        "id": "-S7Wu6B8cGdi",
        "outputId": "df777716-93e6-4c73-f291-3fbffa5d622e"
      },
      "execution_count": null,
      "outputs": [
        {
          "output_type": "execute_result",
          "data": {
            "text/plain": [
              "        0    1    2    3    4    5    6    7    8         0         1  \\\n",
              "0     0.0  0.0  1.0  0.0  1.0  0.0  1.0  1.0  0.0  1.387165  0.819246   \n",
              "1     0.0  0.0  1.0  1.0  0.0  0.0  1.0  1.0  0.0  1.733969 -0.899280   \n",
              "2     1.0  0.0  0.0  0.0  1.0  0.0  1.0  0.0  1.0  1.040362  2.537772   \n",
              "3     0.0  0.0  1.0  0.0  1.0  0.0  1.0  1.0  0.0  0.693558  0.819246   \n",
              "4     1.0  0.0  0.0  0.0  1.0  0.0  1.0  1.0  0.0  0.346754 -0.899280   \n",
              "...   ...  ...  ...  ...  ...  ...  ...  ...  ...       ...       ...   \n",
              "2995  1.0  0.0  0.0  0.0  1.0  0.0  1.0  0.0  1.0 -0.693657  0.819246   \n",
              "2996  1.0  0.0  0.0  0.0  1.0  1.0  0.0  0.0  1.0  1.733969 -0.899280   \n",
              "2997  0.0  1.0  0.0  0.0  1.0  0.0  1.0  0.0  1.0  1.733969  0.819246   \n",
              "2998  1.0  0.0  0.0  1.0  0.0  0.0  1.0  1.0  0.0  1.040362 -0.899280   \n",
              "2999  0.0  1.0  0.0  0.0  1.0  1.0  0.0  1.0  0.0  1.387165 -0.899280   \n",
              "\n",
              "             2         3         4         5  \n",
              "0    -0.284860  0.338956 -1.240936  0.331176  \n",
              "1    -1.265527  0.751616  0.871193 -0.784109  \n",
              "2     0.706131  1.370606  0.036410 -1.175559  \n",
              "3    -0.997134  0.338956 -1.240936 -1.605500  \n",
              "4    -0.119695  1.886431 -1.240936 -1.153748  \n",
              "...        ...       ...       ...       ...  \n",
              "2995  0.509997 -0.692694 -1.240936  1.228613  \n",
              "2996  0.334509 -1.105354  1.985163 -0.298838  \n",
              "2997  0.189990 -0.176869  1.217446  1.034248  \n",
              "2998 -0.315828 -0.383199  0.885303 -0.597553  \n",
              "2999 -0.284860  0.338956  0.619687 -0.485070  \n",
              "\n",
              "[3000 rows x 15 columns]"
            ],
            "text/html": [
              "\n",
              "  <div id=\"df-ec28600c-e988-4cbb-a7c9-4f1c4649984b\">\n",
              "    <div class=\"colab-df-container\">\n",
              "      <div>\n",
              "<style scoped>\n",
              "    .dataframe tbody tr th:only-of-type {\n",
              "        vertical-align: middle;\n",
              "    }\n",
              "\n",
              "    .dataframe tbody tr th {\n",
              "        vertical-align: top;\n",
              "    }\n",
              "\n",
              "    .dataframe thead th {\n",
              "        text-align: right;\n",
              "    }\n",
              "</style>\n",
              "<table border=\"1\" class=\"dataframe\">\n",
              "  <thead>\n",
              "    <tr style=\"text-align: right;\">\n",
              "      <th></th>\n",
              "      <th>0</th>\n",
              "      <th>1</th>\n",
              "      <th>2</th>\n",
              "      <th>3</th>\n",
              "      <th>4</th>\n",
              "      <th>5</th>\n",
              "      <th>6</th>\n",
              "      <th>7</th>\n",
              "      <th>8</th>\n",
              "      <th>0</th>\n",
              "      <th>1</th>\n",
              "      <th>2</th>\n",
              "      <th>3</th>\n",
              "      <th>4</th>\n",
              "      <th>5</th>\n",
              "    </tr>\n",
              "  </thead>\n",
              "  <tbody>\n",
              "    <tr>\n",
              "      <th>0</th>\n",
              "      <td>0.0</td>\n",
              "      <td>0.0</td>\n",
              "      <td>1.0</td>\n",
              "      <td>0.0</td>\n",
              "      <td>1.0</td>\n",
              "      <td>0.0</td>\n",
              "      <td>1.0</td>\n",
              "      <td>1.0</td>\n",
              "      <td>0.0</td>\n",
              "      <td>1.387165</td>\n",
              "      <td>0.819246</td>\n",
              "      <td>-0.284860</td>\n",
              "      <td>0.338956</td>\n",
              "      <td>-1.240936</td>\n",
              "      <td>0.331176</td>\n",
              "    </tr>\n",
              "    <tr>\n",
              "      <th>1</th>\n",
              "      <td>0.0</td>\n",
              "      <td>0.0</td>\n",
              "      <td>1.0</td>\n",
              "      <td>1.0</td>\n",
              "      <td>0.0</td>\n",
              "      <td>0.0</td>\n",
              "      <td>1.0</td>\n",
              "      <td>1.0</td>\n",
              "      <td>0.0</td>\n",
              "      <td>1.733969</td>\n",
              "      <td>-0.899280</td>\n",
              "      <td>-1.265527</td>\n",
              "      <td>0.751616</td>\n",
              "      <td>0.871193</td>\n",
              "      <td>-0.784109</td>\n",
              "    </tr>\n",
              "    <tr>\n",
              "      <th>2</th>\n",
              "      <td>1.0</td>\n",
              "      <td>0.0</td>\n",
              "      <td>0.0</td>\n",
              "      <td>0.0</td>\n",
              "      <td>1.0</td>\n",
              "      <td>0.0</td>\n",
              "      <td>1.0</td>\n",
              "      <td>0.0</td>\n",
              "      <td>1.0</td>\n",
              "      <td>1.040362</td>\n",
              "      <td>2.537772</td>\n",
              "      <td>0.706131</td>\n",
              "      <td>1.370606</td>\n",
              "      <td>0.036410</td>\n",
              "      <td>-1.175559</td>\n",
              "    </tr>\n",
              "    <tr>\n",
              "      <th>3</th>\n",
              "      <td>0.0</td>\n",
              "      <td>0.0</td>\n",
              "      <td>1.0</td>\n",
              "      <td>0.0</td>\n",
              "      <td>1.0</td>\n",
              "      <td>0.0</td>\n",
              "      <td>1.0</td>\n",
              "      <td>1.0</td>\n",
              "      <td>0.0</td>\n",
              "      <td>0.693558</td>\n",
              "      <td>0.819246</td>\n",
              "      <td>-0.997134</td>\n",
              "      <td>0.338956</td>\n",
              "      <td>-1.240936</td>\n",
              "      <td>-1.605500</td>\n",
              "    </tr>\n",
              "    <tr>\n",
              "      <th>4</th>\n",
              "      <td>1.0</td>\n",
              "      <td>0.0</td>\n",
              "      <td>0.0</td>\n",
              "      <td>0.0</td>\n",
              "      <td>1.0</td>\n",
              "      <td>0.0</td>\n",
              "      <td>1.0</td>\n",
              "      <td>1.0</td>\n",
              "      <td>0.0</td>\n",
              "      <td>0.346754</td>\n",
              "      <td>-0.899280</td>\n",
              "      <td>-0.119695</td>\n",
              "      <td>1.886431</td>\n",
              "      <td>-1.240936</td>\n",
              "      <td>-1.153748</td>\n",
              "    </tr>\n",
              "    <tr>\n",
              "      <th>...</th>\n",
              "      <td>...</td>\n",
              "      <td>...</td>\n",
              "      <td>...</td>\n",
              "      <td>...</td>\n",
              "      <td>...</td>\n",
              "      <td>...</td>\n",
              "      <td>...</td>\n",
              "      <td>...</td>\n",
              "      <td>...</td>\n",
              "      <td>...</td>\n",
              "      <td>...</td>\n",
              "      <td>...</td>\n",
              "      <td>...</td>\n",
              "      <td>...</td>\n",
              "      <td>...</td>\n",
              "    </tr>\n",
              "    <tr>\n",
              "      <th>2995</th>\n",
              "      <td>1.0</td>\n",
              "      <td>0.0</td>\n",
              "      <td>0.0</td>\n",
              "      <td>0.0</td>\n",
              "      <td>1.0</td>\n",
              "      <td>0.0</td>\n",
              "      <td>1.0</td>\n",
              "      <td>0.0</td>\n",
              "      <td>1.0</td>\n",
              "      <td>-0.693657</td>\n",
              "      <td>0.819246</td>\n",
              "      <td>0.509997</td>\n",
              "      <td>-0.692694</td>\n",
              "      <td>-1.240936</td>\n",
              "      <td>1.228613</td>\n",
              "    </tr>\n",
              "    <tr>\n",
              "      <th>2996</th>\n",
              "      <td>1.0</td>\n",
              "      <td>0.0</td>\n",
              "      <td>0.0</td>\n",
              "      <td>0.0</td>\n",
              "      <td>1.0</td>\n",
              "      <td>1.0</td>\n",
              "      <td>0.0</td>\n",
              "      <td>0.0</td>\n",
              "      <td>1.0</td>\n",
              "      <td>1.733969</td>\n",
              "      <td>-0.899280</td>\n",
              "      <td>0.334509</td>\n",
              "      <td>-1.105354</td>\n",
              "      <td>1.985163</td>\n",
              "      <td>-0.298838</td>\n",
              "    </tr>\n",
              "    <tr>\n",
              "      <th>2997</th>\n",
              "      <td>0.0</td>\n",
              "      <td>1.0</td>\n",
              "      <td>0.0</td>\n",
              "      <td>0.0</td>\n",
              "      <td>1.0</td>\n",
              "      <td>0.0</td>\n",
              "      <td>1.0</td>\n",
              "      <td>0.0</td>\n",
              "      <td>1.0</td>\n",
              "      <td>1.733969</td>\n",
              "      <td>0.819246</td>\n",
              "      <td>0.189990</td>\n",
              "      <td>-0.176869</td>\n",
              "      <td>1.217446</td>\n",
              "      <td>1.034248</td>\n",
              "    </tr>\n",
              "    <tr>\n",
              "      <th>2998</th>\n",
              "      <td>1.0</td>\n",
              "      <td>0.0</td>\n",
              "      <td>0.0</td>\n",
              "      <td>1.0</td>\n",
              "      <td>0.0</td>\n",
              "      <td>0.0</td>\n",
              "      <td>1.0</td>\n",
              "      <td>1.0</td>\n",
              "      <td>0.0</td>\n",
              "      <td>1.040362</td>\n",
              "      <td>-0.899280</td>\n",
              "      <td>-0.315828</td>\n",
              "      <td>-0.383199</td>\n",
              "      <td>0.885303</td>\n",
              "      <td>-0.597553</td>\n",
              "    </tr>\n",
              "    <tr>\n",
              "      <th>2999</th>\n",
              "      <td>0.0</td>\n",
              "      <td>1.0</td>\n",
              "      <td>0.0</td>\n",
              "      <td>0.0</td>\n",
              "      <td>1.0</td>\n",
              "      <td>1.0</td>\n",
              "      <td>0.0</td>\n",
              "      <td>1.0</td>\n",
              "      <td>0.0</td>\n",
              "      <td>1.387165</td>\n",
              "      <td>-0.899280</td>\n",
              "      <td>-0.284860</td>\n",
              "      <td>0.338956</td>\n",
              "      <td>0.619687</td>\n",
              "      <td>-0.485070</td>\n",
              "    </tr>\n",
              "  </tbody>\n",
              "</table>\n",
              "<p>3000 rows × 15 columns</p>\n",
              "</div>\n",
              "      <button class=\"colab-df-convert\" onclick=\"convertToInteractive('df-ec28600c-e988-4cbb-a7c9-4f1c4649984b')\"\n",
              "              title=\"Convert this dataframe to an interactive table.\"\n",
              "              style=\"display:none;\">\n",
              "        \n",
              "  <svg xmlns=\"http://www.w3.org/2000/svg\" height=\"24px\"viewBox=\"0 0 24 24\"\n",
              "       width=\"24px\">\n",
              "    <path d=\"M0 0h24v24H0V0z\" fill=\"none\"/>\n",
              "    <path d=\"M18.56 5.44l.94 2.06.94-2.06 2.06-.94-2.06-.94-.94-2.06-.94 2.06-2.06.94zm-11 1L8.5 8.5l.94-2.06 2.06-.94-2.06-.94L8.5 2.5l-.94 2.06-2.06.94zm10 10l.94 2.06.94-2.06 2.06-.94-2.06-.94-.94-2.06-.94 2.06-2.06.94z\"/><path d=\"M17.41 7.96l-1.37-1.37c-.4-.4-.92-.59-1.43-.59-.52 0-1.04.2-1.43.59L10.3 9.45l-7.72 7.72c-.78.78-.78 2.05 0 2.83L4 21.41c.39.39.9.59 1.41.59.51 0 1.02-.2 1.41-.59l7.78-7.78 2.81-2.81c.8-.78.8-2.07 0-2.86zM5.41 20L4 18.59l7.72-7.72 1.47 1.35L5.41 20z\"/>\n",
              "  </svg>\n",
              "      </button>\n",
              "      \n",
              "  <style>\n",
              "    .colab-df-container {\n",
              "      display:flex;\n",
              "      flex-wrap:wrap;\n",
              "      gap: 12px;\n",
              "    }\n",
              "\n",
              "    .colab-df-convert {\n",
              "      background-color: #E8F0FE;\n",
              "      border: none;\n",
              "      border-radius: 50%;\n",
              "      cursor: pointer;\n",
              "      display: none;\n",
              "      fill: #1967D2;\n",
              "      height: 32px;\n",
              "      padding: 0 0 0 0;\n",
              "      width: 32px;\n",
              "    }\n",
              "\n",
              "    .colab-df-convert:hover {\n",
              "      background-color: #E2EBFA;\n",
              "      box-shadow: 0px 1px 2px rgba(60, 64, 67, 0.3), 0px 1px 3px 1px rgba(60, 64, 67, 0.15);\n",
              "      fill: #174EA6;\n",
              "    }\n",
              "\n",
              "    [theme=dark] .colab-df-convert {\n",
              "      background-color: #3B4455;\n",
              "      fill: #D2E3FC;\n",
              "    }\n",
              "\n",
              "    [theme=dark] .colab-df-convert:hover {\n",
              "      background-color: #434B5C;\n",
              "      box-shadow: 0px 1px 3px 1px rgba(0, 0, 0, 0.15);\n",
              "      filter: drop-shadow(0px 1px 2px rgba(0, 0, 0, 0.3));\n",
              "      fill: #FFFFFF;\n",
              "    }\n",
              "  </style>\n",
              "\n",
              "      <script>\n",
              "        const buttonEl =\n",
              "          document.querySelector('#df-ec28600c-e988-4cbb-a7c9-4f1c4649984b button.colab-df-convert');\n",
              "        buttonEl.style.display =\n",
              "          google.colab.kernel.accessAllowed ? 'block' : 'none';\n",
              "\n",
              "        async function convertToInteractive(key) {\n",
              "          const element = document.querySelector('#df-ec28600c-e988-4cbb-a7c9-4f1c4649984b');\n",
              "          const dataTable =\n",
              "            await google.colab.kernel.invokeFunction('convertToInteractive',\n",
              "                                                     [key], {});\n",
              "          if (!dataTable) return;\n",
              "\n",
              "          const docLinkHtml = 'Like what you see? Visit the ' +\n",
              "            '<a target=\"_blank\" href=https://colab.research.google.com/notebooks/data_table.ipynb>data table notebook</a>'\n",
              "            + ' to learn more about interactive tables.';\n",
              "          element.innerHTML = '';\n",
              "          dataTable['output_type'] = 'display_data';\n",
              "          await google.colab.output.renderOutput(dataTable, element);\n",
              "          const docLink = document.createElement('div');\n",
              "          docLink.innerHTML = docLinkHtml;\n",
              "          element.appendChild(docLink);\n",
              "        }\n",
              "      </script>\n",
              "    </div>\n",
              "  </div>\n",
              "  "
            ]
          },
          "metadata": {},
          "execution_count": 69
        }
      ]
    },
    {
      "cell_type": "markdown",
      "source": [
        "Dado que es un probelama imbalanceado se procede a usar herramientas para esta clase de situaciones, en este caso de combinan undersampling con Oversampling:"
      ],
      "metadata": {
        "id": "2AmyTKINeJD0"
      }
    },
    {
      "cell_type": "code",
      "source": [
        "under = RandomUnderSampler(random_state=42)\n",
        "over = SMOTE(random_state=42)\n",
        "\n",
        "x_train, y_train= over.fit_resample(x_train, y_train)\n",
        "x_train, y_train= under.fit_resample(x_train, y_train)"
      ],
      "metadata": {
        "id": "EW9uhYY4eH9u"
      },
      "execution_count": null,
      "outputs": []
    },
    {
      "cell_type": "code",
      "source": [
        "print(\"Distribución total de la clases despues de aplicar oversampling y undersampling(entrenamiento): \",Counter(y_train))"
      ],
      "metadata": {
        "colab": {
          "base_uri": "https://localhost:8080/"
        },
        "id": "OGGjVwJOfNnQ",
        "outputId": "bbb10d4e-af17-4b24-a934-95da152343ea"
      },
      "execution_count": null,
      "outputs": [
        {
          "output_type": "stream",
          "name": "stdout",
          "text": [
            "Distribución total de la clases despues de aplicar oversampling y undersampling(entrenamiento):  Counter({False: 5596, True: 5596})\n"
          ]
        }
      ]
    },
    {
      "cell_type": "markdown",
      "source": [
        "Con los datos procesados se procede a usar diferentes herramientas de Machine learning."
      ],
      "metadata": {
        "id": "_aJZBGf-ZHBV"
      }
    },
    {
      "cell_type": "markdown",
      "source": [
        "Dado es un problema de clasificación, se procede a usar algoritmos usados en la academia e industria para este tipo de casos, dado que es un modelado rápido, solo intentaré tres algoritmos, me quedaré con el que mejor se desempeñe:\n",
        "\n",
        "\n",
        "\n",
        "*   Regresión logística\n",
        "\n",
        "*   Árboles de Decisión\n",
        "\n",
        "*   Gradient Boost\n",
        "\n"
      ],
      "metadata": {
        "id": "PwCX7fTWfZ7W"
      }
    },
    {
      "cell_type": "markdown",
      "source": [
        "####Regresión logística:\n"
      ],
      "metadata": {
        "id": "YvEQ7sSjh9ZD"
      }
    },
    {
      "cell_type": "code",
      "source": [
        "modelo_regl = LogisticRegression(solver='lbfgs',random_state=1000)"
      ],
      "metadata": {
        "id": "_8dccloyhub7"
      },
      "execution_count": null,
      "outputs": []
    },
    {
      "cell_type": "code",
      "source": [
        "entrenamiento_modelo=modelo_regl.fit(x_train, y_train)\n",
        "predecciones=modelo_regl.predict(x_test)\n",
        "print( 'precisión datos de entrenamiento (accuracy):',modelo_regl.score(x_train,y_train))\n",
        "print('precisión datos de test (accuracy):',modelo_regl.score(x_test,y_test))"
      ],
      "metadata": {
        "colab": {
          "base_uri": "https://localhost:8080/"
        },
        "id": "etFe0p_riWrV",
        "outputId": "470b37a6-8245-40fd-809d-3caf5a23132d"
      },
      "execution_count": null,
      "outputs": [
        {
          "output_type": "stream",
          "name": "stdout",
          "text": [
            "precisión datos de entrenamiento (accuracy): 0.7170300214438885\n",
            "precisión datos de test (accuracy): 0.7193333333333334\n"
          ]
        }
      ]
    },
    {
      "cell_type": "code",
      "source": [
        "cm = confusion_matrix(y_test, predecciones)"
      ],
      "metadata": {
        "id": "x-09ICb4jLow"
      },
      "execution_count": null,
      "outputs": []
    },
    {
      "cell_type": "code",
      "source": [
        "disp = ConfusionMatrixDisplay(confusion_matrix=cm)\n",
        "disp.plot()"
      ],
      "metadata": {
        "colab": {
          "base_uri": "https://localhost:8080/",
          "height": 475
        },
        "id": "mDzx09cmjNbS",
        "outputId": "4dffad8c-48b0-41f3-85a9-5bc32b1877e0"
      },
      "execution_count": null,
      "outputs": [
        {
          "output_type": "execute_result",
          "data": {
            "text/plain": [
              "<sklearn.metrics._plot.confusion_matrix.ConfusionMatrixDisplay at 0x7faa9ea9a560>"
            ]
          },
          "metadata": {},
          "execution_count": 75
        },
        {
          "output_type": "display_data",
          "data": {
            "text/plain": [
              "<Figure size 640x480 with 2 Axes>"
            ],
            "image/png": "[encoded data removed]"
          },
          "metadata": {}
        }
      ]
    },
    {
      "cell_type": "markdown",
      "source": [
        "F1:"
      ],
      "metadata": {
        "id": "U-7qSoRklMoz"
      }
    },
    {
      "cell_type": "code",
      "source": [
        "f1_score(y_test, predecciones, average='weighted')"
      ],
      "metadata": {
        "colab": {
          "base_uri": "https://localhost:8080/"
        },
        "id": "nZuV6DLslDrF",
        "outputId": "2fdc9513-fa1a-41e4-def1-d6c9302acefb"
      },
      "execution_count": null,
      "outputs": [
        {
          "output_type": "execute_result",
          "data": {
            "text/plain": [
              "0.7407885115602179"
            ]
          },
          "metadata": {},
          "execution_count": 76
        }
      ]
    },
    {
      "cell_type": "markdown",
      "source": [
        "El área bajo la curva ROC:"
      ],
      "metadata": {
        "id": "QL9BB-jPlQUt"
      }
    },
    {
      "cell_type": "code",
      "source": [
        "roc_auc_score(y_test, predecciones)"
      ],
      "metadata": {
        "colab": {
          "base_uri": "https://localhost:8080/"
        },
        "id": "XZuUglXekzTd",
        "outputId": "952f5960-aead-46da-f120-ee2f360c3b4c"
      },
      "execution_count": null,
      "outputs": [
        {
          "output_type": "execute_result",
          "data": {
            "text/plain": [
              "0.70177820225574"
            ]
          },
          "metadata": {},
          "execution_count": 77
        }
      ]
    },
    {
      "cell_type": "markdown",
      "source": [
        "####Árboles de Decisión"
      ],
      "metadata": {
        "id": "qUSvT5yglYLT"
      }
    },
    {
      "cell_type": "code",
      "source": [
        "modelo_tree = DecisionTreeClassifier(max_depth = 10 ,random_state = 1000)"
      ],
      "metadata": {
        "id": "z0WPnEmGmKtC"
      },
      "execution_count": null,
      "outputs": []
    },
    {
      "cell_type": "code",
      "source": [
        "entrenamiento_modelo=modelo_tree.fit(x_train, y_train)\n",
        "predecciones=modelo_tree.predict(x_test)\n",
        "print( 'precisión datos de entrenamiento (accuracy):',modelo_tree.score(x_train,y_train))\n",
        "print('precisión datos de test (accuracy):',modelo_tree.score(x_test,y_test))"
      ],
      "metadata": {
        "colab": {
          "base_uri": "https://localhost:8080/"
        },
        "id": "k2K6U2bgmg4B",
        "outputId": "019f6016-4ce1-4525-9f39-3ae26204c854"
      },
      "execution_count": null,
      "outputs": [
        {
          "output_type": "stream",
          "name": "stdout",
          "text": [
            "precisión datos de entrenamiento (accuracy): 0.8802716225875625\n",
            "precisión datos de test (accuracy): 0.7896666666666666\n"
          ]
        }
      ]
    },
    {
      "cell_type": "code",
      "source": [
        "cm = confusion_matrix(y_test, predecciones)"
      ],
      "metadata": {
        "id": "o4pjGKpzmjdx"
      },
      "execution_count": null,
      "outputs": []
    },
    {
      "cell_type": "code",
      "source": [
        "disp = ConfusionMatrixDisplay(confusion_matrix=cm)\n",
        "disp.plot()"
      ],
      "metadata": {
        "colab": {
          "base_uri": "https://localhost:8080/",
          "height": 475
        },
        "id": "L55maQofm24Q",
        "outputId": "32d4035a-2f91-4995-9424-aff1632cea5f"
      },
      "execution_count": null,
      "outputs": [
        {
          "output_type": "execute_result",
          "data": {
            "text/plain": [
              "<sklearn.metrics._plot.confusion_matrix.ConfusionMatrixDisplay at 0x7faa9e828310>"
            ]
          },
          "metadata": {},
          "execution_count": 81
        },
        {
          "output_type": "display_data",
          "data": {
            "text/plain": [
              "<Figure size 640x480 with 2 Axes>"
            ],
            "image/png": "[encoded data removed]"
          },
          "metadata": {}
        }
      ]
    },
    {
      "cell_type": "markdown",
      "source": [
        "F1:"
      ],
      "metadata": {
        "id": "ZSRRiWq5nHKV"
      }
    },
    {
      "cell_type": "code",
      "source": [
        "f1_score(y_test, predecciones, average='weighted')"
      ],
      "metadata": {
        "colab": {
          "base_uri": "https://localhost:8080/"
        },
        "outputId": "3a562d2f-debd-4957-f61a-e9dec46c954f",
        "id": "j5cPAPDpnHKV"
      },
      "execution_count": null,
      "outputs": [
        {
          "output_type": "execute_result",
          "data": {
            "text/plain": [
              "0.7968897354776002"
            ]
          },
          "metadata": {},
          "execution_count": 82
        }
      ]
    },
    {
      "cell_type": "markdown",
      "source": [
        "El área bajo la curva ROC:"
      ],
      "metadata": {
        "id": "n3O9MymPnHKW"
      }
    },
    {
      "cell_type": "code",
      "source": [
        "roc_auc_score(y_test, predecciones)"
      ],
      "metadata": {
        "colab": {
          "base_uri": "https://localhost:8080/"
        },
        "outputId": "83aa3581-3209-4b9a-a832-08354b512e58",
        "id": "9MkBOzOUnHKW"
      },
      "execution_count": null,
      "outputs": [
        {
          "output_type": "execute_result",
          "data": {
            "text/plain": [
              "0.7243606300694582"
            ]
          },
          "metadata": {},
          "execution_count": 83
        }
      ]
    },
    {
      "cell_type": "markdown",
      "source": [
        "#### Gradient Boost"
      ],
      "metadata": {
        "id": "eP10DYIZnLbE"
      }
    },
    {
      "cell_type": "code",
      "source": [
        "modelo_gra = GradientBoostingClassifier(random_state=1000)"
      ],
      "metadata": {
        "id": "fzarP01loAUY"
      },
      "execution_count": null,
      "outputs": []
    },
    {
      "cell_type": "code",
      "source": [
        "entrenamiento_modelo=modelo_gra.fit(x_train, y_train)\n",
        "predecciones=modelo_gra.predict(x_test)\n",
        "print( 'precisión datos de entrenamiento (accuracy):',modelo_gra.score(x_train,y_train))\n",
        "print('precisión datos de test (accuracy):',modelo_gra.score(x_test,y_test))"
      ],
      "metadata": {
        "colab": {
          "base_uri": "https://localhost:8080/"
        },
        "id": "BVDUJ3KHoEsh",
        "outputId": "bd78b716-66be-4be3-cc21-4cf4f0de0313"
      },
      "execution_count": null,
      "outputs": [
        {
          "output_type": "stream",
          "name": "stdout",
          "text": [
            "precisión datos de entrenamiento (accuracy): 0.8813438170121516\n",
            "precisión datos de test (accuracy): 0.843\n"
          ]
        }
      ]
    },
    {
      "cell_type": "code",
      "source": [
        "cm = confusion_matrix(y_test, predecciones)"
      ],
      "metadata": {
        "id": "KRs67-lCoWLK"
      },
      "execution_count": null,
      "outputs": []
    },
    {
      "cell_type": "code",
      "source": [
        "disp = ConfusionMatrixDisplay(confusion_matrix=cm)\n",
        "disp.plot()"
      ],
      "metadata": {
        "colab": {
          "base_uri": "https://localhost:8080/",
          "height": 475
        },
        "outputId": "8ce8fd43-951d-477f-d0b1-c919c8f2947f",
        "id": "thMb_ruvoWLL"
      },
      "execution_count": null,
      "outputs": [
        {
          "output_type": "execute_result",
          "data": {
            "text/plain": [
              "<sklearn.metrics._plot.confusion_matrix.ConfusionMatrixDisplay at 0x7faa9c68d930>"
            ]
          },
          "metadata": {},
          "execution_count": 87
        },
        {
          "output_type": "display_data",
          "data": {
            "text/plain": [
              "<Figure size 640x480 with 2 Axes>"
            ],
            "image/png": "[encoded data removed]"
          },
          "metadata": {}
        }
      ]
    },
    {
      "cell_type": "markdown",
      "source": [
        "F1:"
      ],
      "metadata": {
        "id": "QdDp8XttoWLM"
      }
    },
    {
      "cell_type": "code",
      "source": [
        "f1_score(y_test, predecciones, average='weighted')"
      ],
      "metadata": {
        "colab": {
          "base_uri": "https://localhost:8080/"
        },
        "outputId": "71ee4fb5-de28-4408-8ba8-04a8ffd8bc4d",
        "id": "T1o7TEyOoWLM"
      },
      "execution_count": null,
      "outputs": [
        {
          "output_type": "execute_result",
          "data": {
            "text/plain": [
              "0.8428632542018989"
            ]
          },
          "metadata": {},
          "execution_count": 88
        }
      ]
    },
    {
      "cell_type": "markdown",
      "source": [
        "El área bajo la curva ROC:"
      ],
      "metadata": {
        "id": "tGZTqVIxoWLM"
      }
    },
    {
      "cell_type": "code",
      "source": [
        "roc_auc_score(y_test, predecciones)"
      ],
      "metadata": {
        "colab": {
          "base_uri": "https://localhost:8080/"
        },
        "outputId": "ca6b76b8-43a2-4732-be1d-0de25d4b2c0e",
        "id": "nkaJbFTWoWLN"
      },
      "execution_count": null,
      "outputs": [
        {
          "output_type": "execute_result",
          "data": {
            "text/plain": [
              "0.7633665507361289"
            ]
          },
          "metadata": {},
          "execution_count": 89
        }
      ]
    },
    {
      "cell_type": "markdown",
      "source": [
        "Finalmente, ROC_AUC es una medida que indica que tanto el modelo es capaz de\n",
        "distinguir entre clases y será la medida para seleccionar el modelo, teniendo en cuenta que es un problema no balanceado. Luego,\n",
        "en este caso el modelo con mejor desempeño en esta métrica es Gradient\n",
        "Boost, por lo tanto, será el modelo utilizado para predecir que clientes podrían abandonar el banco, y de esta forma formular estrategias para retención de estos"
      ],
      "metadata": {
        "id": "7JixyUlEnOfW"
      }
    },
    {
      "cell_type": "markdown",
      "source": [
        "¿Es su modelo interpretable?\n",
        "\n",
        "El modelo es interpretable para cualquier persona, ya que introduciendo la información de cualquier cliente se puede predecir si cerrara la cuenta o no, arrojando como salida 0 o 1, por lo tanto, cualquier persona no técnica puede entender el funcionamiento de esta y llegar a usarla, claro, después de adecuar el modelo en una página o app pertinente. De igual forma, para una persona con conocimientos en estadística podemos asegurar que el modelo tiene una buena performance, teniendo un ROC_AUC de 76%. Luego, esto es mejorable. Pero para un primer modelado es un buen resultado"
      ],
      "metadata": {
        "id": "WIVYH3qJsYXr"
      }
    },
    {
      "cell_type": "markdown",
      "source": [
        "¿Por qué escogió este modelo? Fue elegido por tener la mejor performance de entre los modelos entrenados, en este caso, como se dijo anteriormente, lo determinante fue el valor del ROC_AUC. Luego, sé probo este modelo, Gradient Boost, porque es usado en la industria y la academia en problemas de clasificación. Ya que son efectivos dado que combina diferentes modelos de machine learning para mejorar el desempeño y de igual forma elegir la respuesta"
      ],
      "metadata": {
        "id": "H-pVE_pPwQvL"
      }
    },
    {
      "cell_type": "markdown",
      "metadata": {
        "id": "07_EeQOnAm7l"
      },
      "source": [
        "## 3. Conclusiones\n",
        "\n",
        "Describa los resultados obtenidos de su modelo y defina posibles recomendaciones o sugerencias que se puedan derivar de éstos resultados."
      ]
    },
    {
      "cell_type": "markdown",
      "source": [
        "\n",
        "\n",
        "\n",
        "\n",
        "\n",
        "\n",
        "*   El modelo, Gradient Boosting tiene una buena performance, teniendo un ROC_AUC de 76%, lo cual se considera aceptable\n",
        "*   El modelo es interpretable para cualquier persona, ya que introduciendo la información de cualquier cliente se puede predecir si cerrara la cuenta o no, arrojando como salida 0 o 1\n",
        "\n"
      ],
      "metadata": {
        "id": "0J0yLCJXrbKV"
      }
    },
    {
      "cell_type": "markdown",
      "source": [
        "Para el futuro:"
      ],
      "metadata": {
        "id": "9djnhSnI-3BF"
      }
    },
    {
      "cell_type": "markdown",
      "source": [
        "El modelo aún tiene un gran margen de mejora. Por ejemplo, se podría\n",
        "variar las características de este para encontrar un mejor resultado o usar otros modelos de machine learning como redes neuronales. Igualmente con un poco más de tiempo se puede complementar todo con otras técnicas como lo puede de regularización"
      ],
      "metadata": {
        "id": "YK5rv5M0_WHw"
      }
    },
    {
      "cell_type": "markdown",
      "source": [
        "Luego, se propone la siguente solución en la nube:"
      ],
      "metadata": {
        "id": "rmfGJ7x7_CpL"
      }
    },
    {
      "cell_type": "markdown",
      "source": [
        "\n",
        "Implementaria una \"GCP solution\" aprovechando las herramientas y eventajas que ofrece esta plataforma,\n",
        "algunas de estas son:\n",
        "Latencia minima\n",
        "Mayor velocidad de procesamiento\n",
        "Minimas actividades de mantenimiento\n",
        "Escalable facilmente\n",
        "Obtener resultados de datos en tiempo real\n",
        "En primer lugar, se haria uso del servicio \"Cloud Pub/Sub\" que permite agregar datos de diferentes fuentes\n",
        "como bases de datos, dipositivos(computadores, celulares), entre otros. Luego, los datos serian enviados al\n",
        "servicio \"Cloud Dataflow\" el cual se encargaria del procesamiento (filtrar, transformar). Entonces, estos datos\n",
        "necesitan ser almacenados en un \"Data Warehouse\" para lo cual se usuaria el servicio \"Bigquery\" en la cual se\n",
        "podra consultar la información para realizar reportes (gráficos, informes, entre otros).Finalmente, se usuaria el\n",
        "servicio \"Cloud ML\" para implementar el modelos anteriormete explicado, obteniendo la información de\n",
        "\"Bigquery\" y enviando la información obtenida del modelo a \"Cloud Dataflow\" para que se pueda informar de los\n",
        "resultados. Como agregado si se cuenta información de otras fuentes se pueden conectar otros servicios a\n",
        "\"Cloud Dataflow\" como \"Cloud SQL\" y \"BigTable\". De igual forma si se necesita modificar los datos de\n",
        "\"Bigquery\" estos pueden ser enviados a Cloud Dataflow\" donde se transformaran para luego volver a\n",
        "\"Bigquery\"."
      ],
      "metadata": {
        "id": "Owa-sVO3-8sL"
      }
    },
    {
      "cell_type": "markdown",
      "source": [
        "####Muchas Gracias por la atención prestada! Feliz Día! =)"
      ],
      "metadata": {
        "id": "SXZ34Wdo_LPK"
      }
    }
  ],
  "metadata": {
    "kernelspec": {
      "display_name": "Python 3",
      "name": "python3"
    },
    "language_info": {
      "name": "python"
    },
    "pycharm": {
      "stem_cell": {
        "cell_type": "raw",
        "metadata": {
          "collapsed": false
        },
        "source": []
      }
    },
    "colab": {
      "provenance": []
    }
  },
  "nbformat": 4,
  "nbformat_minor": 0
}